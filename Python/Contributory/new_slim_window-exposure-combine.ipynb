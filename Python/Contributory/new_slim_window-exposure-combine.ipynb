{
 "cells": [
  {
   "cell_type": "code",
   "execution_count": 2,
   "id": "powered-sector",
   "metadata": {
    "papermill": {
     "duration": 0.291437,
     "end_time": "2021-04-26T18:15:39.790199",
     "exception": false,
     "start_time": "2021-04-26T18:15:39.498762",
     "status": "completed"
    },
    "tags": []
   },
   "outputs": [],
   "source": [
    "import pandas as pd\n",
    "import numpy as np\n",
    "import matplotlib as plt\n",
    "from pandas import Timestamp\n",
    "from datetime import datetime, timedelta\n",
    "import time"
   ]
  },
  {
   "cell_type": "code",
   "execution_count": 3,
   "id": "mathematical-penny",
   "metadata": {
    "papermill": {
     "duration": 0.047642,
     "end_time": "2021-04-26T18:15:39.879940",
     "exception": false,
     "start_time": "2021-04-26T18:15:39.832298",
     "status": "completed"
    },
    "tags": []
   },
   "outputs": [],
   "source": [
    "import pyodbc\n"
   ]
  },
  {
   "cell_type": "code",
   "execution_count": 4,
   "id": "linear-martial",
   "metadata": {
    "papermill": {
     "duration": 0.079189,
     "end_time": "2021-04-26T18:15:39.999449",
     "exception": false,
     "start_time": "2021-04-26T18:15:39.920260",
     "status": "completed"
    },
    "tags": []
   },
   "outputs": [],
   "source": [
    "server = 'ALAWDREDSQL201.risk.regn.net, 50255'\n",
    "database = 'red' # enter database name\n",
    "username = 'dasl_fidoanalytics'\n",
    "password = 'Jn$a0K29Ty' # add appropriate driver name\n",
    "cnxn = pyodbc.connect('DRIVER={ODBC Driver 17 for SQL Server};SERVER='+server+';DATABASE='+database+';UID='+username+';PWD='+ password)\n",
    "cursor = cnxn.cursor()"
   ]
  },
  {
   "cell_type": "markdown",
   "id": "legislative-answer",
   "metadata": {
    "papermill": {
     "duration": 0.039281,
     "end_time": "2021-04-26T18:15:40.078909",
     "exception": false,
     "start_time": "2021-04-26T18:15:40.039628",
     "status": "completed"
    },
    "tags": []
   },
   "source": [
    "### Data time range:  c.year_month >= 201901 and c.year_month < 202012\n",
    "- Not enough dataset for 202012 "
   ]
  },
  {
   "cell_type": "code",
   "execution_count": 5,
   "id": "special-badge",
   "metadata": {
    "papermill": {
     "duration": 0.047134,
     "end_time": "2021-04-26T18:15:40.166230",
     "exception": false,
     "start_time": "2021-04-26T18:15:40.119096",
     "status": "completed"
    },
    "tags": []
   },
   "outputs": [],
   "source": [
    "start = 202001\n"
   ]
  },
  {
   "cell_type": "code",
   "execution_count": 6,
   "id": "preliminary-bulgarian",
   "metadata": {
    "papermill": {
     "duration": 0.046613,
     "end_time": "2021-04-26T18:15:40.253259",
     "exception": false,
     "start_time": "2021-04-26T18:15:40.206646",
     "status": "completed"
    },
    "tags": [
     "parameters"
    ]
   },
   "outputs": [],
   "source": [
    "end = 202011"
   ]
  },
  {
   "cell_type": "code",
   "execution_count": 7,
   "id": "nearby-narrow",
   "metadata": {
    "papermill": {
     "duration": 0.048762,
     "end_time": "2021-04-26T18:15:40.431202",
     "exception": false,
     "start_time": "2021-04-26T18:15:40.382440",
     "status": "completed"
    },
    "tags": []
   },
   "outputs": [
    {
     "name": "stdout",
     "output_type": "stream",
     "text": [
      "CPU times: user 4 µs, sys: 1 µs, total: 5 µs\n",
      "Wall time: 7.63 µs\n"
     ]
    }
   ],
   "source": [
    "%%time\n",
    "query = ''' \n",
    "\n",
    "\n",
    "with base_pol_cte as (select e.year_month,e.ambest_sk, e.coverage_type_sk, e.policy_state_sk,a.groupname, a.shopgroup_sk,\n",
    "sum(e.cy_exposure) as earned_exposure\n",
    "from fact_imi_auto_policy_exposure e\n",
    "inner join dim_imi_ambest a on a.ambest_sk = e.ambest_sk\n",
    "where cy_date_sk >=20190101 and cy_date_sk <= 20201231\n",
    "group by e.year_month,e.ambest_sk,e.coverage_type_sk, e.policy_state_sk,a.groupname, a.shopgroup_sk),\n",
    "\n",
    "\n",
    "\n",
    "base_clm_wd_cte as (select w.year_month,w.ambest_sk,w.coverage_type_sk, w.policy_state_sk,w.window_sk,a.groupname, a.shopgroup_sk,\n",
    "sum(w.claim_reported_count) as claim_reported_count_window,\n",
    "sum(w.claim_paid_count) as paid_count_window,\n",
    "sum(w.claim_paid_closed_count) as claim_paid_closed_count_window, \n",
    "sum(w.daystoclose_adj) as daystoclose_adj_window,\n",
    "sum(w.daystopay_adj) as daystopay_adj_window,\n",
    "sum(w.paid_closed_claim_amount) as paid_closed_claim_amount_window\n",
    "from fact_imi_auto_claim_window w\n",
    "left join dim_imi_ambest a on a.ambest_sk = w.ambest_sk\n",
    "where w.cy_date_sk >=20190101 and w.cy_date_sk <= 20201231\n",
    "group by w.year_month,w.ambest_sk,w.coverage_type_sk, w.policy_state_sk,w.window_sk,a.groupname, a.shopgroup_sk)\n",
    "\n",
    "\n",
    "select w.year_month,w.policy_state_sk, w.coverage_type_sk, w.shopgroup_sk, w.window_sk, s.shopgroup_name, C.coverage_desc, g.state_province_cd,\n",
    "sum(e.earned_exposure) as earned_exposure , \n",
    "sum(w.claim_paid_closed_count_window) as claim_paid_closed_count_window, \n",
    "sum(w.claim_reported_count_window) as claim_reported_count_window , \n",
    "sum(w.daystoclose_adj_window) as daystoclose_adj_window,\n",
    "sum(w.daystopay_adj_window) as daystopay_adj_window,\n",
    "sum(paid_closed_claim_amount_window) as paid_closed_claim_amount_window,\n",
    "sum(w.paid_count_window) as paid_count_window\n",
    "from base_pol_cte e\n",
    "FULL OUTER JOIN base_clm_wd_cte w on w.ambest_sk = e.ambest_sk and w.coverage_type_sk = e.coverage_type_sk and w.policy_state_sk = e.policy_state_sk and w.shopgroup_sk = e.shopgroup_sk\n",
    "FULL OUTER JOIN dim_imi_auto_coverage_type c ON  w.coverage_type_sk = c.coverage_type_sk\n",
    "FULL OUTER JOIN  dim_geography_v g ON w.policy_state_sk = g.geography_sk\n",
    "FULL OUTER JOIN dim_imi_shopgroup S ON W.shopgroup_sk = s.shopgroup_sk\n",
    "where w.year_month >= {} and w.year_month <= {}\n",
    "and w.coverage_type_sk in (1,2,3,8)\n",
    "group by w.year_month,w.policy_state_sk, w.coverage_type_sk, w.shopgroup_sk,w.window_sk, s.shopgroup_name, c.coverage_desc, g.state_province_cd\n",
    "\n",
    "\n",
    "\n",
    "\n",
    "\n",
    "''';\n"
   ]
  },
  {
   "cell_type": "code",
   "execution_count": 8,
   "id": "accepted-throw",
   "metadata": {
    "papermill": {
     "duration": 78.858443,
     "end_time": "2021-04-26T18:16:59.333814",
     "exception": false,
     "start_time": "2021-04-26T18:15:40.475371",
     "status": "completed"
    },
    "tags": []
   },
   "outputs": [
    {
     "name": "stdout",
     "output_type": "stream",
     "text": [
      "CPU times: user 1.88 s, sys: 168 ms, total: 2.04 s\n",
      "Wall time: 35.7 s\n"
     ]
    },
    {
     "data": {
      "text/html": [
       "<div>\n",
       "<style scoped>\n",
       "    .dataframe tbody tr th:only-of-type {\n",
       "        vertical-align: middle;\n",
       "    }\n",
       "\n",
       "    .dataframe tbody tr th {\n",
       "        vertical-align: top;\n",
       "    }\n",
       "\n",
       "    .dataframe thead th {\n",
       "        text-align: right;\n",
       "    }\n",
       "</style>\n",
       "<table border=\"1\" class=\"dataframe\">\n",
       "  <thead>\n",
       "    <tr style=\"text-align: right;\">\n",
       "      <th></th>\n",
       "      <th>year_month</th>\n",
       "      <th>policy_state_sk</th>\n",
       "      <th>coverage_type_sk</th>\n",
       "      <th>shopgroup_sk</th>\n",
       "      <th>window_sk</th>\n",
       "      <th>shopgroup_name</th>\n",
       "      <th>coverage_desc</th>\n",
       "      <th>state_province_cd</th>\n",
       "      <th>earned_exposure</th>\n",
       "      <th>claim_paid_closed_count_window</th>\n",
       "      <th>claim_reported_count_window</th>\n",
       "      <th>daystoclose_adj_window</th>\n",
       "      <th>daystopay_adj_window</th>\n",
       "      <th>paid_closed_claim_amount_window</th>\n",
       "      <th>paid_count_window</th>\n",
       "    </tr>\n",
       "  </thead>\n",
       "  <tbody>\n",
       "    <tr>\n",
       "      <th>0</th>\n",
       "      <td>202010</td>\n",
       "      <td>49</td>\n",
       "      <td>3</td>\n",
       "      <td>75</td>\n",
       "      <td>3</td>\n",
       "      <td>COUNTRY MUTUAL</td>\n",
       "      <td>Comprehensive</td>\n",
       "      <td>WI</td>\n",
       "      <td>45834.657488</td>\n",
       "      <td>1872</td>\n",
       "      <td>2328</td>\n",
       "      <td>34584.0</td>\n",
       "      <td>34584.0</td>\n",
       "      <td>3497112</td>\n",
       "      <td>1896</td>\n",
       "    </tr>\n",
       "    <tr>\n",
       "      <th>1</th>\n",
       "      <td>202001</td>\n",
       "      <td>40</td>\n",
       "      <td>8</td>\n",
       "      <td>157</td>\n",
       "      <td>2</td>\n",
       "      <td>LIBERTY MUTUAL</td>\n",
       "      <td>Property Damage</td>\n",
       "      <td>RI</td>\n",
       "      <td>62839.246591</td>\n",
       "      <td>744</td>\n",
       "      <td>3528</td>\n",
       "      <td>9732.0</td>\n",
       "      <td>9384.0</td>\n",
       "      <td>2752824</td>\n",
       "      <td>864</td>\n",
       "    </tr>\n",
       "    <tr>\n",
       "      <th>2</th>\n",
       "      <td>202001</td>\n",
       "      <td>3</td>\n",
       "      <td>1</td>\n",
       "      <td>193</td>\n",
       "      <td>4</td>\n",
       "      <td>NATIONWIDE</td>\n",
       "      <td>Bodily Injury</td>\n",
       "      <td>AR</td>\n",
       "      <td>77635.125975</td>\n",
       "      <td>168</td>\n",
       "      <td>600</td>\n",
       "      <td>6024.0</td>\n",
       "      <td>5328.0</td>\n",
       "      <td>710088</td>\n",
       "      <td>216</td>\n",
       "    </tr>\n",
       "    <tr>\n",
       "      <th>3</th>\n",
       "      <td>202007</td>\n",
       "      <td>16</td>\n",
       "      <td>3</td>\n",
       "      <td>16</td>\n",
       "      <td>3</td>\n",
       "      <td>ALFA VISION</td>\n",
       "      <td>Comprehensive</td>\n",
       "      <td>IN</td>\n",
       "      <td>15671.967127</td>\n",
       "      <td>216</td>\n",
       "      <td>264</td>\n",
       "      <td>4692.0</td>\n",
       "      <td>4692.0</td>\n",
       "      <td>498048</td>\n",
       "      <td>264</td>\n",
       "    </tr>\n",
       "    <tr>\n",
       "      <th>4</th>\n",
       "      <td>202004</td>\n",
       "      <td>18</td>\n",
       "      <td>8</td>\n",
       "      <td>193</td>\n",
       "      <td>3</td>\n",
       "      <td>NATIONWIDE</td>\n",
       "      <td>Property Damage</td>\n",
       "      <td>KY</td>\n",
       "      <td>87478.175244</td>\n",
       "      <td>672</td>\n",
       "      <td>1752</td>\n",
       "      <td>16812.0</td>\n",
       "      <td>15972.0</td>\n",
       "      <td>2401584</td>\n",
       "      <td>768</td>\n",
       "    </tr>\n",
       "  </tbody>\n",
       "</table>\n",
       "</div>"
      ],
      "text/plain": [
       "   year_month  policy_state_sk  coverage_type_sk  shopgroup_sk  window_sk  \\\n",
       "0      202010               49                 3            75          3   \n",
       "1      202001               40                 8           157          2   \n",
       "2      202001                3                 1           193          4   \n",
       "3      202007               16                 3            16          3   \n",
       "4      202004               18                 8           193          3   \n",
       "\n",
       "   shopgroup_name    coverage_desc state_province_cd  earned_exposure  \\\n",
       "0  COUNTRY MUTUAL    Comprehensive                WI     45834.657488   \n",
       "1  LIBERTY MUTUAL  Property Damage                RI     62839.246591   \n",
       "2      NATIONWIDE    Bodily Injury                AR     77635.125975   \n",
       "3     ALFA VISION    Comprehensive                IN     15671.967127   \n",
       "4      NATIONWIDE  Property Damage                KY     87478.175244   \n",
       "\n",
       "   claim_paid_closed_count_window  claim_reported_count_window  \\\n",
       "0                            1872                         2328   \n",
       "1                             744                         3528   \n",
       "2                             168                          600   \n",
       "3                             216                          264   \n",
       "4                             672                         1752   \n",
       "\n",
       "   daystoclose_adj_window  daystopay_adj_window  \\\n",
       "0                 34584.0               34584.0   \n",
       "1                  9732.0                9384.0   \n",
       "2                  6024.0                5328.0   \n",
       "3                  4692.0                4692.0   \n",
       "4                 16812.0               15972.0   \n",
       "\n",
       "   paid_closed_claim_amount_window  paid_count_window  \n",
       "0                          3497112               1896  \n",
       "1                          2752824                864  \n",
       "2                           710088                216  \n",
       "3                           498048                264  \n",
       "4                          2401584                768  "
      ]
     },
     "execution_count": 8,
     "metadata": {},
     "output_type": "execute_result"
    }
   ],
   "source": [
    "%%time\n",
    "query = query.format(start, end)\n",
    "data = pd.read_sql(query, cnxn)\n",
    "data.head()"
   ]
  },
  {
   "cell_type": "code",
   "execution_count": 9,
   "id": "athletic-treasury",
   "metadata": {
    "papermill": {
     "duration": 0.048692,
     "end_time": "2021-04-26T18:16:59.424389",
     "exception": false,
     "start_time": "2021-04-26T18:16:59.375697",
     "status": "completed"
    },
    "tags": []
   },
   "outputs": [],
   "source": [
    "cnxn.close()  "
   ]
  },
  {
   "cell_type": "code",
   "execution_count": 10,
   "id": "premier-desert",
   "metadata": {
    "papermill": {
     "duration": 0.052181,
     "end_time": "2021-04-26T18:16:59.518230",
     "exception": false,
     "start_time": "2021-04-26T18:16:59.466049",
     "status": "completed"
    },
    "tags": []
   },
   "outputs": [
    {
     "data": {
      "text/plain": [
       "(242817, 15)"
      ]
     },
     "execution_count": 10,
     "metadata": {},
     "output_type": "execute_result"
    }
   ],
   "source": [
    "data.shape"
   ]
  },
  {
   "cell_type": "code",
   "execution_count": 11,
   "id": "alive-thong",
   "metadata": {},
   "outputs": [
    {
     "data": {
      "text/plain": [
       "202001"
      ]
     },
     "execution_count": 11,
     "metadata": {},
     "output_type": "execute_result"
    }
   ],
   "source": [
    "min(data['year_month'])"
   ]
  },
  {
   "cell_type": "code",
   "execution_count": 12,
   "id": "spanish-strength",
   "metadata": {},
   "outputs": [
    {
     "data": {
      "text/plain": [
       "202011"
      ]
     },
     "execution_count": 12,
     "metadata": {},
     "output_type": "execute_result"
    }
   ],
   "source": [
    "max(data['year_month'])"
   ]
  },
  {
   "cell_type": "markdown",
   "id": "complex-journey",
   "metadata": {
    "papermill": {
     "duration": 0.040102,
     "end_time": "2021-04-26T18:16:59.607269",
     "exception": false,
     "start_time": "2021-04-26T18:16:59.567167",
     "status": "completed"
    },
    "tags": []
   },
   "source": [
    "### change the year_month format \n",
    "- 201909 to 2019-09-01"
   ]
  },
  {
   "cell_type": "code",
   "execution_count": 13,
   "id": "sought-imaging",
   "metadata": {
    "papermill": {
     "duration": 2.456608,
     "end_time": "2021-04-26T18:17:02.107881",
     "exception": false,
     "start_time": "2021-04-26T18:16:59.651273",
     "status": "completed"
    },
    "tags": []
   },
   "outputs": [],
   "source": [
    "df = pd.DataFrame(data['year_month'].tolist(), columns = ['year_month_list']) \n",
    "df['year_month_str'] = df['year_month_list'].astype(str) \n",
    "df['year_month_format'] = df['year_month_str'].apply(lambda x: datetime.strptime(x, '%Y%m'))\n",
    "data['year_month_format'] = df['year_month_format']\n",
    "max_date = max(data['year_month_format'])\n",
    "data['max_date'] = max_date"
   ]
  },
  {
   "cell_type": "code",
   "execution_count": 14,
   "id": "optional-woman",
   "metadata": {
    "papermill": {
     "duration": 0.050389,
     "end_time": "2021-04-26T18:17:02.203626",
     "exception": false,
     "start_time": "2021-04-26T18:17:02.153237",
     "status": "completed"
    },
    "tags": []
   },
   "outputs": [],
   "source": [
    "def month_diff(a, b):\n",
    "    return 12 * (a.dt.year - b.dt.year) + (a.dt.month - b.dt.month)"
   ]
  },
  {
   "cell_type": "code",
   "execution_count": 15,
   "id": "loving-convertible",
   "metadata": {
    "papermill": {
     "duration": 0.149779,
     "end_time": "2021-04-26T18:17:02.402587",
     "exception": false,
     "start_time": "2021-04-26T18:17:02.252808",
     "status": "completed"
    },
    "tags": []
   },
   "outputs": [],
   "source": [
    "months_diff = month_diff(data['max_date'], data['year_month_format'])\n",
    "data['months_diff'] = months_diff"
   ]
  },
  {
   "cell_type": "code",
   "execution_count": 16,
   "id": "worse-portsmouth",
   "metadata": {
    "papermill": {
     "duration": 0.327004,
     "end_time": "2021-04-26T18:17:02.770379",
     "exception": false,
     "start_time": "2021-04-26T18:17:02.443375",
     "status": "completed"
    },
    "tags": []
   },
   "outputs": [
    {
     "name": "stderr",
     "output_type": "stream",
     "text": [
      "<ipython-input-16-57f2461080e7>:4: SettingWithCopyWarning: \n",
      "A value is trying to be set on a copy of a slice from a DataFrame\n",
      "\n",
      "See the caveats in the documentation: https://pandas.pydata.org/pandas-docs/stable/user_guide/indexing.html#returning-a-view-versus-a-copy\n",
      "  data['month_label'] [data['month_label'] =='Prior-Month-0'] = 'Current-Month'\n"
     ]
    }
   ],
   "source": [
    "prior = ['Prior-Month-']*data.shape[0]    \n",
    "date_reverse_str = months_diff.astype(str)        \n",
    "data['month_label'] = prior + date_reverse_str\n",
    "data['month_label'] [data['month_label'] =='Prior-Month-0'] = 'Current-Month'\n"
   ]
  },
  {
   "cell_type": "markdown",
   "id": "premier-stephen",
   "metadata": {
    "papermill": {
     "duration": 0.046034,
     "end_time": "2021-04-26T18:17:02.857878",
     "exception": false,
     "start_time": "2021-04-26T18:17:02.811844",
     "status": "completed"
    },
    "tags": []
   },
   "source": [
    "## Check data quality"
   ]
  },
  {
   "cell_type": "code",
   "execution_count": 17,
   "id": "pacific-killer",
   "metadata": {
    "papermill": {
     "duration": 0.047708,
     "end_time": "2021-04-26T18:17:02.953003",
     "exception": false,
     "start_time": "2021-04-26T18:17:02.905295",
     "status": "completed"
    },
    "tags": []
   },
   "outputs": [],
   "source": [
    "cols = [\n",
    "'year_month_format',\n",
    "'month_label',\n",
    "'claim_reported_count_window',\n",
    "'paid_closed_claim_amount_window',\n",
    "'claim_paid_closed_count_window',\n",
    "'earned_exposure',\n",
    "'policy_state_sk',\n",
    "'coverage_type_sk',\n",
    "'shopgroup_sk',\n",
    "'window_sk',\n",
    "'shopgroup_name',\n",
    "'coverage_desc',\n",
    "'state_province_cd']"
   ]
  },
  {
   "cell_type": "code",
   "execution_count": 18,
   "id": "standard-scholar",
   "metadata": {
    "papermill": {
     "duration": 0.082092,
     "end_time": "2021-04-26T18:17:03.077948",
     "exception": false,
     "start_time": "2021-04-26T18:17:02.995856",
     "status": "completed"
    },
    "tags": []
   },
   "outputs": [],
   "source": [
    "data2 = data[cols]"
   ]
  },
  {
   "cell_type": "markdown",
   "id": "deluxe-liberia",
   "metadata": {
    "papermill": {
     "duration": 0.040765,
     "end_time": "2021-04-26T18:17:03.186109",
     "exception": false,
     "start_time": "2021-04-26T18:17:03.145344",
     "status": "completed"
    },
    "tags": []
   },
   "source": [
    "## Check $0 claim paid amount and the 0 claim count"
   ]
  },
  {
   "cell_type": "code",
   "execution_count": 19,
   "id": "normal-japanese",
   "metadata": {
    "papermill": {
     "duration": 0.061764,
     "end_time": "2021-04-26T18:17:03.289483",
     "exception": false,
     "start_time": "2021-04-26T18:17:03.227719",
     "status": "completed"
    },
    "tags": []
   },
   "outputs": [],
   "source": [
    "zero_claims= data2[(data2['paid_closed_claim_amount_window'] ==0) ]"
   ]
  },
  {
   "cell_type": "code",
   "execution_count": 20,
   "id": "correct-terry",
   "metadata": {
    "papermill": {
     "duration": 0.049256,
     "end_time": "2021-04-26T18:17:03.385690",
     "exception": false,
     "start_time": "2021-04-26T18:17:03.336434",
     "status": "completed"
    },
    "tags": []
   },
   "outputs": [
    {
     "data": {
      "text/plain": [
       "(31829, 13)"
      ]
     },
     "execution_count": 20,
     "metadata": {},
     "output_type": "execute_result"
    }
   ],
   "source": [
    "zero_claims.shape"
   ]
  },
  {
   "cell_type": "code",
   "execution_count": 21,
   "id": "respective-madness",
   "metadata": {
    "papermill": {
     "duration": 0.050797,
     "end_time": "2021-04-26T18:17:03.478115",
     "exception": false,
     "start_time": "2021-04-26T18:17:03.427318",
     "status": "completed"
    },
    "tags": []
   },
   "outputs": [
    {
     "name": "stdout",
     "output_type": "stream",
     "text": [
      "The percent of the claims have either $0 claim amount or 0 claim count 13.0 %\n"
     ]
    }
   ],
   "source": [
    "print('The percent of the claims have either $0 claim amount or 0 claim count',round(len(zero_claims) / len(data2) *100,0),'%')"
   ]
  },
  {
   "cell_type": "markdown",
   "id": "twenty-continuity",
   "metadata": {
    "papermill": {
     "duration": 0.041727,
     "end_time": "2021-04-26T18:17:03.562296",
     "exception": false,
     "start_time": "2021-04-26T18:17:03.520569",
     "status": "completed"
    },
    "tags": []
   },
   "source": [
    "## Need to exclude the data with $0 paid claim amount and 0 paid counts "
   ]
  },
  {
   "cell_type": "code",
   "execution_count": 22,
   "id": "known-flesh",
   "metadata": {
    "papermill": {
     "duration": 0.091285,
     "end_time": "2021-04-26T18:17:03.695444",
     "exception": false,
     "start_time": "2021-04-26T18:17:03.604159",
     "status": "completed"
    },
    "tags": []
   },
   "outputs": [],
   "source": [
    "good_data = data2[(data2['paid_closed_claim_amount_window'] >0) & (data2['claim_paid_closed_count_window'] >0)]"
   ]
  },
  {
   "cell_type": "code",
   "execution_count": 23,
   "id": "perfect-decrease",
   "metadata": {
    "papermill": {
     "duration": 0.049323,
     "end_time": "2021-04-26T18:17:03.789770",
     "exception": false,
     "start_time": "2021-04-26T18:17:03.740447",
     "status": "completed"
    },
    "tags": []
   },
   "outputs": [
    {
     "data": {
      "text/plain": [
       "(210988, 13)"
      ]
     },
     "execution_count": 23,
     "metadata": {},
     "output_type": "execute_result"
    }
   ],
   "source": [
    "good_data.shape"
   ]
  },
  {
   "cell_type": "code",
   "execution_count": 24,
   "id": "million-nicholas",
   "metadata": {
    "papermill": {
     "duration": 0.116398,
     "end_time": "2021-04-26T18:17:03.948850",
     "exception": false,
     "start_time": "2021-04-26T18:17:03.832452",
     "status": "completed"
    },
    "tags": []
   },
   "outputs": [],
   "source": [
    "\n",
    "Current_Month_units = pd.DataFrame(good_data[good_data['month_label'] == 'Current-Month'].pivot_table(index=['policy_state_sk','coverage_type_sk','shopgroup_sk','window_sk','shopgroup_name','coverage_desc','state_province_cd'],\n",
    "               margins=False,\n",
    "               #margins_name='total',  # defaults to 'All'\n",
    "                values=['paid_closed_claim_amount_window','claim_paid_closed_count_window','claim_reported_count_window', 'earned_exposure'],\n",
    "                aggfunc={'paid_closed_claim_amount_window':np.sum,\n",
    "                       'claim_paid_closed_count_window':np.sum,\n",
    "                        'claim_reported_count_window':np.sum,\n",
    "                        'earned_exposure':np.sum}))\n",
    "Current_Month_units.columns= [ 'claim_paid_closed_count_window_cur_mos','claim_reported_count_window_cur_mos', 'earned_exposure_cur_mos','paid_closed_claim_amount_window_cur_mos']\n",
    "Current_Month_units['paid_closed_severity_window_cur_mos'] =  Current_Month_units['paid_closed_claim_amount_window_cur_mos']/Current_Month_units['claim_paid_closed_count_window_cur_mos']\n",
    "Current_Month_units['reported_frequency_window_cur_mos'] =  Current_Month_units['claim_reported_count_window_cur_mos']/Current_Month_units['earned_exposure_cur_mos']\n"
   ]
  },
  {
   "cell_type": "code",
   "execution_count": 25,
   "id": "baking-supply",
   "metadata": {
    "papermill": {
     "duration": 0.107377,
     "end_time": "2021-04-26T18:17:04.099573",
     "exception": false,
     "start_time": "2021-04-26T18:17:03.992196",
     "status": "completed"
    },
    "tags": []
   },
   "outputs": [],
   "source": [
    "prior_month1_units = pd.DataFrame(good_data[good_data['month_label'] == 'Prior-Month-1'].pivot_table(index=['policy_state_sk','coverage_type_sk','shopgroup_sk','window_sk','shopgroup_name','coverage_desc','state_province_cd'],\n",
    "                  margins=False,\n",
    "               #margins_name='total',  # defaults to 'All'\n",
    "                values=['paid_closed_claim_amount_window','claim_paid_closed_count_window','claim_reported_count_window','earned_exposure'],\n",
    "               aggfunc={'paid_closed_claim_amount_window':np.sum,\n",
    "                       'claim_paid_closed_count_window':np.sum,\n",
    "                        'claim_reported_count_window':np.sum,\n",
    "                        'earned_exposure':np.sum}))\n",
    "prior_month1_units.columns= ['claim_paid_closed_count_window_prior_1mos', 'claim_reported_count_window_prior_1mos','earned_exposure_prior_1mos','paid_closed_claim_amount_prior_1mos']\n",
    "prior_month1_units['paid_closed_severity_window_prior_1mos'] =  prior_month1_units['paid_closed_claim_amount_prior_1mos']/prior_month1_units['claim_paid_closed_count_window_prior_1mos']\n",
    "prior_month1_units['reported_frequency_window_prior_1mos'] =  prior_month1_units['claim_reported_count_window_prior_1mos']/prior_month1_units['earned_exposure_prior_1mos']\n"
   ]
  },
  {
   "cell_type": "code",
   "execution_count": 26,
   "id": "rotary-tourist",
   "metadata": {
    "papermill": {
     "duration": 0.107571,
     "end_time": "2021-04-26T18:17:04.250924",
     "exception": false,
     "start_time": "2021-04-26T18:17:04.143353",
     "status": "completed"
    },
    "tags": []
   },
   "outputs": [],
   "source": [
    "prior_month2_units = pd.DataFrame(good_data[good_data['month_label'] == 'Prior-Month-2'].pivot_table(index=['policy_state_sk','coverage_type_sk','shopgroup_sk','window_sk','shopgroup_name','coverage_desc','state_province_cd'],\n",
    "                  margins=False,\n",
    "               #margins_name='total',  # defaults to 'All'\n",
    "                values=['paid_closed_claim_amount_window','claim_paid_closed_count_window','claim_reported_count_window','earned_exposure'],\n",
    "               aggfunc={'paid_closed_claim_amount_window':np.sum,\n",
    "                       'claim_paid_closed_count_window':np.sum,\n",
    "                        'claim_reported_count_window':np.sum,\n",
    "                        'earned_exposure':np.sum}))\n",
    "prior_month2_units.columns= ['claim_paid_closed_count_window_prior_2mos', 'claim_reported_count_window_prior_2mos','earned_exposure_prior_2mos','paid_closed_claim_amount_prior_2mos']\n",
    "prior_month2_units['paid_closed_severity_window_prior_2mos'] =  prior_month2_units['paid_closed_claim_amount_prior_2mos']/prior_month2_units['claim_paid_closed_count_window_prior_2mos']\n",
    "prior_month2_units['reported_frequency_window_prior_2mos'] =  prior_month2_units['claim_reported_count_window_prior_2mos']/prior_month2_units['earned_exposure_prior_2mos']\n",
    "\n",
    "\n",
    "\n"
   ]
  },
  {
   "cell_type": "code",
   "execution_count": 27,
   "id": "together-illustration",
   "metadata": {
    "papermill": {
     "duration": 0.108315,
     "end_time": "2021-04-26T18:17:04.403199",
     "exception": false,
     "start_time": "2021-04-26T18:17:04.294884",
     "status": "completed"
    },
    "tags": []
   },
   "outputs": [],
   "source": [
    "prior_month3_units = pd.DataFrame(good_data[good_data['month_label'] == 'Prior-Month-3'].pivot_table(index=['policy_state_sk','coverage_type_sk','shopgroup_sk','window_sk','shopgroup_name','coverage_desc','state_province_cd'],\n",
    "                  margins=False,\n",
    "               #margins_name='total',  # defaults to 'All'\n",
    "                values=['paid_closed_claim_amount_window','claim_paid_closed_count_window','claim_reported_count_window','earned_exposure'],\n",
    "               aggfunc={'paid_closed_claim_amount_window':np.sum,\n",
    "                       'claim_paid_closed_count_window':np.sum,\n",
    "                        'claim_reported_count_window':np.sum,\n",
    "                        'earned_exposure':np.sum}))\n",
    "prior_month3_units.columns= ['claim_paid_closed_count_window_prior_3mos', 'claim_reported_count_window_prior_3mos','earned_exposure_prior_3mos','paid_closed_claim_amount_prior_3mos']\n",
    "prior_month3_units['paid_closed_severity_window_prior_3mos'] =  prior_month3_units['paid_closed_claim_amount_prior_3mos']/prior_month3_units['claim_paid_closed_count_window_prior_3mos']\n",
    "prior_month3_units['reported_frequency_window_prior_3mos'] =  prior_month3_units['claim_reported_count_window_prior_3mos']/prior_month3_units['earned_exposure_prior_3mos']\n",
    "\n",
    "\n",
    "\n",
    "\n",
    "\n"
   ]
  },
  {
   "cell_type": "code",
   "execution_count": 28,
   "id": "capable-carrier",
   "metadata": {
    "papermill": {
     "duration": 0.108189,
     "end_time": "2021-04-26T18:17:04.554716",
     "exception": false,
     "start_time": "2021-04-26T18:17:04.446527",
     "status": "completed"
    },
    "tags": []
   },
   "outputs": [],
   "source": [
    "prior_month4_units = pd.DataFrame(good_data[good_data['month_label'] == 'Prior-Month-4'].pivot_table(index=['policy_state_sk','coverage_type_sk','shopgroup_sk','window_sk','shopgroup_name','coverage_desc','state_province_cd'],\n",
    "                  margins=False,\n",
    "               #margins_name='total',  # defaults to 'All'\n",
    "                values=['paid_closed_claim_amount_window','claim_paid_closed_count_window','claim_reported_count_window','earned_exposure'],\n",
    "               aggfunc={'paid_closed_claim_amount_window':np.sum,\n",
    "                       'claim_paid_closed_count_window':np.sum,\n",
    "                        'claim_reported_count_window':np.sum,\n",
    "                        'earned_exposure':np.sum}))\n",
    "prior_month4_units.columns= ['claim_paid_closed_count_window_prior_4mos', 'claim_reported_count_window_prior_4mos','earned_exposure_prior_4mos','paid_closed_claim_amount_prior_4mos']\n",
    "prior_month4_units['paid_closed_severity_window_prior_4mos'] =  prior_month4_units['paid_closed_claim_amount_prior_4mos']/prior_month4_units['claim_paid_closed_count_window_prior_4mos']\n",
    "prior_month4_units['reported_frequency_window_prior_4mos'] =  prior_month4_units['claim_reported_count_window_prior_4mos']/prior_month4_units['earned_exposure_prior_4mos']\n",
    "\n",
    "\n",
    "\n",
    "\n",
    "\n",
    "\n",
    "\n"
   ]
  },
  {
   "cell_type": "code",
   "execution_count": 29,
   "id": "acoustic-bermuda",
   "metadata": {
    "papermill": {
     "duration": 0.106419,
     "end_time": "2021-04-26T18:17:04.704113",
     "exception": false,
     "start_time": "2021-04-26T18:17:04.597694",
     "status": "completed"
    },
    "tags": []
   },
   "outputs": [],
   "source": [
    "prior_month5_units = pd.DataFrame(good_data[good_data['month_label'] == 'Prior-Month-5'].pivot_table(index=['policy_state_sk','coverage_type_sk','shopgroup_sk','window_sk','shopgroup_name','coverage_desc','state_province_cd'],\n",
    "                  margins=False,\n",
    "               #margins_name='total',  # defaults to 'All'\n",
    "                values=['paid_closed_claim_amount_window','claim_paid_closed_count_window','claim_reported_count_window','earned_exposure'],\n",
    "               aggfunc={'paid_closed_claim_amount_window':np.sum,\n",
    "                       'claim_paid_closed_count_window':np.sum,\n",
    "                        'claim_reported_count_window':np.sum,\n",
    "                        'earned_exposure':np.sum}))\n",
    "prior_month5_units.columns= ['claim_paid_closed_count_window_prior_5mos', 'claim_reported_count_window_prior_5mos','earned_exposure_prior_5mos','paid_closed_claim_amount_prior_5mos']\n",
    "prior_month5_units['paid_closed_severity_window_prior_5mos'] =  prior_month5_units['paid_closed_claim_amount_prior_5mos']/prior_month5_units['claim_paid_closed_count_window_prior_5mos']\n",
    "prior_month5_units['reported_frequency_window_prior_5mos'] =  prior_month5_units['claim_reported_count_window_prior_5mos']/prior_month5_units['earned_exposure_prior_5mos']\n",
    "\n",
    "\n",
    "\n"
   ]
  },
  {
   "cell_type": "code",
   "execution_count": 30,
   "id": "racial-humor",
   "metadata": {},
   "outputs": [],
   "source": [
    "prior_month6_units = pd.DataFrame(good_data[good_data['month_label'] == 'Prior-Month-6'].pivot_table(index=['policy_state_sk','coverage_type_sk','shopgroup_sk','window_sk','shopgroup_name','coverage_desc','state_province_cd'],\n",
    "                  margins=False,\n",
    "               #margins_name='total',  # defaults to 'All'\n",
    "                values=['paid_closed_claim_amount_window','claim_paid_closed_count_window','claim_reported_count_window','earned_exposure'],\n",
    "               aggfunc={'paid_closed_claim_amount_window':np.sum,\n",
    "                       'claim_paid_closed_count_window':np.sum,\n",
    "                        'claim_reported_count_window':np.sum,\n",
    "                        'earned_exposure':np.sum}))\n",
    "prior_month6_units.columns= ['claim_paid_closed_count_window_prior_6mos', 'claim_reported_count_window_prior_6mos','earned_exposure_prior_6mos','paid_closed_claim_amount_prior_6mos']\n",
    "prior_month6_units['paid_closed_severity_window_prior_6mos'] =  prior_month6_units['paid_closed_claim_amount_prior_6mos']/prior_month6_units['claim_paid_closed_count_window_prior_6mos']\n",
    "prior_month6_units['reported_frequency_window_prior_6mos'] =  prior_month6_units['claim_reported_count_window_prior_6mos']/prior_month6_units['earned_exposure_prior_6mos']\n",
    "\n"
   ]
  },
  {
   "cell_type": "code",
   "execution_count": 31,
   "id": "public-romance",
   "metadata": {
    "papermill": {
     "duration": 0.048599,
     "end_time": "2021-04-26T18:17:04.795088",
     "exception": false,
     "start_time": "2021-04-26T18:17:04.746489",
     "status": "completed"
    },
    "tags": []
   },
   "outputs": [],
   "source": [
    "frames = [Current_Month_units, prior_month1_units, prior_month2_units, prior_month3_units,prior_month4_units,prior_month5_units, prior_month6_units]"
   ]
  },
  {
   "cell_type": "code",
   "execution_count": 32,
   "id": "auburn-circular",
   "metadata": {
    "papermill": {
     "duration": 0.704711,
     "end_time": "2021-04-26T18:17:05.542208",
     "exception": false,
     "start_time": "2021-04-26T18:17:04.837497",
     "status": "completed"
    },
    "tags": []
   },
   "outputs": [],
   "source": [
    "result = pd.concat(frames,axis=1, sort=False)"
   ]
  },
  {
   "cell_type": "markdown",
   "id": "functional-breed",
   "metadata": {
    "papermill": {
     "duration": 0.042692,
     "end_time": "2021-04-26T18:17:05.627444",
     "exception": false,
     "start_time": "2021-04-26T18:17:05.584752",
     "status": "completed"
    },
    "tags": []
   },
   "source": [
    "### Check Number of NA for severity"
   ]
  },
  {
   "cell_type": "markdown",
   "id": "disturbed-vienna",
   "metadata": {
    "papermill": {
     "duration": 0.043459,
     "end_time": "2021-04-26T18:17:05.714824",
     "exception": false,
     "start_time": "2021-04-26T18:17:05.671365",
     "status": "completed"
    },
    "tags": []
   },
   "source": [
    "## Replace NA to 0\n",
    "- The reason of NA appear: for per pilicy_state_sk, coverage_type, shopgroup_sk and name, there's no claim paid amounts/counts for certain months "
   ]
  },
  {
   "cell_type": "code",
   "execution_count": 33,
   "id": "hollow-glenn",
   "metadata": {
    "papermill": {
     "duration": 0.062726,
     "end_time": "2021-04-26T18:17:05.819964",
     "exception": false,
     "start_time": "2021-04-26T18:17:05.757238",
     "status": "completed"
    },
    "tags": []
   },
   "outputs": [],
   "source": [
    "result2 = pd.DataFrame(result).fillna(0)\n",
    "result2.head()\n",
    "final_result = result2"
   ]
  },
  {
   "cell_type": "markdown",
   "id": "ceramic-february",
   "metadata": {
    "papermill": {
     "duration": 0.0428,
     "end_time": "2021-04-26T18:17:05.906769",
     "exception": false,
     "start_time": "2021-04-26T18:17:05.863969",
     "status": "completed"
    },
    "tags": []
   },
   "source": [
    "## Add alerts for severity"
   ]
  },
  {
   "cell_type": "code",
   "execution_count": 34,
   "id": "tender-gambling",
   "metadata": {
    "papermill": {
     "duration": 0.055432,
     "end_time": "2021-04-26T18:17:06.006433",
     "exception": false,
     "start_time": "2021-04-26T18:17:05.951001",
     "status": "completed"
    },
    "tags": []
   },
   "outputs": [],
   "source": [
    "final_result['avg_severity_6mos'] =  final_result[['paid_closed_severity_window_prior_1mos',\n",
    "                                                   'paid_closed_severity_window_prior_2mos',\n",
    "                                                   'paid_closed_severity_window_prior_3mos',\n",
    "                                                   'paid_closed_severity_window_prior_4mos',\n",
    "                                                   'paid_closed_severity_window_prior_5mos',\n",
    "                                                  'paid_closed_severity_window_prior_6mos']].mean(axis=1)"
   ]
  },
  {
   "cell_type": "code",
   "execution_count": 35,
   "id": "precious-mention",
   "metadata": {
    "papermill": {
     "duration": 0.058322,
     "end_time": "2021-04-26T18:17:06.108744",
     "exception": false,
     "start_time": "2021-04-26T18:17:06.050422",
     "status": "completed"
    },
    "tags": []
   },
   "outputs": [],
   "source": [
    "final_result['std_severity_6mos'] = final_result[['paid_closed_severity_window_prior_1mos',\n",
    "                                                  'paid_closed_severity_window_prior_2mos',\n",
    "                                                  'paid_closed_severity_window_prior_3mos',\n",
    "                                                  'paid_closed_severity_window_prior_4mos', \n",
    "                                                  'paid_closed_severity_window_prior_5mos',\n",
    "                                                 'paid_closed_severity_window_prior_6mos']].std(axis=1)"
   ]
  },
  {
   "cell_type": "markdown",
   "id": "extended-concern",
   "metadata": {
    "papermill": {
     "duration": 0.043286,
     "end_time": "2021-04-26T18:17:06.194901",
     "exception": false,
     "start_time": "2021-04-26T18:17:06.151615",
     "status": "completed"
    },
    "tags": []
   },
   "source": [
    "#### calculating upper-bound and lower-bound for severity. \n",
    "- If the lower bound < 0, then set lower-bound = 0"
   ]
  },
  {
   "cell_type": "code",
   "execution_count": 36,
   "id": "affecting-particular",
   "metadata": {
    "papermill": {
     "duration": 0.050271,
     "end_time": "2021-04-26T18:17:06.290773",
     "exception": false,
     "start_time": "2021-04-26T18:17:06.240502",
     "status": "completed"
    },
    "tags": []
   },
   "outputs": [],
   "source": [
    "final_result['severity_threshold_up'] = final_result['avg_severity_6mos'] + 6.5*final_result['std_severity_6mos']"
   ]
  },
  {
   "cell_type": "code",
   "execution_count": 37,
   "id": "addressed-softball",
   "metadata": {
    "papermill": {
     "duration": 0.058744,
     "end_time": "2021-04-26T18:17:06.391362",
     "exception": false,
     "start_time": "2021-04-26T18:17:06.332618",
     "status": "completed"
    },
    "tags": []
   },
   "outputs": [],
   "source": [
    "severity_threshold_low = final_result['avg_severity_6mos'] - 5*final_result['std_severity_6mos']\n",
    "final_result['severity_threshold_low'] = severity_threshold_low.apply(lambda x: 0 if x < 0 else x)\n"
   ]
  },
  {
   "cell_type": "markdown",
   "id": "incorporated-magic",
   "metadata": {
    "papermill": {
     "duration": 0.041911,
     "end_time": "2021-04-26T18:17:06.476203",
     "exception": false,
     "start_time": "2021-04-26T18:17:06.434292",
     "status": "completed"
    },
    "tags": []
   },
   "source": [
    "### Add alerts to Frequency "
   ]
  },
  {
   "cell_type": "code",
   "execution_count": 38,
   "id": "former-florence",
   "metadata": {
    "papermill": {
     "duration": 0.053574,
     "end_time": "2021-04-26T18:17:06.572237",
     "exception": false,
     "start_time": "2021-04-26T18:17:06.518663",
     "status": "completed"
    },
    "tags": []
   },
   "outputs": [],
   "source": [
    "final_result['avg_freq_6mos'] =  final_result[['reported_frequency_window_cur_mos',\n",
    "'reported_frequency_window_prior_1mos',\n",
    "'reported_frequency_window_prior_2mos',\n",
    "'reported_frequency_window_prior_3mos',\n",
    "'reported_frequency_window_prior_4mos',\n",
    "'reported_frequency_window_prior_5mos',\n",
    "'reported_frequency_window_prior_6mos']].mean(axis=1)"
   ]
  },
  {
   "cell_type": "code",
   "execution_count": 39,
   "id": "binding-outdoors",
   "metadata": {
    "papermill": {
     "duration": 0.055562,
     "end_time": "2021-04-26T18:17:06.670050",
     "exception": false,
     "start_time": "2021-04-26T18:17:06.614488",
     "status": "completed"
    },
    "tags": []
   },
   "outputs": [],
   "source": [
    "final_result['std_freq_6mos'] =  final_result[['reported_frequency_window_cur_mos',\n",
    "'reported_frequency_window_prior_1mos',\n",
    "'reported_frequency_window_prior_2mos',\n",
    "'reported_frequency_window_prior_3mos',\n",
    "'reported_frequency_window_prior_4mos',\n",
    "'reported_frequency_window_prior_5mos',\n",
    "'reported_frequency_window_prior_5mos',\n",
    " 'reported_frequency_window_prior_6mos']].std(axis=1)"
   ]
  },
  {
   "cell_type": "code",
   "execution_count": 40,
   "id": "average-prevention",
   "metadata": {
    "papermill": {
     "duration": 0.048787,
     "end_time": "2021-04-26T18:17:06.759911",
     "exception": false,
     "start_time": "2021-04-26T18:17:06.711124",
     "status": "completed"
    },
    "tags": []
   },
   "outputs": [],
   "source": [
    "final_result['freq_threshold_up'] = final_result['avg_freq_6mos'] + 2.2*final_result['std_freq_6mos']"
   ]
  },
  {
   "cell_type": "code",
   "execution_count": 41,
   "id": "associate-breakdown",
   "metadata": {
    "papermill": {
     "duration": 0.055696,
     "end_time": "2021-04-26T18:17:06.857824",
     "exception": false,
     "start_time": "2021-04-26T18:17:06.802128",
     "status": "completed"
    },
    "tags": []
   },
   "outputs": [],
   "source": [
    "freq_threshold_low = final_result['avg_freq_6mos'] - 2.2*final_result['std_freq_6mos']\n",
    "final_result['freq_threshold_low'] = freq_threshold_low.apply(lambda x: 0 if x < 0 else x)"
   ]
  },
  {
   "cell_type": "markdown",
   "id": "stuffed-aluminum",
   "metadata": {
    "papermill": {
     "duration": 0.041027,
     "end_time": "2021-04-26T18:17:06.939362",
     "exception": false,
     "start_time": "2021-04-26T18:17:06.898335",
     "status": "completed"
    },
    "tags": []
   },
   "source": [
    "## Add alerts for the reported counts "
   ]
  },
  {
   "cell_type": "code",
   "execution_count": 42,
   "id": "charged-circle",
   "metadata": {
    "papermill": {
     "duration": 0.05619,
     "end_time": "2021-04-26T18:17:07.037454",
     "exception": false,
     "start_time": "2021-04-26T18:17:06.981264",
     "status": "completed"
    },
    "tags": []
   },
   "outputs": [],
   "source": [
    "final_result['sum_report_counts_3mos'] =  final_result[['claim_reported_count_window_prior_1mos',\n",
    "                                                        'claim_reported_count_window_prior_2mos',\n",
    "                                                        'claim_reported_count_window_prior_3mos']].sum(axis=1)"
   ]
  },
  {
   "cell_type": "code",
   "execution_count": 43,
   "id": "reserved-fitness",
   "metadata": {
    "papermill": {
     "duration": 0.062014,
     "end_time": "2021-04-26T18:17:07.143654",
     "exception": false,
     "start_time": "2021-04-26T18:17:07.081640",
     "status": "completed"
    },
    "tags": []
   },
   "outputs": [],
   "source": [
    "final_result['sum_report_counts_6mos'] =  final_result[['claim_reported_count_window_prior_1mos',\n",
    "                                                        'claim_reported_count_window_prior_2mos',\n",
    "                                                        'claim_reported_count_window_prior_3mos',\n",
    "                                                        'claim_reported_count_window_prior_4mos',\n",
    "                                                        'claim_reported_count_window_prior_5mos',\n",
    "                                                       'claim_reported_count_window_prior_6mos']].sum(axis=1)"
   ]
  },
  {
   "cell_type": "code",
   "execution_count": 44,
   "id": "native-variety",
   "metadata": {
    "papermill": {
     "duration": 0.0535,
     "end_time": "2021-04-26T18:17:07.240042",
     "exception": false,
     "start_time": "2021-04-26T18:17:07.186542",
     "status": "completed"
    },
    "tags": []
   },
   "outputs": [],
   "source": [
    "final_result['avg_report_counts_6mos'] = final_result[['claim_reported_count_window_prior_1mos',\n",
    "                                                       'claim_reported_count_window_prior_2mos',\n",
    "                                                       'claim_reported_count_window_prior_3mos',\n",
    "                                                       'claim_reported_count_window_prior_4mos',\n",
    "                                                       'claim_reported_count_window_prior_5mos',\n",
    "                                                      'claim_reported_count_window_prior_6mos']].mean(axis=1)"
   ]
  },
  {
   "cell_type": "code",
   "execution_count": 45,
   "id": "hungry-broadcasting",
   "metadata": {
    "papermill": {
     "duration": 0.05823,
     "end_time": "2021-04-26T18:17:07.341018",
     "exception": false,
     "start_time": "2021-04-26T18:17:07.282788",
     "status": "completed"
    },
    "tags": []
   },
   "outputs": [],
   "source": [
    "final_result['std_report_counts_6mos'] = final_result[['claim_reported_count_window_prior_1mos',\n",
    "                                                       'claim_reported_count_window_prior_2mos',\n",
    "                                                       'claim_reported_count_window_prior_3mos',\n",
    "                                                       'claim_reported_count_window_prior_4mos',\n",
    "                                                       'claim_reported_count_window_prior_5mos',\n",
    "                                                      'claim_reported_count_window_prior_6mos']].std(axis=1)"
   ]
  },
  {
   "cell_type": "code",
   "execution_count": 46,
   "id": "worthy-fishing",
   "metadata": {
    "papermill": {
     "duration": 0.04914,
     "end_time": "2021-04-26T18:17:07.433303",
     "exception": false,
     "start_time": "2021-04-26T18:17:07.384163",
     "status": "completed"
    },
    "tags": []
   },
   "outputs": [],
   "source": [
    "final_result['report_counts_threshold_up'] = final_result['avg_report_counts_6mos'] + 5*final_result['std_report_counts_6mos'] "
   ]
  },
  {
   "cell_type": "code",
   "execution_count": 47,
   "id": "checked-miami",
   "metadata": {
    "papermill": {
     "duration": 0.061243,
     "end_time": "2021-04-26T18:17:07.539510",
     "exception": false,
     "start_time": "2021-04-26T18:17:07.478267",
     "status": "completed"
    },
    "tags": []
   },
   "outputs": [],
   "source": [
    "report_counts_threshold_low= final_result['avg_report_counts_6mos'] - 5*final_result['std_report_counts_6mos'] \n",
    "final_result['report_counts_threshold_low'] = report_counts_threshold_low.apply(lambda x: 0 if x < 0 else x)"
   ]
  },
  {
   "cell_type": "markdown",
   "id": "needed-delicious",
   "metadata": {
    "papermill": {
     "duration": 0.042409,
     "end_time": "2021-04-26T18:17:07.624535",
     "exception": false,
     "start_time": "2021-04-26T18:17:07.582126",
     "status": "completed"
    },
    "tags": []
   },
   "source": [
    "## Add alerts for paid_closed_counts "
   ]
  },
  {
   "cell_type": "code",
   "execution_count": 48,
   "id": "greatest-recovery",
   "metadata": {
    "papermill": {
     "duration": 0.060551,
     "end_time": "2021-04-26T18:17:07.727861",
     "exception": false,
     "start_time": "2021-04-26T18:17:07.667310",
     "status": "completed"
    },
    "tags": []
   },
   "outputs": [],
   "source": [
    "final_result['sum_closed_counts_3mos'] =  final_result[[\n",
    "'claim_paid_closed_count_window_prior_1mos', \n",
    "'claim_paid_closed_count_window_prior_2mos', \n",
    "'claim_paid_closed_count_window_prior_3mos']].sum(axis=1)"
   ]
  },
  {
   "cell_type": "code",
   "execution_count": 49,
   "id": "tender-belle",
   "metadata": {
    "papermill": {
     "duration": 0.059468,
     "end_time": "2021-04-26T18:17:07.829241",
     "exception": false,
     "start_time": "2021-04-26T18:17:07.769773",
     "status": "completed"
    },
    "tags": []
   },
   "outputs": [],
   "source": [
    "final_result['sum_closed_counts_6mos'] =  final_result[['claim_paid_closed_count_window_prior_1mos', \n",
    "'claim_paid_closed_count_window_prior_2mos', \n",
    "'claim_paid_closed_count_window_prior_3mos', \n",
    "'claim_paid_closed_count_window_prior_4mos', \n",
    "'claim_paid_closed_count_window_prior_5mos',\n",
    " 'claim_paid_closed_count_window_prior_6mos']].sum(axis=1)"
   ]
  },
  {
   "cell_type": "code",
   "execution_count": 50,
   "id": "apparent-garden",
   "metadata": {
    "papermill": {
     "duration": 0.060555,
     "end_time": "2021-04-26T18:17:07.931989",
     "exception": false,
     "start_time": "2021-04-26T18:17:07.871434",
     "status": "completed"
    },
    "tags": []
   },
   "outputs": [],
   "source": [
    "final_result['avg_closed_counts_6mos'] =  final_result[['claim_paid_closed_count_window_prior_1mos', \n",
    "'claim_paid_closed_count_window_prior_2mos', \n",
    "'claim_paid_closed_count_window_prior_3mos', \n",
    "'claim_paid_closed_count_window_prior_4mos', \n",
    "'claim_paid_closed_count_window_prior_5mos',\n",
    " 'claim_paid_closed_count_window_prior_6mos']].mean(axis=1)"
   ]
  },
  {
   "cell_type": "code",
   "execution_count": 51,
   "id": "younger-cloud",
   "metadata": {
    "papermill": {
     "duration": 0.058925,
     "end_time": "2021-04-26T18:17:08.035897",
     "exception": false,
     "start_time": "2021-04-26T18:17:07.976972",
     "status": "completed"
    },
    "tags": []
   },
   "outputs": [],
   "source": [
    "final_result['std_closed_counts_6mos'] =  final_result[['claim_paid_closed_count_window_prior_1mos', \n",
    "'claim_paid_closed_count_window_prior_2mos', \n",
    "'claim_paid_closed_count_window_prior_3mos', \n",
    "'claim_paid_closed_count_window_prior_4mos', \n",
    "'claim_paid_closed_count_window_prior_5mos',\n",
    "'claim_paid_closed_count_window_prior_6mos']].std(axis=1)"
   ]
  },
  {
   "cell_type": "code",
   "execution_count": 52,
   "id": "czech-colony",
   "metadata": {
    "papermill": {
     "duration": 0.051617,
     "end_time": "2021-04-26T18:17:08.132032",
     "exception": false,
     "start_time": "2021-04-26T18:17:08.080415",
     "status": "completed"
    },
    "tags": []
   },
   "outputs": [],
   "source": [
    "final_result['closed_counts_threshold_up'] = final_result['avg_closed_counts_6mos'] + 5*final_result['std_closed_counts_6mos'] "
   ]
  },
  {
   "cell_type": "code",
   "execution_count": 53,
   "id": "optical-rwanda",
   "metadata": {
    "papermill": {
     "duration": 0.057728,
     "end_time": "2021-04-26T18:17:08.233600",
     "exception": false,
     "start_time": "2021-04-26T18:17:08.175872",
     "status": "completed"
    },
    "tags": []
   },
   "outputs": [],
   "source": [
    "closed_counts_threshold_low= final_result['avg_closed_counts_6mos'] - 5*final_result['std_closed_counts_6mos'] \n",
    "final_result['closed_counts_threshold_low'] = closed_counts_threshold_low.apply(lambda x: 0 if x < 0 else x)"
   ]
  },
  {
   "cell_type": "code",
   "execution_count": 54,
   "id": "greek-appearance",
   "metadata": {},
   "outputs": [],
   "source": [
    "## Add shift attribute to check the flutuate percentage "
   ]
  },
  {
   "cell_type": "code",
   "execution_count": 55,
   "id": "centered-replication",
   "metadata": {},
   "outputs": [],
   "source": [
    "final_result['severity_shift'] = (final_result['paid_closed_severity_window_cur_mos'] - final_result['avg_severity_6mos'])/final_result['avg_severity_6mos']"
   ]
  },
  {
   "cell_type": "code",
   "execution_count": 56,
   "id": "opposed-guess",
   "metadata": {},
   "outputs": [],
   "source": [
    "final_result['reported_frequency_shift'] = (final_result['reported_frequency_window_cur_mos'] - final_result['avg_freq_6mos'])/final_result['avg_freq_6mos']"
   ]
  },
  {
   "cell_type": "code",
   "execution_count": 57,
   "id": "sexual-cooler",
   "metadata": {},
   "outputs": [],
   "source": [
    "final_result['report_counts_shift'] = (final_result['claim_reported_count_window_cur_mos'] - final_result['avg_report_counts_6mos'])/final_result['avg_report_counts_6mos']"
   ]
  },
  {
   "cell_type": "code",
   "execution_count": 58,
   "id": "abstract-combine",
   "metadata": {},
   "outputs": [],
   "source": [
    "final_result['closed_counts_shift'] = (final_result['claim_paid_closed_count_window_cur_mos'] - final_result['avg_closed_counts_6mos'])/final_result['avg_closed_counts_6mos']"
   ]
  },
  {
   "cell_type": "markdown",
   "id": "banned-spencer",
   "metadata": {
    "papermill": {
     "duration": 0.053478,
     "end_time": "2021-04-26T18:17:08.329762",
     "exception": false,
     "start_time": "2021-04-26T18:17:08.276284",
     "status": "completed"
    },
    "tags": []
   },
   "source": [
    "## Check all the results "
   ]
  },
  {
   "cell_type": "code",
   "execution_count": 59,
   "id": "polish-allergy",
   "metadata": {
    "papermill": {
     "duration": 0.047295,
     "end_time": "2021-04-26T18:17:08.419035",
     "exception": false,
     "start_time": "2021-04-26T18:17:08.371740",
     "status": "completed"
    },
    "tags": []
   },
   "outputs": [
    {
     "data": {
      "text/html": [
       "<div>\n",
       "<style scoped>\n",
       "    .dataframe tbody tr th:only-of-type {\n",
       "        vertical-align: middle;\n",
       "    }\n",
       "\n",
       "    .dataframe tbody tr th {\n",
       "        vertical-align: top;\n",
       "    }\n",
       "\n",
       "    .dataframe thead th {\n",
       "        text-align: right;\n",
       "    }\n",
       "</style>\n",
       "<table border=\"1\" class=\"dataframe\">\n",
       "  <thead>\n",
       "    <tr style=\"text-align: right;\">\n",
       "      <th></th>\n",
       "      <th>sum_closed_counts_6mos</th>\n",
       "      <th>sum_report_counts_6mos</th>\n",
       "    </tr>\n",
       "  </thead>\n",
       "  <tbody>\n",
       "    <tr>\n",
       "      <th>count</th>\n",
       "      <td>25392.00</td>\n",
       "      <td>25392.00</td>\n",
       "    </tr>\n",
       "    <tr>\n",
       "      <th>mean</th>\n",
       "      <td>18055.69</td>\n",
       "      <td>37233.27</td>\n",
       "    </tr>\n",
       "    <tr>\n",
       "      <th>std</th>\n",
       "      <td>78955.18</td>\n",
       "      <td>145322.00</td>\n",
       "    </tr>\n",
       "    <tr>\n",
       "      <th>min</th>\n",
       "      <td>0.00</td>\n",
       "      <td>0.00</td>\n",
       "    </tr>\n",
       "    <tr>\n",
       "      <th>25%</th>\n",
       "      <td>96.00</td>\n",
       "      <td>240.00</td>\n",
       "    </tr>\n",
       "    <tr>\n",
       "      <th>50%</th>\n",
       "      <td>939.50</td>\n",
       "      <td>2400.00</td>\n",
       "    </tr>\n",
       "    <tr>\n",
       "      <th>75%</th>\n",
       "      <td>5777.25</td>\n",
       "      <td>13056.00</td>\n",
       "    </tr>\n",
       "    <tr>\n",
       "      <th>max</th>\n",
       "      <td>1830576.00</td>\n",
       "      <td>2764584.00</td>\n",
       "    </tr>\n",
       "  </tbody>\n",
       "</table>\n",
       "</div>"
      ],
      "text/plain": [
       "       sum_closed_counts_6mos  sum_report_counts_6mos\n",
       "count                25392.00                25392.00\n",
       "mean                 18055.69                37233.27\n",
       "std                  78955.18               145322.00\n",
       "min                      0.00                    0.00\n",
       "25%                     96.00                  240.00\n",
       "50%                    939.50                 2400.00\n",
       "75%                   5777.25                13056.00\n",
       "max                1830576.00              2764584.00"
      ]
     },
     "execution_count": 59,
     "metadata": {},
     "output_type": "execute_result"
    }
   ],
   "source": [
    "round(final_result[['sum_closed_counts_6mos','sum_report_counts_6mos']].describe(), 2)"
   ]
  },
  {
   "cell_type": "code",
   "execution_count": 60,
   "id": "pending-approach",
   "metadata": {
    "papermill": {
     "duration": 0.05709,
     "end_time": "2021-04-26T18:17:08.517563",
     "exception": false,
     "start_time": "2021-04-26T18:17:08.460473",
     "status": "completed"
    },
    "tags": []
   },
   "outputs": [],
   "source": [
    "sum_closed_counts_6mos_median = final_result[['sum_closed_counts_6mos']].median()[0]"
   ]
  },
  {
   "cell_type": "code",
   "execution_count": 61,
   "id": "ordinary-framework",
   "metadata": {},
   "outputs": [],
   "source": [
    "sum_closed_counts_6mos_mean = final_result[['sum_closed_counts_6mos']].mean()[0]*0.5"
   ]
  },
  {
   "cell_type": "code",
   "execution_count": 62,
   "id": "healthy-highlight",
   "metadata": {},
   "outputs": [],
   "source": [
    "sum_report_counts_6mos_mean = final_result[['sum_report_counts_6mos']].mean()[0]*0.5"
   ]
  },
  {
   "cell_type": "code",
   "execution_count": 63,
   "id": "acquired-landing",
   "metadata": {
    "papermill": {
     "duration": 0.050733,
     "end_time": "2021-04-26T18:17:08.611329",
     "exception": false,
     "start_time": "2021-04-26T18:17:08.560596",
     "status": "completed"
    },
    "tags": []
   },
   "outputs": [],
   "source": [
    "sum_report_counts_6mos_median = final_result[['sum_report_counts_6mos']].median()[0]"
   ]
  },
  {
   "cell_type": "markdown",
   "id": "pretty-stage",
   "metadata": {
    "papermill": {
     "duration": 0.042503,
     "end_time": "2021-04-26T18:17:08.696579",
     "exception": false,
     "start_time": "2021-04-26T18:17:08.654076",
     "status": "completed"
    },
    "tags": []
   },
   "source": [
    "### set up floors for closed counts and reported counts"
   ]
  },
  {
   "cell_type": "code",
   "execution_count": 64,
   "id": "harmful-cambodia",
   "metadata": {
    "papermill": {
     "duration": 0.052258,
     "end_time": "2021-04-26T18:17:08.791419",
     "exception": false,
     "start_time": "2021-04-26T18:17:08.739161",
     "status": "completed"
    },
    "tags": []
   },
   "outputs": [],
   "source": [
    "good_result  = final_result[(final_result['sum_closed_counts_6mos'] >sum_closed_counts_6mos_mean) & (final_result['sum_report_counts_6mos'] >sum_report_counts_6mos_mean)]"
   ]
  },
  {
   "cell_type": "code",
   "execution_count": 65,
   "id": "union-privilege",
   "metadata": {},
   "outputs": [],
   "source": [
    "#good_result  = final_result[(final_result['sum_closed_counts_6mos'] >sum_closed_counts_6mos_median) & (final_result['sum_report_counts_6mos'] >sum_report_counts_6mos_median)]"
   ]
  },
  {
   "cell_type": "markdown",
   "id": "sapphire-scroll",
   "metadata": {
    "papermill": {
     "duration": 0.042239,
     "end_time": "2021-04-26T18:17:08.875228",
     "exception": false,
     "start_time": "2021-04-26T18:17:08.832989",
     "status": "completed"
    },
    "tags": []
   },
   "source": [
    "### check alerts for closed_counts"
   ]
  },
  {
   "cell_type": "code",
   "execution_count": 66,
   "id": "designing-liver",
   "metadata": {
    "papermill": {
     "duration": 0.050252,
     "end_time": "2021-04-26T18:17:08.967182",
     "exception": false,
     "start_time": "2021-04-26T18:17:08.916930",
     "status": "completed"
    },
    "tags": []
   },
   "outputs": [
    {
     "data": {
      "text/plain": [
       "8"
      ]
     },
     "execution_count": 66,
     "metadata": {},
     "output_type": "execute_result"
    }
   ],
   "source": [
    "len(good_result[good_result['claim_paid_closed_count_window_cur_mos']>good_result['closed_counts_threshold_up']])"
   ]
  },
  {
   "cell_type": "code",
   "execution_count": 67,
   "id": "theoretical-wholesale",
   "metadata": {
    "papermill": {
     "duration": 0.054789,
     "end_time": "2021-04-26T18:17:09.064184",
     "exception": false,
     "start_time": "2021-04-26T18:17:09.009395",
     "status": "completed"
    },
    "tags": []
   },
   "outputs": [
    {
     "data": {
      "text/plain": [
       "54"
      ]
     },
     "execution_count": 67,
     "metadata": {},
     "output_type": "execute_result"
    }
   ],
   "source": [
    "len(good_result[(good_result['claim_paid_closed_count_window_cur_mos']<good_result['closed_counts_threshold_low']) &(good_result['claim_paid_closed_count_window_cur_mos']>0) ])"
   ]
  },
  {
   "cell_type": "code",
   "execution_count": 68,
   "id": "genuine-bandwidth",
   "metadata": {
    "papermill": {
     "duration": 0.052241,
     "end_time": "2021-04-26T18:17:09.161334",
     "exception": false,
     "start_time": "2021-04-26T18:17:09.109093",
     "status": "completed"
    },
    "tags": []
   },
   "outputs": [
    {
     "data": {
      "text/plain": [
       "7"
      ]
     },
     "execution_count": 68,
     "metadata": {},
     "output_type": "execute_result"
    }
   ],
   "source": [
    "len(good_result[good_result['claim_reported_count_window_cur_mos']>good_result['report_counts_threshold_up']])"
   ]
  },
  {
   "cell_type": "code",
   "execution_count": 69,
   "id": "federal-brisbane",
   "metadata": {
    "papermill": {
     "duration": 0.051228,
     "end_time": "2021-04-26T18:17:09.257834",
     "exception": false,
     "start_time": "2021-04-26T18:17:09.206606",
     "status": "completed"
    },
    "tags": []
   },
   "outputs": [
    {
     "data": {
      "text/plain": [
       "21"
      ]
     },
     "execution_count": 69,
     "metadata": {},
     "output_type": "execute_result"
    }
   ],
   "source": [
    "len(good_result[(good_result['claim_reported_count_window_cur_mos']<good_result['report_counts_threshold_low']) &(good_result['claim_reported_count_window_cur_mos']>0) ])"
   ]
  },
  {
   "cell_type": "code",
   "execution_count": 70,
   "id": "together-girlfriend",
   "metadata": {
    "papermill": {
     "duration": 0.056291,
     "end_time": "2021-04-26T18:17:09.357811",
     "exception": false,
     "start_time": "2021-04-26T18:17:09.301520",
     "status": "completed"
    },
    "tags": []
   },
   "outputs": [
    {
     "data": {
      "text/plain": [
       "30"
      ]
     },
     "execution_count": 70,
     "metadata": {},
     "output_type": "execute_result"
    }
   ],
   "source": [
    "len(good_result[good_result['paid_closed_severity_window_cur_mos'] >good_result['severity_threshold_up']])"
   ]
  },
  {
   "cell_type": "code",
   "execution_count": 71,
   "id": "beneficial-primary",
   "metadata": {
    "papermill": {
     "duration": 0.055517,
     "end_time": "2021-04-26T18:17:09.456968",
     "exception": false,
     "start_time": "2021-04-26T18:17:09.401451",
     "status": "completed"
    },
    "tags": []
   },
   "outputs": [
    {
     "data": {
      "text/plain": [
       "9"
      ]
     },
     "execution_count": 71,
     "metadata": {},
     "output_type": "execute_result"
    }
   ],
   "source": [
    "len(good_result[(good_result['paid_closed_severity_window_cur_mos'] <good_result['severity_threshold_low']) & good_result['paid_closed_severity_window_cur_mos'] >0 ])"
   ]
  },
  {
   "cell_type": "code",
   "execution_count": 72,
   "id": "marked-sitting",
   "metadata": {
    "papermill": {
     "duration": 0.052702,
     "end_time": "2021-04-26T18:17:09.558922",
     "exception": false,
     "start_time": "2021-04-26T18:17:09.506220",
     "status": "completed"
    },
    "tags": []
   },
   "outputs": [
    {
     "data": {
      "text/plain": [
       "3"
      ]
     },
     "execution_count": 72,
     "metadata": {},
     "output_type": "execute_result"
    }
   ],
   "source": [
    "len(good_result[good_result['reported_frequency_window_cur_mos'] > good_result['freq_threshold_up']])"
   ]
  },
  {
   "cell_type": "code",
   "execution_count": 73,
   "id": "intensive-communication",
   "metadata": {
    "papermill": {
     "duration": 0.053901,
     "end_time": "2021-04-26T18:17:09.655715",
     "exception": false,
     "start_time": "2021-04-26T18:17:09.601814",
     "status": "completed"
    },
    "tags": []
   },
   "outputs": [
    {
     "data": {
      "text/plain": [
       "14"
      ]
     },
     "execution_count": 73,
     "metadata": {},
     "output_type": "execute_result"
    }
   ],
   "source": [
    "len(good_result[(good_result['reported_frequency_window_cur_mos'] < good_result['freq_threshold_low']) & good_result['reported_frequency_window_cur_mos'] >0 ])"
   ]
  },
  {
   "cell_type": "code",
   "execution_count": 74,
   "id": "ordinary-prague",
   "metadata": {
    "papermill": {
     "duration": 0.051571,
     "end_time": "2021-04-26T18:17:09.750927",
     "exception": false,
     "start_time": "2021-04-26T18:17:09.699356",
     "status": "completed"
    },
    "tags": []
   },
   "outputs": [],
   "source": [
    "alerts = good_result[good_result['paid_closed_severity_window_cur_mos'] >good_result['severity_threshold_up']]"
   ]
  },
  {
   "cell_type": "code",
   "execution_count": 75,
   "id": "completed-fiction",
   "metadata": {
    "papermill": {
     "duration": 0.050657,
     "end_time": "2021-04-26T18:17:09.845270",
     "exception": false,
     "start_time": "2021-04-26T18:17:09.794613",
     "status": "completed"
    },
    "tags": []
   },
   "outputs": [],
   "source": [
    "#alerts.to_csv('good_result_window_alerts.csv', sep='\\t', encoding='utf-8')"
   ]
  },
  {
   "cell_type": "code",
   "execution_count": 76,
   "id": "architectural-composition",
   "metadata": {
    "papermill": {
     "duration": 0.064358,
     "end_time": "2021-04-26T18:17:09.952330",
     "exception": false,
     "start_time": "2021-04-26T18:17:09.887972",
     "status": "completed"
    },
    "tags": []
   },
   "outputs": [],
   "source": [
    "good_final_result = good_result.reset_index()"
   ]
  },
  {
   "cell_type": "markdown",
   "id": "danish-finance",
   "metadata": {
    "papermill": {
     "duration": 0.045163,
     "end_time": "2021-04-26T18:17:10.041550",
     "exception": false,
     "start_time": "2021-04-26T18:17:09.996387",
     "status": "completed"
    },
    "tags": []
   },
   "source": [
    "### Add alerts lables"
   ]
  },
  {
   "cell_type": "code",
   "execution_count": 77,
   "id": "brilliant-trace",
   "metadata": {
    "papermill": {
     "duration": 0.633094,
     "end_time": "2021-04-26T18:17:10.720039",
     "exception": false,
     "start_time": "2021-04-26T18:17:10.086945",
     "status": "completed"
    },
    "tags": []
   },
   "outputs": [],
   "source": [
    "closed_counts_alerts = []\n",
    "for i in range(len(good_final_result)):\n",
    "    if good_final_result['claim_paid_closed_count_window_cur_mos'][i] > good_final_result['closed_counts_threshold_up'][i] :\n",
    "        results = 'high-closed-counts_alerts'\n",
    "    elif (good_final_result['claim_paid_closed_count_window_cur_mos'][i] < good_final_result['closed_counts_threshold_low'][i]) & (good_final_result['claim_paid_closed_count_window_cur_mos'][i] >0):\n",
    "        results = 'low-closed-counts_alerts'\n",
    "    else:\n",
    "        results = 'no-alerts'\n",
    "    closed_counts_alerts.append(results)\n",
    "good_final_result['closed_counts_alerts'] = closed_counts_alerts"
   ]
  },
  {
   "cell_type": "code",
   "execution_count": 78,
   "id": "comic-white",
   "metadata": {},
   "outputs": [],
   "source": [
    "if (len(good_final_result[good_final_result['closed_counts_alerts'] =='high-closed-counts_alerts']) > 20):\n",
    "    top_closed_counts_alerts_index = good_final_result[good_final_result['closed_counts_alerts'] =='high-closed-counts_alerts'] \\\n",
    "                    .sort_values(by=['closed_counts_shift'], ascending=False).index[:10]\n",
    "    top_closed_counts_alerts_index\n",
    "    for index in top_closed_counts_alerts_index:\n",
    "        closed_counts_alerts[index] = 'top-high-closed-counts_alerts'\n",
    "        good_final_result['closed_counts_alerts'] = closed_counts_alerts\n",
    "else:\n",
    "    pass"
   ]
  },
  {
   "cell_type": "code",
   "execution_count": 79,
   "id": "german-transcript",
   "metadata": {},
   "outputs": [],
   "source": [
    "if (len(good_final_result[good_final_result['closed_counts_alerts'] =='low-closed-counts_alerts']) > 20):\n",
    "    top_closed_counts_alerts_index = good_final_result[good_final_result['closed_counts_alerts'] =='low-closed-counts_alerts'] \\\n",
    "                    .sort_values(by=['closed_counts_shift']).index[:10]\n",
    "    top_closed_counts_alerts_index\n",
    "    for index in top_closed_counts_alerts_index:\n",
    "        closed_counts_alerts[index] = 'top-low-closed-counts_alerts'\n",
    "        good_final_result['closed_counts_alerts'] = closed_counts_alerts\n",
    "else:\n",
    "    pass"
   ]
  },
  {
   "cell_type": "code",
   "execution_count": 80,
   "id": "emotional-chapel",
   "metadata": {},
   "outputs": [
    {
     "data": {
      "text/plain": [
       "no-alerts                       4456\n",
       "low-closed-counts_alerts          44\n",
       "top-low-closed-counts_alerts      10\n",
       "high-closed-counts_alerts          8\n",
       "Name: closed_counts_alerts, dtype: int64"
      ]
     },
     "execution_count": 80,
     "metadata": {},
     "output_type": "execute_result"
    }
   ],
   "source": [
    "good_final_result['closed_counts_alerts'].value_counts()"
   ]
  },
  {
   "cell_type": "code",
   "execution_count": 81,
   "id": "boring-crisis",
   "metadata": {
    "papermill": {
     "duration": 0.645376,
     "end_time": "2021-04-26T18:17:11.410314",
     "exception": false,
     "start_time": "2021-04-26T18:17:10.764938",
     "status": "completed"
    },
    "tags": []
   },
   "outputs": [],
   "source": [
    "reported_counts_alerts = []\n",
    "for i in range(len(good_final_result)):\n",
    "    if good_final_result['claim_reported_count_window_cur_mos'][i] > good_final_result['report_counts_threshold_up'][i] :\n",
    "        results = 'high-reported-counts_alerts'\n",
    "    elif (good_final_result['claim_reported_count_window_cur_mos'][i] < good_final_result['report_counts_threshold_low'][i]) & (good_final_result['claim_reported_count_window_cur_mos'][i] >0):\n",
    "        results = 'low-reported-counts_alerts'\n",
    "    else:\n",
    "        results = 'no-alerts'\n",
    "    reported_counts_alerts.append(results)\n",
    "good_final_result['reported_counts_alerts'] = reported_counts_alerts"
   ]
  },
  {
   "cell_type": "code",
   "execution_count": 82,
   "id": "continental-cement",
   "metadata": {},
   "outputs": [],
   "source": [
    "if (len(good_final_result[good_final_result['reported_counts_alerts'] =='high-reported-counts_alerts']) > 20):\n",
    "    top_reported_counts_alerts_index = good_final_result[good_final_result['reported_counts_alerts'] =='high-reported-counts_alerts'] \\\n",
    "                    .sort_values(by=['report_counts_shift'], ascending=False).index[:10]\n",
    "    top_reported_counts_alerts_index\n",
    "    for index in top_reported_counts_alerts_index:\n",
    "        reported_counts_alerts[index] = 'top-high-reported-counts_alerts'\n",
    "        good_final_result['reported_counts_alerts'] = reported_counts_alerts\n",
    "else:\n",
    "    pass\n"
   ]
  },
  {
   "cell_type": "code",
   "execution_count": 83,
   "id": "sticky-helena",
   "metadata": {},
   "outputs": [],
   "source": [
    "if (len(good_final_result[good_final_result['reported_counts_alerts'] =='low-reported-counts_alerts']) > 20):\n",
    "    top_reported_counts_alerts_index = good_final_result[good_final_result['reported_counts_alerts'] =='low-reported-counts_alerts'] \\\n",
    "                    .sort_values(by=['report_counts_shift']).index[:10]\n",
    "    top_reported_counts_alerts_index\n",
    "    for index in top_reported_counts_alerts_index:\n",
    "        reported_counts_alerts[index] = 'top-low-reported-counts_alerts'\n",
    "        good_final_result['reported_counts_alerts'] = reported_counts_alerts\n",
    "else:\n",
    "    pass\n"
   ]
  },
  {
   "cell_type": "code",
   "execution_count": 84,
   "id": "surprised-strip",
   "metadata": {},
   "outputs": [
    {
     "data": {
      "text/plain": [
       "no-alerts                         4490\n",
       "low-reported-counts_alerts          11\n",
       "top-low-reported-counts_alerts      10\n",
       "high-reported-counts_alerts          7\n",
       "Name: reported_counts_alerts, dtype: int64"
      ]
     },
     "execution_count": 84,
     "metadata": {},
     "output_type": "execute_result"
    }
   ],
   "source": [
    "good_final_result['reported_counts_alerts'].value_counts()"
   ]
  },
  {
   "cell_type": "code",
   "execution_count": 85,
   "id": "linear-bones",
   "metadata": {
    "papermill": {
     "duration": 0.576047,
     "end_time": "2021-04-26T18:17:12.031039",
     "exception": false,
     "start_time": "2021-04-26T18:17:11.454992",
     "status": "completed"
    },
    "tags": []
   },
   "outputs": [],
   "source": [
    "severity_alerts = []\n",
    "for i in range(len(good_final_result)):\n",
    "    if good_final_result['paid_closed_severity_window_cur_mos'][i] > good_final_result['severity_threshold_up'][i] :\n",
    "        results = 'high-severity-alerts'\n",
    "    elif (good_final_result['paid_closed_severity_window_cur_mos'][i] < good_final_result['severity_threshold_low'][i]) & (good_final_result['paid_closed_severity_window_cur_mos'][i] >0):\n",
    "        results = 'low-severity-alerts'\n",
    "    else:\n",
    "        results = 'no-alerts'\n",
    "    severity_alerts.append(results)\n",
    "good_final_result['severity_alerts'] = severity_alerts"
   ]
  },
  {
   "cell_type": "code",
   "execution_count": 86,
   "id": "sorted-wales",
   "metadata": {},
   "outputs": [],
   "source": [
    "if (len(good_final_result[good_final_result['severity_alerts'] =='high-severity-alerts']) > 20):\n",
    "    top_severity_alerts_index = good_final_result[good_final_result['severity_alerts'] =='high-severity-alerts'] \\\n",
    "                    .sort_values(by=['severity_shift'], ascending=False).index[:10]\n",
    "    for index in top_severity_alerts_index:\n",
    "        severity_alerts[index] = 'top-high-severity-alerts'\n",
    "        good_final_result['severity_alerts'] = severity_alerts\n",
    "else:\n",
    "    pass"
   ]
  },
  {
   "cell_type": "code",
   "execution_count": 87,
   "id": "christian-delta",
   "metadata": {},
   "outputs": [],
   "source": [
    "if (len(good_final_result[good_final_result['severity_alerts'] =='low-severity-alerts']) > 20):\n",
    "    top_severity_alerts_index = good_final_result[good_final_result['severity_alerts'] =='low-severity-alerts'] \\\n",
    "                    .sort_values(by=['severity_shift']).index[:10]\n",
    "    for index in top_severity_alerts_index:\n",
    "        severity_alerts[index] = 'top-low-severity-alerts'\n",
    "        good_final_result['severity_alerts'] = severity_alerts\n",
    "else:\n",
    "    pass\n"
   ]
  },
  {
   "cell_type": "code",
   "execution_count": 88,
   "id": "unknown-tribune",
   "metadata": {},
   "outputs": [
    {
     "data": {
      "text/plain": [
       "no-alerts                   4479\n",
       "high-severity-alerts          20\n",
       "top-high-severity-alerts      10\n",
       "low-severity-alerts            9\n",
       "Name: severity_alerts, dtype: int64"
      ]
     },
     "execution_count": 88,
     "metadata": {},
     "output_type": "execute_result"
    }
   ],
   "source": [
    "good_final_result['severity_alerts'].value_counts()"
   ]
  },
  {
   "cell_type": "code",
   "execution_count": 89,
   "id": "engaged-circular",
   "metadata": {
    "papermill": {
     "duration": 0.574977,
     "end_time": "2021-04-26T18:17:12.654266",
     "exception": false,
     "start_time": "2021-04-26T18:17:12.079289",
     "status": "completed"
    },
    "tags": []
   },
   "outputs": [],
   "source": [
    "freq_alerts = []\n",
    "for i in range(len(good_final_result)):\n",
    "    if good_final_result['reported_frequency_window_cur_mos'][i] > good_final_result['freq_threshold_up'][i] :\n",
    "        results = 'high-freq-alerts'\n",
    "    elif (good_final_result['reported_frequency_window_cur_mos'][i] < good_final_result['freq_threshold_low'][i]) & (good_final_result['reported_frequency_window_cur_mos'][i] >0):\n",
    "        results = 'low-freq-alerts'\n",
    "    else:\n",
    "        results = 'no-alerts'\n",
    "    freq_alerts.append(results)\n",
    "good_final_result['frequency_alerts'] = freq_alerts"
   ]
  },
  {
   "cell_type": "code",
   "execution_count": 90,
   "id": "blessed-insulin",
   "metadata": {},
   "outputs": [],
   "source": [
    "if (len(good_final_result[good_final_result['frequency_alerts'] =='high-freq-alerts']) > 20):\n",
    "    top_freq_alerts_index = good_final_result[good_final_result['freq_alerts'] =='high-freq-alerts'] \\\n",
    "                    .sort_values(by=['reported_frequency_shift'], ascending=False).index[:10]\n",
    "    for index in top_freq_alerts_index:\n",
    "        freq_alerts[index] = 'top-high-freq-alerts'\n",
    "        good_final_result['frequency_alerts'] = freq_alerts\n",
    "else:\n",
    "    pass"
   ]
  },
  {
   "cell_type": "code",
   "execution_count": 91,
   "id": "automotive-structure",
   "metadata": {},
   "outputs": [],
   "source": [
    "if (len(good_final_result[good_final_result['frequency_alerts'] =='low-freq-alerts']) > 20):\n",
    "    top_freq_alerts_index = good_final_result[good_final_result['freq_alerts'] =='low-freq-alerts'] \\\n",
    "                    .sort_values(by=['reported_frequency_shift']).index[:10]\n",
    "    for index in top_freq_alerts_index:\n",
    "        freq_alerts[index] = 'top-low-freq-alerts'\n",
    "        good_final_result['frequency_alerts'] = freq_alerts\n",
    "else:\n",
    "    pass"
   ]
  },
  {
   "cell_type": "code",
   "execution_count": 92,
   "id": "effective-interview",
   "metadata": {},
   "outputs": [
    {
     "data": {
      "text/plain": [
       "no-alerts           4501\n",
       "low-freq-alerts       14\n",
       "high-freq-alerts       3\n",
       "Name: frequency_alerts, dtype: int64"
      ]
     },
     "execution_count": 92,
     "metadata": {},
     "output_type": "execute_result"
    }
   ],
   "source": [
    "good_final_result['frequency_alerts'].value_counts()"
   ]
  },
  {
   "cell_type": "code",
   "execution_count": 93,
   "id": "reduced-spouse",
   "metadata": {},
   "outputs": [
    {
     "name": "stdout",
     "output_type": "stream",
     "text": [
      "['/home/autumn/fido-models', '/opt/anaconda3/lib/python38.zip', '/opt/anaconda3/lib/python3.8', '/opt/anaconda3/lib/python3.8/lib-dynload', '', '/home/autumn/.local/lib/python3.8/site-packages', '/home/autumn/jupyterhub-ssh', '/opt/anaconda3/lib/python3.8/site-packages', '/opt/anaconda3/lib/python3.8/site-packages/IPython/extensions', '/home/autumn/.ipython']\n"
     ]
    }
   ],
   "source": [
    "import sys\n",
    "print(sys.path)"
   ]
  },
  {
   "cell_type": "code",
   "execution_count": 94,
   "id": "considered-sacramento",
   "metadata": {
    "papermill": {
     "duration": 0.050495,
     "end_time": "2021-04-26T18:17:12.845349",
     "exception": false,
     "start_time": "2021-04-26T18:17:12.794854",
     "status": "completed"
    },
    "tags": []
   },
   "outputs": [],
   "source": [
    "### export alerts seperately "
   ]
  },
  {
   "cell_type": "code",
   "execution_count": 94,
   "id": "acknowledged-insulation",
   "metadata": {
    "papermill": {
     "duration": 0.050615,
     "end_time": "2021-04-26T18:17:12.943354",
     "exception": false,
     "start_time": "2021-04-26T18:17:12.892739",
     "status": "completed"
    },
    "tags": []
   },
   "outputs": [],
   "source": [
    "# reported_counts = good_final_result[['policy_state_sk','coverage_type_sk','shopgroup_sk','window_sk','shopgroup_name','coverage_desc','state_province_cd',\n",
    "# 'report_counts_shift',                                  \n",
    "# 'claim_reported_count_window_cur_mos', \n",
    "# 'claim_reported_count_window_prior_1mos', \n",
    "# 'claim_reported_count_window_prior_2mos', \n",
    "# 'claim_reported_count_window_prior_3mos', \n",
    "# 'claim_reported_count_window_prior_4mos', \n",
    "# 'claim_reported_count_window_prior_5mos', \n",
    "# 'claim_reported_count_window_prior_6mos', \n",
    "# 'sum_report_counts_3mos', \n",
    "# 'sum_report_counts_6mos', \n",
    "# 'avg_report_counts_6mos', \n",
    "# 'std_report_counts_6mos', \n",
    "# 'report_counts_threshold_up', \n",
    "# 'report_counts_threshold_low', \n",
    "# 'reported_counts_alerts']]\n",
    "# reported_counts.to_csv('/home/autumn/contributory/data_results/reported_counts_alerts_202011.csv', sep='\\t', encoding='utf-8')"
   ]
  },
  {
   "cell_type": "code",
   "execution_count": 95,
   "id": "split-crown",
   "metadata": {
    "papermill": {
     "duration": 0.054209,
     "end_time": "2021-04-26T18:17:13.046488",
     "exception": false,
     "start_time": "2021-04-26T18:17:12.992279",
     "status": "completed"
    },
    "tags": []
   },
   "outputs": [],
   "source": [
    "# closed_counts = good_final_result[['policy_state_sk','coverage_type_sk','shopgroup_sk','window_sk','shopgroup_name','coverage_desc','state_province_cd',\n",
    "# 'closed_counts_shift',            \n",
    "# 'claim_paid_closed_count_window_cur_mos',\n",
    "# 'claim_paid_closed_count_window_prior_1mos',\n",
    "# 'claim_paid_closed_count_window_prior_2mos',\n",
    "# 'claim_paid_closed_count_window_prior_3mos',\n",
    "# 'claim_paid_closed_count_window_prior_4mos',\n",
    "# 'claim_paid_closed_count_window_prior_5mos',\n",
    "# 'claim_paid_closed_count_window_prior_6mos',\n",
    "# 'sum_closed_counts_3mos',\n",
    "# 'sum_closed_counts_6mos',\n",
    "# 'avg_closed_counts_6mos',\n",
    "# 'std_closed_counts_6mos',\n",
    "# 'closed_counts_threshold_up',\n",
    "# 'closed_counts_threshold_low',\n",
    "# 'closed_counts_alerts']]\n",
    "# closed_counts.to_csv('/home/autumn/contributory/data_results/closed_counts_alerts_202011.csv', sep='\\t', encoding='utf-8')"
   ]
  },
  {
   "cell_type": "code",
   "execution_count": 96,
   "id": "included-lyric",
   "metadata": {
    "papermill": {
     "duration": 0.049755,
     "end_time": "2021-04-26T18:17:13.140137",
     "exception": false,
     "start_time": "2021-04-26T18:17:13.090382",
     "status": "completed"
    },
    "tags": []
   },
   "outputs": [],
   "source": [
    "# severity = good_final_result[['policy_state_sk','coverage_type_sk','shopgroup_sk','window_sk','shopgroup_name','coverage_desc','state_province_cd',\n",
    "#  'severity_shift',                              \n",
    "# 'paid_closed_severity_window_cur_mos',\n",
    "# 'paid_closed_severity_window_prior_1mos',\n",
    "# 'paid_closed_severity_window_prior_2mos',\n",
    "# 'paid_closed_severity_window_prior_3mos',\n",
    "# 'paid_closed_severity_window_prior_4mos',\n",
    "# 'paid_closed_severity_window_prior_5mos',\n",
    "# 'paid_closed_severity_window_prior_6mos',\n",
    "# 'avg_severity_6mos',\n",
    "# 'std_severity_6mos',\n",
    "# 'severity_threshold_up',\n",
    "# 'severity_threshold_low',\n",
    "# 'severity_alerts']]\n",
    "# severity.to_csv('/home/autumn/contributory/data_results/severity_alerts_202011.csv', sep='\\t', encoding='utf-8')"
   ]
  },
  {
   "cell_type": "code",
   "execution_count": 97,
   "id": "headed-slovakia",
   "metadata": {
    "papermill": {
     "duration": 0.049392,
     "end_time": "2021-04-26T18:17:13.233337",
     "exception": false,
     "start_time": "2021-04-26T18:17:13.183945",
     "status": "completed"
    },
    "tags": []
   },
   "outputs": [],
   "source": [
    "# frequency = good_final_result[['policy_state_sk','coverage_type_sk','shopgroup_sk','window_sk','shopgroup_name','coverage_desc','state_province_cd',\n",
    "# 'reported_frequency_shift',\n",
    "# 'reported_frequency_window_cur_mos',\n",
    "# 'reported_frequency_window_prior_1mos',\n",
    "# 'reported_frequency_window_prior_2mos',\n",
    "# 'reported_frequency_window_prior_3mos',\n",
    "# 'reported_frequency_window_prior_4mos',\n",
    "# 'reported_frequency_window_prior_5mos',\n",
    "# 'reported_frequency_window_prior_6mos',                              \n",
    "# 'avg_freq_6mos',\n",
    "# 'std_freq_6mos',\n",
    "# 'freq_threshold_up',\n",
    "# 'freq_threshold_low',\n",
    "# 'frequency_alerts']]\n",
    "# frequency.to_csv('/home/autumn/contributory/data_results/frequency_alerts_202011.csv', sep='\\t', encoding='utf-8')"
   ]
  },
  {
   "cell_type": "markdown",
   "id": "advanced-latex",
   "metadata": {
    "papermill": {
     "duration": 0.043538,
     "end_time": "2021-04-26T18:17:13.320204",
     "exception": false,
     "start_time": "2021-04-26T18:17:13.276666",
     "status": "completed"
    },
    "tags": []
   },
   "source": [
    "# Wrtie the results back to SQL server "
   ]
  },
  {
   "cell_type": "code",
   "execution_count": 98,
   "id": "eligible-oxford",
   "metadata": {
    "papermill": {
     "duration": 0.050137,
     "end_time": "2021-04-26T18:17:13.414709",
     "exception": false,
     "start_time": "2021-04-26T18:17:13.364572",
     "status": "completed"
    },
    "tags": []
   },
   "outputs": [],
   "source": [
    "good_final_result['alert_year_month'] = str(end)"
   ]
  },
  {
   "cell_type": "code",
   "execution_count": 99,
   "id": "accompanied-virtue",
   "metadata": {
    "papermill": {
     "duration": 0.051407,
     "end_time": "2021-04-26T18:17:13.510862",
     "exception": false,
     "start_time": "2021-04-26T18:17:13.459455",
     "status": "completed"
    },
    "tags": []
   },
   "outputs": [
    {
     "data": {
      "text/plain": [
       "(4518, 78)"
      ]
     },
     "execution_count": 99,
     "metadata": {},
     "output_type": "execute_result"
    }
   ],
   "source": [
    "good_final_result.shape"
   ]
  },
  {
   "cell_type": "code",
   "execution_count": 106,
   "id": "adverse-direction",
   "metadata": {},
   "outputs": [
    {
     "name": "stdout",
     "output_type": "stream",
     "text": [
      "policy_state_sk\n",
      "coverage_type_sk\n",
      "shopgroup_sk\n",
      "window_sk\n",
      "shopgroup_name\n",
      "coverage_desc\n",
      "state_province_cd\n",
      "claim_paid_closed_count_window_cur_mos\n",
      "claim_reported_count_window_cur_mos\n",
      "earned_exposure_cur_mos\n",
      "paid_closed_claim_amount_window_cur_mos\n",
      "paid_closed_severity_window_cur_mos\n",
      "reported_frequency_window_cur_mos\n",
      "claim_paid_closed_count_window_prior_1mos\n",
      "claim_reported_count_window_prior_1mos\n",
      "earned_exposure_prior_1mos\n",
      "paid_closed_claim_amount_prior_1mos\n",
      "paid_closed_severity_window_prior_1mos\n",
      "reported_frequency_window_prior_1mos\n",
      "claim_paid_closed_count_window_prior_2mos\n",
      "claim_reported_count_window_prior_2mos\n",
      "earned_exposure_prior_2mos\n",
      "paid_closed_claim_amount_prior_2mos\n",
      "paid_closed_severity_window_prior_2mos\n",
      "reported_frequency_window_prior_2mos\n",
      "claim_paid_closed_count_window_prior_3mos\n",
      "claim_reported_count_window_prior_3mos\n",
      "earned_exposure_prior_3mos\n",
      "paid_closed_claim_amount_prior_3mos\n",
      "paid_closed_severity_window_prior_3mos\n",
      "reported_frequency_window_prior_3mos\n",
      "claim_paid_closed_count_window_prior_4mos\n",
      "claim_reported_count_window_prior_4mos\n",
      "earned_exposure_prior_4mos\n",
      "paid_closed_claim_amount_prior_4mos\n",
      "paid_closed_severity_window_prior_4mos\n",
      "reported_frequency_window_prior_4mos\n",
      "claim_paid_closed_count_window_prior_5mos\n",
      "claim_reported_count_window_prior_5mos\n",
      "earned_exposure_prior_5mos\n",
      "paid_closed_claim_amount_prior_5mos\n",
      "paid_closed_severity_window_prior_5mos\n",
      "reported_frequency_window_prior_5mos\n",
      "claim_paid_closed_count_window_prior_6mos\n",
      "claim_reported_count_window_prior_6mos\n",
      "earned_exposure_prior_6mos\n",
      "paid_closed_claim_amount_prior_6mos\n",
      "paid_closed_severity_window_prior_6mos\n",
      "reported_frequency_window_prior_6mos\n",
      "avg_severity_6mos\n",
      "std_severity_6mos\n",
      "severity_threshold_up\n",
      "severity_threshold_low\n",
      "avg_freq_6mos\n",
      "std_freq_6mos\n",
      "freq_threshold_up\n",
      "freq_threshold_low\n",
      "sum_report_counts_3mos\n",
      "sum_report_counts_6mos\n",
      "avg_report_counts_6mos\n",
      "std_report_counts_6mos\n",
      "report_counts_threshold_up\n",
      "report_counts_threshold_low\n",
      "sum_closed_counts_3mos\n",
      "sum_closed_counts_6mos\n",
      "avg_closed_counts_6mos\n",
      "std_closed_counts_6mos\n",
      "closed_counts_threshold_up\n",
      "closed_counts_threshold_low\n",
      "severity_shift\n",
      "reported_frequency_shift\n",
      "report_counts_shift\n",
      "closed_counts_shift\n",
      "closed_counts_alerts\n",
      "reported_counts_alerts\n",
      "severity_alerts\n",
      "frequency_alerts\n",
      "alert_year_month\n"
     ]
    }
   ],
   "source": [
    "for col in good_final_result:\n",
    "    print(col)"
   ]
  },
  {
   "cell_type": "code",
   "execution_count": 100,
   "id": "hourly-payday",
   "metadata": {
    "papermill": {
     "duration": 0.176547,
     "end_time": "2021-04-26T18:17:13.732163",
     "exception": false,
     "start_time": "2021-04-26T18:17:13.555616",
     "status": "completed"
    },
    "tags": []
   },
   "outputs": [],
   "source": [
    "contributory_data = good_final_result.values.tolist()"
   ]
  },
  {
   "cell_type": "code",
   "execution_count": 101,
   "id": "viral-tiger",
   "metadata": {
    "papermill": {
     "duration": 0.073658,
     "end_time": "2021-04-26T18:17:13.869590",
     "exception": false,
     "start_time": "2021-04-26T18:17:13.795932",
     "status": "completed"
    },
    "tags": []
   },
   "outputs": [],
   "source": [
    "server = 'ALAWDREDSQL201.risk.regn.net, 50255'\n",
    "database = 'red' # enter database name\n",
    "username = 'dasl_fidoanalytics'\n",
    "password = 'Jn$a0K29Ty' # add appropriate driver name\n",
    "cnxn = pyodbc.connect('DRIVER={ODBC Driver 17 for SQL Server};SERVER='+server+';DATABASE='+database+';UID='+username+';PWD='+ password)\n",
    "cursor = cnxn.cursor()"
   ]
  },
  {
   "cell_type": "code",
   "execution_count": 107,
   "id": "genuine-canvas",
   "metadata": {
    "papermill": {
     "duration": 0.072463,
     "end_time": "2021-04-26T18:17:13.989218",
     "exception": false,
     "start_time": "2021-04-26T18:17:13.916755",
     "status": "completed"
    },
    "tags": []
   },
   "outputs": [
    {
     "ename": "ProgrammingError",
     "evalue": "('42S21', \"[42S21] [Microsoft][ODBC Driver 17 for SQL Server][SQL Server]Column names in each table must be unique. Column name 'earned_exposure_prior_5mos' in table 'contributory_alerts' is specified more than once. (2705) (SQLExecDirectW)\")",
     "output_type": "error",
     "traceback": [
      "\u001b[0;31m---------------------------------------------------------------------------\u001b[0m",
      "\u001b[0;31mProgrammingError\u001b[0m                          Traceback (most recent call last)",
      "\u001b[0;32m<ipython-input-107-6491c313c1e1>\u001b[0m in \u001b[0;36m<module>\u001b[0;34m\u001b[0m\n\u001b[1;32m     79\u001b[0m \u001b[0mfrequency_alerts\u001b[0m \u001b[0mtext\u001b[0m\u001b[0;34m,\u001b[0m\u001b[0;31m \u001b[0m\u001b[0;31m\\\u001b[0m\u001b[0;34m\u001b[0m\u001b[0;34m\u001b[0m\u001b[0m\n\u001b[1;32m     80\u001b[0m alert_year_month ntext)\")\n\u001b[0;32m---> 81\u001b[0;31m \u001b[0mcursor\u001b[0m\u001b[0;34m.\u001b[0m\u001b[0mexecute\u001b[0m\u001b[0;34m(\u001b[0m\u001b[0mtable_sql\u001b[0m\u001b[0;34m)\u001b[0m\u001b[0;34m\u001b[0m\u001b[0;34m\u001b[0m\u001b[0m\n\u001b[0m\u001b[1;32m     82\u001b[0m \u001b[0mcnxn\u001b[0m\u001b[0;34m.\u001b[0m\u001b[0mcommit\u001b[0m\u001b[0;34m(\u001b[0m\u001b[0;34m)\u001b[0m\u001b[0;34m\u001b[0m\u001b[0;34m\u001b[0m\u001b[0m\n",
      "\u001b[0;31mProgrammingError\u001b[0m: ('42S21', \"[42S21] [Microsoft][ODBC Driver 17 for SQL Server][SQL Server]Column names in each table must be unique. Column name 'earned_exposure_prior_5mos' in table 'contributory_alerts' is specified more than once. (2705) (SQLExecDirectW)\")"
     ]
    }
   ],
   "source": [
    "cursor.execute(\"DROP TABLE IF EXISTS contributory_alerts\")\n",
    "\n",
    "table_sql = (\"CREATE TABLE contributory_alerts( policy_state_sk real, \\\n",
    "coverage_type_sk real, \\\n",
    "shopgroup_sk real, \\\n",
    "window_sk real, \\\n",
    "shopgroup_name text, \\\n",
    "coverage_desc text, \\\n",
    "state_province_cd text, \\\n",
    "report_counts_shift real, \\\n",
    "closed_counts_shift real, \\\n",
    "severity_shift real, \\\n",
    "reported_frequency_shift real, \\\n",
    "claim_paid_closed_count_window_cur_mos real, \\\n",
    "claim_reported_count_window_cur_mos real, \\\n",
    "earned_exposure_cur_mos real, \\\n",
    "paid_closed_claim_amount_window_cur_mos real, \\\n",
    "paid_closed_severity_window_cur_mos real, \\\n",
    "reported_frequency_window_cur_mos real, \\\n",
    "claim_paid_closed_count_window_prior_1mos real, \\\n",
    "claim_reported_count_window_prior_1mos real, \\\n",
    "earned_exposure_prior_1mos real, \\\n",
    "paid_closed_claim_amount_prior_1mos real, \\\n",
    "paid_closed_severity_window_prior_1mos real, \\\n",
    "reported_frequency_window_prior_1mos real, \\\n",
    "claim_paid_closed_count_window_prior_2mos real, \\\n",
    "claim_reported_count_window_prior_2mos real, \\\n",
    "earned_exposure_prior_2mos real, \\\n",
    "paid_closed_claim_amount_prior_2mos real, \\\n",
    "paid_closed_severity_window_prior_2mos real, \\\n",
    "reported_frequency_window_prior_2mos real, \\\n",
    "claim_paid_closed_count_window_prior_3mos real, \\\n",
    "claim_reported_count_window_prior_3mos real, \\\n",
    "earned_exposure_prior_3mos real, \\\n",
    "paid_closed_claim_amount_prior_3mos real, \\\n",
    "paid_closed_severity_window_prior_3mos real, \\\n",
    "reported_frequency_window_prior_3mos real, \\\n",
    "claim_paid_closed_count_window_prior_4mos real, \\\n",
    "claim_reported_count_window_prior_4mos real, \\\n",
    "earned_exposure_prior_4mos real, \\\n",
    "paid_closed_claim_amount_prior_4mos real, \\\n",
    "paid_closed_severity_window_prior_4mos real, \\\n",
    "reported_frequency_window_prior_4mos real, \\\n",
    "claim_paid_closed_count_window_prior_5mos real, \\\n",
    "claim_reported_count_window_prior_5mos real, \\\n",
    "earned_exposure_prior_5mos real, \\\n",
    "paid_closed_claim_amount_prior_5mos real, \\\n",
    "paid_closed_severity_window_prior_5mos real, \\\n",
    "reported_frequency_window_prior_5mos real, \\\n",
    "claim_paid_closed_count_window_prior_6mos real, \\\n",
    "claim_reported_count_window_prior_6mos real, \\\n",
    "earned_exposure_prior_5mos real, \\\n",
    "paid_closed_claim_amount_prior_6mos real, \\\n",
    "paid_closed_severity_window_prior_6mos real, \\\n",
    "reported_frequency_window_prior_6mos real, \\\n",
    "avg_severity_6mos real, \\\n",
    "std_severity_6mos real, \\\n",
    "severity_threshold_up real, \\\n",
    "severity_threshold_low real, \\\n",
    "avg_freq_6mos real, \\\n",
    "std_freq_6mos real, \\\n",
    "freq_threshold_up real, \\\n",
    "freq_threshold_low real, \\\n",
    "sum_report_counts_3mos real, \\\n",
    "sum_report_counts_6mos real, \\\n",
    "avg_report_counts_6mos real, \\\n",
    "std_report_counts_6mos real, \\\n",
    "report_counts_threshold_up real, \\\n",
    "report_counts_threshold_low real, \\\n",
    "sum_closed_counts_3mos real, \\\n",
    "sum_closed_counts_6mos real, \\\n",
    "avg_closed_counts_6mos real, \\\n",
    "std_closed_counts_6mos real, \\\n",
    "closed_counts_threshold_up real, \\\n",
    "closed_counts_threshold_low real, \\\n",
    "closed_counts_alerts text, \\\n",
    "reported_counts_alerts text, \\\n",
    "severity_alerts text, \\\n",
    "frequency_alerts text, \\\n",
    "alert_year_month ntext)\")\n",
    "cursor.execute(table_sql)\n",
    "cnxn.commit()"
   ]
  },
  {
   "cell_type": "code",
   "execution_count": 102,
   "id": "thermal-literature",
   "metadata": {
    "papermill": {
     "duration": 6.793793,
     "end_time": "2021-04-26T18:17:20.833286",
     "exception": false,
     "start_time": "2021-04-26T18:17:14.039493",
     "status": "completed"
    },
    "tags": []
   },
   "outputs": [],
   "source": [
    "def write_data(contributory_data):\n",
    "    for row in contributory_data:\n",
    "        data_info = row\n",
    "        cursor.execute(\"\"\"INSERT INTO contributory_alerts values {}\"\"\".format(\"(\" +\"?,\"*71+\"?)\"), data_info)\n",
    "    \n",
    "    cnxn.commit()"
   ]
  },
  {
   "cell_type": "code",
   "execution_count": 105,
   "id": "palestinian-employee",
   "metadata": {},
   "outputs": [
    {
     "ename": "ProgrammingError",
     "evalue": "('The SQL contains 72 parameter markers, but 78 parameters were supplied', 'HY000')",
     "output_type": "error",
     "traceback": [
      "\u001b[0;31m---------------------------------------------------------------------------\u001b[0m",
      "\u001b[0;31mProgrammingError\u001b[0m                          Traceback (most recent call last)",
      "\u001b[0;32m<ipython-input-105-fea0f9f530ca>\u001b[0m in \u001b[0;36m<module>\u001b[0;34m\u001b[0m\n\u001b[0;32m----> 1\u001b[0;31m \u001b[0mwrite_data\u001b[0m\u001b[0;34m(\u001b[0m\u001b[0mcontributory_data\u001b[0m\u001b[0;34m)\u001b[0m\u001b[0;34m\u001b[0m\u001b[0;34m\u001b[0m\u001b[0m\n\u001b[0m",
      "\u001b[0;32m<ipython-input-102-eecbbfa2531b>\u001b[0m in \u001b[0;36mwrite_data\u001b[0;34m(contributory_data)\u001b[0m\n\u001b[1;32m      2\u001b[0m     \u001b[0;32mfor\u001b[0m \u001b[0mrow\u001b[0m \u001b[0;32min\u001b[0m \u001b[0mcontributory_data\u001b[0m\u001b[0;34m:\u001b[0m\u001b[0;34m\u001b[0m\u001b[0;34m\u001b[0m\u001b[0m\n\u001b[1;32m      3\u001b[0m         \u001b[0mdata_info\u001b[0m \u001b[0;34m=\u001b[0m \u001b[0mrow\u001b[0m\u001b[0;34m\u001b[0m\u001b[0;34m\u001b[0m\u001b[0m\n\u001b[0;32m----> 4\u001b[0;31m         \u001b[0mcursor\u001b[0m\u001b[0;34m.\u001b[0m\u001b[0mexecute\u001b[0m\u001b[0;34m(\u001b[0m\u001b[0;34m\"\"\"INSERT INTO contributory_alerts values {}\"\"\"\u001b[0m\u001b[0;34m.\u001b[0m\u001b[0mformat\u001b[0m\u001b[0;34m(\u001b[0m\u001b[0;34m\"(\"\u001b[0m \u001b[0;34m+\u001b[0m\u001b[0;34m\"?,\"\u001b[0m\u001b[0;34m*\u001b[0m\u001b[0;36m71\u001b[0m\u001b[0;34m+\u001b[0m\u001b[0;34m\"?)\"\u001b[0m\u001b[0;34m)\u001b[0m\u001b[0;34m,\u001b[0m \u001b[0mdata_info\u001b[0m\u001b[0;34m)\u001b[0m\u001b[0;34m\u001b[0m\u001b[0;34m\u001b[0m\u001b[0m\n\u001b[0m\u001b[1;32m      5\u001b[0m \u001b[0;34m\u001b[0m\u001b[0m\n\u001b[1;32m      6\u001b[0m     \u001b[0mcnxn\u001b[0m\u001b[0;34m.\u001b[0m\u001b[0mcommit\u001b[0m\u001b[0;34m(\u001b[0m\u001b[0;34m)\u001b[0m\u001b[0;34m\u001b[0m\u001b[0;34m\u001b[0m\u001b[0m\n",
      "\u001b[0;31mProgrammingError\u001b[0m: ('The SQL contains 72 parameter markers, but 78 parameters were supplied', 'HY000')"
     ]
    }
   ],
   "source": [
    "write_data(contributory_data)"
   ]
  },
  {
   "cell_type": "code",
   "execution_count": null,
   "id": "continental-scientist",
   "metadata": {
    "papermill": {
     "duration": 0.054246,
     "end_time": "2021-04-26T18:17:20.935343",
     "exception": false,
     "start_time": "2021-04-26T18:17:20.881097",
     "status": "completed"
    },
    "tags": []
   },
   "outputs": [],
   "source": [
    "cnxn.close()  "
   ]
  },
  {
   "cell_type": "code",
   "execution_count": null,
   "id": "structural-canada",
   "metadata": {
    "papermill": {
     "duration": 0.046936,
     "end_time": "2021-04-26T18:17:21.028028",
     "exception": false,
     "start_time": "2021-04-26T18:17:20.981092",
     "status": "completed"
    },
    "tags": []
   },
   "outputs": [],
   "source": []
  }
 ],
 "metadata": {
  "kernelspec": {
   "display_name": "Fido Python 3",
   "language": "python",
   "name": "python3"
  },
  "language_info": {
   "codemirror_mode": {
    "name": "ipython",
    "version": 3
   },
   "file_extension": ".py",
   "mimetype": "text/x-python",
   "name": "python",
   "nbconvert_exporter": "python",
   "pygments_lexer": "ipython3",
   "version": "3.8.3"
  },
  "papermill": {
   "default_parameters": {},
   "duration": 102.862616,
   "end_time": "2021-04-26T18:17:21.498820",
   "environment_variables": {},
   "exception": null,
   "input_path": "slim_window-exposure-combine.ipynb",
   "output_path": "slim_window-exposure-combine.ipynb",
   "parameters": {
    "end": 202008
   },
   "start_time": "2021-04-26T18:15:38.636204",
   "version": "2.3.3"
  }
 },
 "nbformat": 4,
 "nbformat_minor": 5
}
