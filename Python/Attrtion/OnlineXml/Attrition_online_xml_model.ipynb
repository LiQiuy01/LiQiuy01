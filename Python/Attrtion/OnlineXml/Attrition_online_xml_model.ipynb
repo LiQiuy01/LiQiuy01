{
 "cells": [
  {
   "cell_type": "code",
   "execution_count": 1,
   "metadata": {},
   "outputs": [],
   "source": [
    "import pandas as pd\n",
    "import numpy as np\n",
    "import matplotlib as plt\n",
    "import pandas as pd\n",
    "from pandas import Timestamp\n",
    "from datetime import datetime, timedelta\n",
    "import pandas as pd"
   ]
  },
  {
   "cell_type": "code",
   "execution_count": 2,
   "metadata": {},
   "outputs": [
    {
     "data": {
      "text/plain": [
       "['/home/autumn/Attrition_Online_XML',\n",
       " '/var/anaconda3/lib/python38.zip',\n",
       " '/var/anaconda3/lib/python3.8',\n",
       " '/var/anaconda3/lib/python3.8/lib-dynload',\n",
       " '',\n",
       " '/home/autumn/.local/lib/python3.8/site-packages',\n",
       " '/var/anaconda3/lib/python3.8/site-packages',\n",
       " '/var/anaconda3/lib/python3.8/site-packages/IPython/extensions',\n",
       " '/home/autumn/.ipython']"
      ]
     },
     "execution_count": 2,
     "metadata": {},
     "output_type": "execute_result"
    }
   ],
   "source": [
    "import sys\n",
    "sys.path"
   ]
  },
  {
   "cell_type": "code",
   "execution_count": 3,
   "metadata": {},
   "outputs": [
    {
     "name": "stderr",
     "output_type": "stream",
     "text": [
      "/var/anaconda3/lib/python3.8/site-packages/IPython/core/interactiveshell.py:3071: DtypeWarning: Columns (91) have mixed types.Specify dtype option on import or set low_memory=False.\n",
      "  has_raised = await self.run_ast_nodes(code_ast.body, cell_name,\n"
     ]
    }
   ],
   "source": [
    "data = pd.read_csv(\"/home/autumn/Attrition_Online_XML/Data/autumn_attrition_all_variables.csv\", encoding = 'unicode_escape')"
   ]
  },
  {
   "cell_type": "code",
   "execution_count": 4,
   "metadata": {},
   "outputs": [
    {
     "data": {
      "text/html": [
       "<div>\n",
       "<style scoped>\n",
       "    .dataframe tbody tr th:only-of-type {\n",
       "        vertical-align: middle;\n",
       "    }\n",
       "\n",
       "    .dataframe tbody tr th {\n",
       "        vertical-align: top;\n",
       "    }\n",
       "\n",
       "    .dataframe thead th {\n",
       "        text-align: right;\n",
       "    }\n",
       "</style>\n",
       "<table border=\"1\" class=\"dataframe\">\n",
       "  <thead>\n",
       "    <tr style=\"text-align: right;\">\n",
       "      <th></th>\n",
       "      <th>customer_account_sk</th>\n",
       "      <th>subaccount_status</th>\n",
       "      <th>total_revenue_3mos</th>\n",
       "      <th>total_revenue_6mos</th>\n",
       "      <th>total_revenue_9mos</th>\n",
       "      <th>total_revenue_12mos</th>\n",
       "      <th>sum_active_rev_flag</th>\n",
       "      <th>sum_zero_billing_flag</th>\n",
       "      <th>sum_yago_revenue</th>\n",
       "      <th>sum_curr_year_revenue</th>\n",
       "      <th>...</th>\n",
       "      <th>price_change_Q2_Q3</th>\n",
       "      <th>price_change_Q3_Q4</th>\n",
       "      <th>price_change_Q1_Q2_alert</th>\n",
       "      <th>price_change_Q2_Q3_alert</th>\n",
       "      <th>price_change_Q3_Q4_alert</th>\n",
       "      <th>avg_account_issues_12mos</th>\n",
       "      <th>avg_nonpassworkd_12mos</th>\n",
       "      <th>avg_passworkd_12mos</th>\n",
       "      <th>avg_prod_support_12mos</th>\n",
       "      <th>avg_tech_issues_12mos</th>\n",
       "    </tr>\n",
       "  </thead>\n",
       "  <tbody>\n",
       "    <tr>\n",
       "      <th>0</th>\n",
       "      <td>67572</td>\n",
       "      <td>Active</td>\n",
       "      <td>762.91</td>\n",
       "      <td>1585.57</td>\n",
       "      <td>2284.68</td>\n",
       "      <td>2998.29</td>\n",
       "      <td>21</td>\n",
       "      <td>0</td>\n",
       "      <td>2359.28</td>\n",
       "      <td>2998.29</td>\n",
       "      <td>...</td>\n",
       "      <td>-0.00823462</td>\n",
       "      <td>-0.004559</td>\n",
       "      <td>0</td>\n",
       "      <td>0</td>\n",
       "      <td>0</td>\n",
       "      <td>0.000000</td>\n",
       "      <td>0.000000</td>\n",
       "      <td>0.000000</td>\n",
       "      <td>0.000000</td>\n",
       "      <td>0.000000</td>\n",
       "    </tr>\n",
       "    <tr>\n",
       "      <th>1</th>\n",
       "      <td>67580</td>\n",
       "      <td>attrited</td>\n",
       "      <td>4577.31</td>\n",
       "      <td>11251.83</td>\n",
       "      <td>14373.38</td>\n",
       "      <td>17414.65</td>\n",
       "      <td>73</td>\n",
       "      <td>0</td>\n",
       "      <td>11676.02</td>\n",
       "      <td>17414.65</td>\n",
       "      <td>...</td>\n",
       "      <td>0.18001</td>\n",
       "      <td>0.021731</td>\n",
       "      <td>0</td>\n",
       "      <td>0</td>\n",
       "      <td>0</td>\n",
       "      <td>0.008929</td>\n",
       "      <td>0.022321</td>\n",
       "      <td>0.000000</td>\n",
       "      <td>0.004464</td>\n",
       "      <td>0.000000</td>\n",
       "    </tr>\n",
       "    <tr>\n",
       "      <th>2</th>\n",
       "      <td>67616</td>\n",
       "      <td>Active</td>\n",
       "      <td>750.00</td>\n",
       "      <td>1500.00</td>\n",
       "      <td>2250.00</td>\n",
       "      <td>3184.45</td>\n",
       "      <td>21</td>\n",
       "      <td>0</td>\n",
       "      <td>2250.00</td>\n",
       "      <td>3184.45</td>\n",
       "      <td>...</td>\n",
       "      <td>-0.691781</td>\n",
       "      <td>1.561404</td>\n",
       "      <td>1</td>\n",
       "      <td>1</td>\n",
       "      <td>1</td>\n",
       "      <td>0.000000</td>\n",
       "      <td>0.250000</td>\n",
       "      <td>0.000000</td>\n",
       "      <td>0.000000</td>\n",
       "      <td>0.000000</td>\n",
       "    </tr>\n",
       "    <tr>\n",
       "      <th>3</th>\n",
       "      <td>67625</td>\n",
       "      <td>Active</td>\n",
       "      <td>825.50</td>\n",
       "      <td>1782.65</td>\n",
       "      <td>3356.85</td>\n",
       "      <td>4737.65</td>\n",
       "      <td>21</td>\n",
       "      <td>0</td>\n",
       "      <td>2469.00</td>\n",
       "      <td>4737.65</td>\n",
       "      <td>...</td>\n",
       "      <td>-0.0842348</td>\n",
       "      <td>0.000081</td>\n",
       "      <td>0</td>\n",
       "      <td>0</td>\n",
       "      <td>0</td>\n",
       "      <td>0.000000</td>\n",
       "      <td>0.000000</td>\n",
       "      <td>0.000000</td>\n",
       "      <td>0.000000</td>\n",
       "      <td>0.000000</td>\n",
       "    </tr>\n",
       "    <tr>\n",
       "      <th>4</th>\n",
       "      <td>67688</td>\n",
       "      <td>Active</td>\n",
       "      <td>474.25</td>\n",
       "      <td>920.30</td>\n",
       "      <td>1588.50</td>\n",
       "      <td>2023.10</td>\n",
       "      <td>21</td>\n",
       "      <td>0</td>\n",
       "      <td>1369.45</td>\n",
       "      <td>2023.10</td>\n",
       "      <td>...</td>\n",
       "      <td>-0.0854247</td>\n",
       "      <td>0.016430</td>\n",
       "      <td>0</td>\n",
       "      <td>0</td>\n",
       "      <td>0</td>\n",
       "      <td>0.052632</td>\n",
       "      <td>0.105263</td>\n",
       "      <td>0.157895</td>\n",
       "      <td>0.026316</td>\n",
       "      <td>0.052632</td>\n",
       "    </tr>\n",
       "  </tbody>\n",
       "</table>\n",
       "<p>5 rows × 101 columns</p>\n",
       "</div>"
      ],
      "text/plain": [
       "   customer_account_sk subaccount_status  total_revenue_3mos  \\\n",
       "0                67572            Active              762.91   \n",
       "1                67580          attrited             4577.31   \n",
       "2                67616            Active              750.00   \n",
       "3                67625            Active              825.50   \n",
       "4                67688            Active              474.25   \n",
       "\n",
       "   total_revenue_6mos  total_revenue_9mos  total_revenue_12mos  \\\n",
       "0             1585.57             2284.68              2998.29   \n",
       "1            11251.83            14373.38             17414.65   \n",
       "2             1500.00             2250.00              3184.45   \n",
       "3             1782.65             3356.85              4737.65   \n",
       "4              920.30             1588.50              2023.10   \n",
       "\n",
       "   sum_active_rev_flag  sum_zero_billing_flag  sum_yago_revenue  \\\n",
       "0                   21                      0           2359.28   \n",
       "1                   73                      0          11676.02   \n",
       "2                   21                      0           2250.00   \n",
       "3                   21                      0           2469.00   \n",
       "4                   21                      0           1369.45   \n",
       "\n",
       "   sum_curr_year_revenue  ...  price_change_Q2_Q3  price_change_Q3_Q4  \\\n",
       "0                2998.29  ...         -0.00823462           -0.004559   \n",
       "1               17414.65  ...             0.18001            0.021731   \n",
       "2                3184.45  ...           -0.691781            1.561404   \n",
       "3                4737.65  ...          -0.0842348            0.000081   \n",
       "4                2023.10  ...          -0.0854247            0.016430   \n",
       "\n",
       "   price_change_Q1_Q2_alert  price_change_Q2_Q3_alert  \\\n",
       "0                         0                         0   \n",
       "1                         0                         0   \n",
       "2                         1                         1   \n",
       "3                         0                         0   \n",
       "4                         0                         0   \n",
       "\n",
       "   price_change_Q3_Q4_alert  avg_account_issues_12mos  avg_nonpassworkd_12mos  \\\n",
       "0                         0                  0.000000                0.000000   \n",
       "1                         0                  0.008929                0.022321   \n",
       "2                         1                  0.000000                0.250000   \n",
       "3                         0                  0.000000                0.000000   \n",
       "4                         0                  0.052632                0.105263   \n",
       "\n",
       "   avg_passworkd_12mos  avg_prod_support_12mos  avg_tech_issues_12mos  \n",
       "0             0.000000                0.000000               0.000000  \n",
       "1             0.000000                0.004464               0.000000  \n",
       "2             0.000000                0.000000               0.000000  \n",
       "3             0.000000                0.000000               0.000000  \n",
       "4             0.157895                0.026316               0.052632  \n",
       "\n",
       "[5 rows x 101 columns]"
      ]
     },
     "execution_count": 4,
     "metadata": {},
     "output_type": "execute_result"
    }
   ],
   "source": [
    "data.head()"
   ]
  },
  {
   "cell_type": "code",
   "execution_count": 5,
   "metadata": {},
   "outputs": [
    {
     "data": {
      "text/plain": [
       "subaccount_status     object\n",
       "price_change_Q2_Q3    object\n",
       "dtype: object"
      ]
     },
     "execution_count": 5,
     "metadata": {},
     "output_type": "execute_result"
    }
   ],
   "source": [
    "data.dtypes[data.dtypes =='object'] "
   ]
  },
  {
   "cell_type": "code",
   "execution_count": 6,
   "metadata": {},
   "outputs": [],
   "source": [
    "data2 =  data.drop(['subaccount_status', 'attrition_dt', 'LastSearchDate'],  axis=1)"
   ]
  },
  {
   "cell_type": "code",
   "execution_count": 7,
   "metadata": {},
   "outputs": [],
   "source": [
    "data2['price_change_Q2_Q3'] = pd.to_numeric(data.price_change_Q2_Q3, errors='coerce')"
   ]
  },
  {
   "cell_type": "code",
   "execution_count": 8,
   "metadata": {},
   "outputs": [],
   "source": [
    "data2['binary_response'] =  list(map(lambda x: 0\\\n",
    "                                          if (x=='Active') else 1, \\\n",
    "                                          data['subaccount_status']))\n"
   ]
  },
  {
   "cell_type": "code",
   "execution_count": 9,
   "metadata": {},
   "outputs": [
    {
     "data": {
      "text/plain": [
       "customer_account_sk         int64\n",
       "total_revenue_3mos        float64\n",
       "total_revenue_6mos        float64\n",
       "total_revenue_9mos        float64\n",
       "total_revenue_12mos       float64\n",
       "                           ...   \n",
       "avg_nonpassworkd_12mos    float64\n",
       "avg_passworkd_12mos       float64\n",
       "avg_prod_support_12mos    float64\n",
       "avg_tech_issues_12mos     float64\n",
       "binary_response             int64\n",
       "Length: 99, dtype: object"
      ]
     },
     "execution_count": 9,
     "metadata": {},
     "output_type": "execute_result"
    }
   ],
   "source": [
    "data2.dtypes[data2.dtypes !='object'] "
   ]
  },
  {
   "cell_type": "code",
   "execution_count": 10,
   "metadata": {},
   "outputs": [
    {
     "data": {
      "text/html": [
       "<div>\n",
       "<style scoped>\n",
       "    .dataframe tbody tr th:only-of-type {\n",
       "        vertical-align: middle;\n",
       "    }\n",
       "\n",
       "    .dataframe tbody tr th {\n",
       "        vertical-align: top;\n",
       "    }\n",
       "\n",
       "    .dataframe thead th {\n",
       "        text-align: right;\n",
       "    }\n",
       "</style>\n",
       "<table border=\"1\" class=\"dataframe\">\n",
       "  <thead>\n",
       "    <tr style=\"text-align: right;\">\n",
       "      <th></th>\n",
       "      <th>customer_account_sk</th>\n",
       "      <th>total_revenue_3mos</th>\n",
       "      <th>total_revenue_6mos</th>\n",
       "      <th>total_revenue_9mos</th>\n",
       "      <th>total_revenue_12mos</th>\n",
       "      <th>sum_active_rev_flag</th>\n",
       "      <th>sum_zero_billing_flag</th>\n",
       "      <th>sum_yago_revenue</th>\n",
       "      <th>sum_curr_year_revenue</th>\n",
       "      <th>sum_curr_3mos_revenue</th>\n",
       "      <th>...</th>\n",
       "      <th>price_change_Q3_Q4</th>\n",
       "      <th>price_change_Q1_Q2_alert</th>\n",
       "      <th>price_change_Q2_Q3_alert</th>\n",
       "      <th>price_change_Q3_Q4_alert</th>\n",
       "      <th>avg_account_issues_12mos</th>\n",
       "      <th>avg_nonpassworkd_12mos</th>\n",
       "      <th>avg_passworkd_12mos</th>\n",
       "      <th>avg_prod_support_12mos</th>\n",
       "      <th>avg_tech_issues_12mos</th>\n",
       "      <th>binary_response</th>\n",
       "    </tr>\n",
       "  </thead>\n",
       "  <tbody>\n",
       "    <tr>\n",
       "      <th>0</th>\n",
       "      <td>67572</td>\n",
       "      <td>762.91</td>\n",
       "      <td>1585.57</td>\n",
       "      <td>2284.68</td>\n",
       "      <td>2998.29</td>\n",
       "      <td>21</td>\n",
       "      <td>0</td>\n",
       "      <td>2359.28</td>\n",
       "      <td>2998.29</td>\n",
       "      <td>762.91</td>\n",
       "      <td>...</td>\n",
       "      <td>-0.004559</td>\n",
       "      <td>0</td>\n",
       "      <td>0</td>\n",
       "      <td>0</td>\n",
       "      <td>0.000000</td>\n",
       "      <td>0.000000</td>\n",
       "      <td>0.000000</td>\n",
       "      <td>0.000000</td>\n",
       "      <td>0.000000</td>\n",
       "      <td>0</td>\n",
       "    </tr>\n",
       "    <tr>\n",
       "      <th>1</th>\n",
       "      <td>67580</td>\n",
       "      <td>4577.31</td>\n",
       "      <td>11251.83</td>\n",
       "      <td>14373.38</td>\n",
       "      <td>17414.65</td>\n",
       "      <td>73</td>\n",
       "      <td>0</td>\n",
       "      <td>11676.02</td>\n",
       "      <td>17414.65</td>\n",
       "      <td>4577.31</td>\n",
       "      <td>...</td>\n",
       "      <td>0.021731</td>\n",
       "      <td>0</td>\n",
       "      <td>0</td>\n",
       "      <td>0</td>\n",
       "      <td>0.008929</td>\n",
       "      <td>0.022321</td>\n",
       "      <td>0.000000</td>\n",
       "      <td>0.004464</td>\n",
       "      <td>0.000000</td>\n",
       "      <td>1</td>\n",
       "    </tr>\n",
       "    <tr>\n",
       "      <th>2</th>\n",
       "      <td>67616</td>\n",
       "      <td>750.00</td>\n",
       "      <td>1500.00</td>\n",
       "      <td>2250.00</td>\n",
       "      <td>3184.45</td>\n",
       "      <td>21</td>\n",
       "      <td>0</td>\n",
       "      <td>2250.00</td>\n",
       "      <td>3184.45</td>\n",
       "      <td>750.00</td>\n",
       "      <td>...</td>\n",
       "      <td>1.561404</td>\n",
       "      <td>1</td>\n",
       "      <td>1</td>\n",
       "      <td>1</td>\n",
       "      <td>0.000000</td>\n",
       "      <td>0.250000</td>\n",
       "      <td>0.000000</td>\n",
       "      <td>0.000000</td>\n",
       "      <td>0.000000</td>\n",
       "      <td>0</td>\n",
       "    </tr>\n",
       "    <tr>\n",
       "      <th>3</th>\n",
       "      <td>67625</td>\n",
       "      <td>825.50</td>\n",
       "      <td>1782.65</td>\n",
       "      <td>3356.85</td>\n",
       "      <td>4737.65</td>\n",
       "      <td>21</td>\n",
       "      <td>0</td>\n",
       "      <td>2469.00</td>\n",
       "      <td>4737.65</td>\n",
       "      <td>825.50</td>\n",
       "      <td>...</td>\n",
       "      <td>0.000081</td>\n",
       "      <td>0</td>\n",
       "      <td>0</td>\n",
       "      <td>0</td>\n",
       "      <td>0.000000</td>\n",
       "      <td>0.000000</td>\n",
       "      <td>0.000000</td>\n",
       "      <td>0.000000</td>\n",
       "      <td>0.000000</td>\n",
       "      <td>0</td>\n",
       "    </tr>\n",
       "    <tr>\n",
       "      <th>4</th>\n",
       "      <td>67688</td>\n",
       "      <td>474.25</td>\n",
       "      <td>920.30</td>\n",
       "      <td>1588.50</td>\n",
       "      <td>2023.10</td>\n",
       "      <td>21</td>\n",
       "      <td>0</td>\n",
       "      <td>1369.45</td>\n",
       "      <td>2023.10</td>\n",
       "      <td>474.25</td>\n",
       "      <td>...</td>\n",
       "      <td>0.016430</td>\n",
       "      <td>0</td>\n",
       "      <td>0</td>\n",
       "      <td>0</td>\n",
       "      <td>0.052632</td>\n",
       "      <td>0.105263</td>\n",
       "      <td>0.157895</td>\n",
       "      <td>0.026316</td>\n",
       "      <td>0.052632</td>\n",
       "      <td>0</td>\n",
       "    </tr>\n",
       "  </tbody>\n",
       "</table>\n",
       "<p>5 rows × 99 columns</p>\n",
       "</div>"
      ],
      "text/plain": [
       "   customer_account_sk  total_revenue_3mos  total_revenue_6mos  \\\n",
       "0                67572              762.91             1585.57   \n",
       "1                67580             4577.31            11251.83   \n",
       "2                67616              750.00             1500.00   \n",
       "3                67625              825.50             1782.65   \n",
       "4                67688              474.25              920.30   \n",
       "\n",
       "   total_revenue_9mos  total_revenue_12mos  sum_active_rev_flag  \\\n",
       "0             2284.68              2998.29                   21   \n",
       "1            14373.38             17414.65                   73   \n",
       "2             2250.00              3184.45                   21   \n",
       "3             3356.85              4737.65                   21   \n",
       "4             1588.50              2023.10                   21   \n",
       "\n",
       "   sum_zero_billing_flag  sum_yago_revenue  sum_curr_year_revenue  \\\n",
       "0                      0           2359.28                2998.29   \n",
       "1                      0          11676.02               17414.65   \n",
       "2                      0           2250.00                3184.45   \n",
       "3                      0           2469.00                4737.65   \n",
       "4                      0           1369.45                2023.10   \n",
       "\n",
       "   sum_curr_3mos_revenue  ...  price_change_Q3_Q4  price_change_Q1_Q2_alert  \\\n",
       "0                 762.91  ...           -0.004559                         0   \n",
       "1                4577.31  ...            0.021731                         0   \n",
       "2                 750.00  ...            1.561404                         1   \n",
       "3                 825.50  ...            0.000081                         0   \n",
       "4                 474.25  ...            0.016430                         0   \n",
       "\n",
       "   price_change_Q2_Q3_alert  price_change_Q3_Q4_alert  \\\n",
       "0                         0                         0   \n",
       "1                         0                         0   \n",
       "2                         1                         1   \n",
       "3                         0                         0   \n",
       "4                         0                         0   \n",
       "\n",
       "   avg_account_issues_12mos  avg_nonpassworkd_12mos  avg_passworkd_12mos  \\\n",
       "0                  0.000000                0.000000             0.000000   \n",
       "1                  0.008929                0.022321             0.000000   \n",
       "2                  0.000000                0.250000             0.000000   \n",
       "3                  0.000000                0.000000             0.000000   \n",
       "4                  0.052632                0.105263             0.157895   \n",
       "\n",
       "   avg_prod_support_12mos  avg_tech_issues_12mos  binary_response  \n",
       "0                0.000000               0.000000                0  \n",
       "1                0.004464               0.000000                1  \n",
       "2                0.000000               0.000000                0  \n",
       "3                0.000000               0.000000                0  \n",
       "4                0.026316               0.052632                0  \n",
       "\n",
       "[5 rows x 99 columns]"
      ]
     },
     "execution_count": 10,
     "metadata": {},
     "output_type": "execute_result"
    }
   ],
   "source": [
    "data2.head()"
   ]
  },
  {
   "cell_type": "code",
   "execution_count": 11,
   "metadata": {},
   "outputs": [],
   "source": [
    "# import required libraries\n",
    "import pandas as pd\n",
    "import numpy as np\n",
    "import matplotlib.pyplot as plt\n",
    "import numpy as np\n",
    "from sklearn.model_selection import train_test_split"
   ]
  },
  {
   "cell_type": "code",
   "execution_count": 12,
   "metadata": {},
   "outputs": [],
   "source": [
    "train=data2\n",
    "train = train.set_index('customer_account_sk') "
   ]
  },
  {
   "cell_type": "code",
   "execution_count": 13,
   "metadata": {},
   "outputs": [],
   "source": [
    "df = train.drop(['binary_response'], 1)  ### drop the response variable"
   ]
  },
  {
   "cell_type": "code",
   "execution_count": 14,
   "metadata": {},
   "outputs": [],
   "source": [
    "X = df.fillna(0)"
   ]
  },
  {
   "cell_type": "code",
   "execution_count": 15,
   "metadata": {},
   "outputs": [],
   "source": [
    "Y = train.binary_response"
   ]
  },
  {
   "cell_type": "code",
   "execution_count": 16,
   "metadata": {},
   "outputs": [],
   "source": [
    "X_train, X_test, y_train, y_test = train_test_split( X, Y, test_size=0.25, random_state=42)"
   ]
  },
  {
   "cell_type": "code",
   "execution_count": 17,
   "metadata": {},
   "outputs": [
    {
     "data": {
      "text/html": [
       "<div>\n",
       "<style scoped>\n",
       "    .dataframe tbody tr th:only-of-type {\n",
       "        vertical-align: middle;\n",
       "    }\n",
       "\n",
       "    .dataframe tbody tr th {\n",
       "        vertical-align: top;\n",
       "    }\n",
       "\n",
       "    .dataframe thead th {\n",
       "        text-align: right;\n",
       "    }\n",
       "</style>\n",
       "<table border=\"1\" class=\"dataframe\">\n",
       "  <thead>\n",
       "    <tr style=\"text-align: right;\">\n",
       "      <th></th>\n",
       "      <th>total_revenue_3mos</th>\n",
       "      <th>total_revenue_6mos</th>\n",
       "      <th>total_revenue_9mos</th>\n",
       "      <th>total_revenue_12mos</th>\n",
       "      <th>sum_active_rev_flag</th>\n",
       "      <th>sum_zero_billing_flag</th>\n",
       "      <th>sum_yago_revenue</th>\n",
       "      <th>sum_curr_year_revenue</th>\n",
       "      <th>sum_curr_3mos_revenue</th>\n",
       "      <th>sum_yago_3mos_revenue</th>\n",
       "      <th>...</th>\n",
       "      <th>price_change_Q3_Q4</th>\n",
       "      <th>price_change_Q1_Q2_alert</th>\n",
       "      <th>price_change_Q2_Q3_alert</th>\n",
       "      <th>price_change_Q3_Q4_alert</th>\n",
       "      <th>avg_account_issues_12mos</th>\n",
       "      <th>avg_nonpassworkd_12mos</th>\n",
       "      <th>avg_passworkd_12mos</th>\n",
       "      <th>avg_prod_support_12mos</th>\n",
       "      <th>avg_tech_issues_12mos</th>\n",
       "      <th>binary_response</th>\n",
       "    </tr>\n",
       "    <tr>\n",
       "      <th>customer_account_sk</th>\n",
       "      <th></th>\n",
       "      <th></th>\n",
       "      <th></th>\n",
       "      <th></th>\n",
       "      <th></th>\n",
       "      <th></th>\n",
       "      <th></th>\n",
       "      <th></th>\n",
       "      <th></th>\n",
       "      <th></th>\n",
       "      <th></th>\n",
       "      <th></th>\n",
       "      <th></th>\n",
       "      <th></th>\n",
       "      <th></th>\n",
       "      <th></th>\n",
       "      <th></th>\n",
       "      <th></th>\n",
       "      <th></th>\n",
       "      <th></th>\n",
       "      <th></th>\n",
       "    </tr>\n",
       "  </thead>\n",
       "  <tbody>\n",
       "    <tr>\n",
       "      <th>67572</th>\n",
       "      <td>762.91</td>\n",
       "      <td>1585.57</td>\n",
       "      <td>2284.68</td>\n",
       "      <td>2998.29</td>\n",
       "      <td>21</td>\n",
       "      <td>0</td>\n",
       "      <td>2359.28</td>\n",
       "      <td>2998.29</td>\n",
       "      <td>762.91</td>\n",
       "      <td>2968.88</td>\n",
       "      <td>...</td>\n",
       "      <td>-0.004559</td>\n",
       "      <td>0</td>\n",
       "      <td>0</td>\n",
       "      <td>0</td>\n",
       "      <td>0.000000</td>\n",
       "      <td>0.000000</td>\n",
       "      <td>0.000000</td>\n",
       "      <td>0.000000</td>\n",
       "      <td>0.000000</td>\n",
       "      <td>0</td>\n",
       "    </tr>\n",
       "    <tr>\n",
       "      <th>67580</th>\n",
       "      <td>4577.31</td>\n",
       "      <td>11251.83</td>\n",
       "      <td>14373.38</td>\n",
       "      <td>17414.65</td>\n",
       "      <td>73</td>\n",
       "      <td>0</td>\n",
       "      <td>11676.02</td>\n",
       "      <td>17414.65</td>\n",
       "      <td>4577.31</td>\n",
       "      <td>15818.64</td>\n",
       "      <td>...</td>\n",
       "      <td>0.021731</td>\n",
       "      <td>0</td>\n",
       "      <td>0</td>\n",
       "      <td>0</td>\n",
       "      <td>0.008929</td>\n",
       "      <td>0.022321</td>\n",
       "      <td>0.000000</td>\n",
       "      <td>0.004464</td>\n",
       "      <td>0.000000</td>\n",
       "      <td>1</td>\n",
       "    </tr>\n",
       "    <tr>\n",
       "      <th>67616</th>\n",
       "      <td>750.00</td>\n",
       "      <td>1500.00</td>\n",
       "      <td>2250.00</td>\n",
       "      <td>3184.45</td>\n",
       "      <td>21</td>\n",
       "      <td>0</td>\n",
       "      <td>2250.00</td>\n",
       "      <td>3184.45</td>\n",
       "      <td>750.00</td>\n",
       "      <td>3184.45</td>\n",
       "      <td>...</td>\n",
       "      <td>1.561404</td>\n",
       "      <td>1</td>\n",
       "      <td>1</td>\n",
       "      <td>1</td>\n",
       "      <td>0.000000</td>\n",
       "      <td>0.250000</td>\n",
       "      <td>0.000000</td>\n",
       "      <td>0.000000</td>\n",
       "      <td>0.000000</td>\n",
       "      <td>0</td>\n",
       "    </tr>\n",
       "    <tr>\n",
       "      <th>67625</th>\n",
       "      <td>825.50</td>\n",
       "      <td>1782.65</td>\n",
       "      <td>3356.85</td>\n",
       "      <td>4737.65</td>\n",
       "      <td>21</td>\n",
       "      <td>0</td>\n",
       "      <td>2469.00</td>\n",
       "      <td>4737.65</td>\n",
       "      <td>825.50</td>\n",
       "      <td>4716.45</td>\n",
       "      <td>...</td>\n",
       "      <td>0.000081</td>\n",
       "      <td>0</td>\n",
       "      <td>0</td>\n",
       "      <td>0</td>\n",
       "      <td>0.000000</td>\n",
       "      <td>0.000000</td>\n",
       "      <td>0.000000</td>\n",
       "      <td>0.000000</td>\n",
       "      <td>0.000000</td>\n",
       "      <td>0</td>\n",
       "    </tr>\n",
       "    <tr>\n",
       "      <th>67688</th>\n",
       "      <td>474.25</td>\n",
       "      <td>920.30</td>\n",
       "      <td>1588.50</td>\n",
       "      <td>2023.10</td>\n",
       "      <td>21</td>\n",
       "      <td>0</td>\n",
       "      <td>1369.45</td>\n",
       "      <td>2023.10</td>\n",
       "      <td>474.25</td>\n",
       "      <td>1982.40</td>\n",
       "      <td>...</td>\n",
       "      <td>0.016430</td>\n",
       "      <td>0</td>\n",
       "      <td>0</td>\n",
       "      <td>0</td>\n",
       "      <td>0.052632</td>\n",
       "      <td>0.105263</td>\n",
       "      <td>0.157895</td>\n",
       "      <td>0.026316</td>\n",
       "      <td>0.052632</td>\n",
       "      <td>0</td>\n",
       "    </tr>\n",
       "  </tbody>\n",
       "</table>\n",
       "<p>5 rows × 98 columns</p>\n",
       "</div>"
      ],
      "text/plain": [
       "                     total_revenue_3mos  total_revenue_6mos  \\\n",
       "customer_account_sk                                           \n",
       "67572                            762.91             1585.57   \n",
       "67580                           4577.31            11251.83   \n",
       "67616                            750.00             1500.00   \n",
       "67625                            825.50             1782.65   \n",
       "67688                            474.25              920.30   \n",
       "\n",
       "                     total_revenue_9mos  total_revenue_12mos  \\\n",
       "customer_account_sk                                            \n",
       "67572                           2284.68              2998.29   \n",
       "67580                          14373.38             17414.65   \n",
       "67616                           2250.00              3184.45   \n",
       "67625                           3356.85              4737.65   \n",
       "67688                           1588.50              2023.10   \n",
       "\n",
       "                     sum_active_rev_flag  sum_zero_billing_flag  \\\n",
       "customer_account_sk                                               \n",
       "67572                                 21                      0   \n",
       "67580                                 73                      0   \n",
       "67616                                 21                      0   \n",
       "67625                                 21                      0   \n",
       "67688                                 21                      0   \n",
       "\n",
       "                     sum_yago_revenue  sum_curr_year_revenue  \\\n",
       "customer_account_sk                                            \n",
       "67572                         2359.28                2998.29   \n",
       "67580                        11676.02               17414.65   \n",
       "67616                         2250.00                3184.45   \n",
       "67625                         2469.00                4737.65   \n",
       "67688                         1369.45                2023.10   \n",
       "\n",
       "                     sum_curr_3mos_revenue  sum_yago_3mos_revenue  ...  \\\n",
       "customer_account_sk                                                ...   \n",
       "67572                               762.91                2968.88  ...   \n",
       "67580                              4577.31               15818.64  ...   \n",
       "67616                               750.00                3184.45  ...   \n",
       "67625                               825.50                4716.45  ...   \n",
       "67688                               474.25                1982.40  ...   \n",
       "\n",
       "                     price_change_Q3_Q4  price_change_Q1_Q2_alert  \\\n",
       "customer_account_sk                                                 \n",
       "67572                         -0.004559                         0   \n",
       "67580                          0.021731                         0   \n",
       "67616                          1.561404                         1   \n",
       "67625                          0.000081                         0   \n",
       "67688                          0.016430                         0   \n",
       "\n",
       "                     price_change_Q2_Q3_alert  price_change_Q3_Q4_alert  \\\n",
       "customer_account_sk                                                       \n",
       "67572                                       0                         0   \n",
       "67580                                       0                         0   \n",
       "67616                                       1                         1   \n",
       "67625                                       0                         0   \n",
       "67688                                       0                         0   \n",
       "\n",
       "                     avg_account_issues_12mos  avg_nonpassworkd_12mos  \\\n",
       "customer_account_sk                                                     \n",
       "67572                                0.000000                0.000000   \n",
       "67580                                0.008929                0.022321   \n",
       "67616                                0.000000                0.250000   \n",
       "67625                                0.000000                0.000000   \n",
       "67688                                0.052632                0.105263   \n",
       "\n",
       "                     avg_passworkd_12mos  avg_prod_support_12mos  \\\n",
       "customer_account_sk                                                \n",
       "67572                           0.000000                0.000000   \n",
       "67580                           0.000000                0.004464   \n",
       "67616                           0.000000                0.000000   \n",
       "67625                           0.000000                0.000000   \n",
       "67688                           0.157895                0.026316   \n",
       "\n",
       "                     avg_tech_issues_12mos  binary_response  \n",
       "customer_account_sk                                          \n",
       "67572                             0.000000                0  \n",
       "67580                             0.000000                1  \n",
       "67616                             0.000000                0  \n",
       "67625                             0.000000                0  \n",
       "67688                             0.052632                0  \n",
       "\n",
       "[5 rows x 98 columns]"
      ]
     },
     "execution_count": 17,
     "metadata": {},
     "output_type": "execute_result"
    }
   ],
   "source": [
    "train.head()"
   ]
  },
  {
   "cell_type": "markdown",
   "metadata": {},
   "source": [
    "## 1.Models based on low correlated variables"
   ]
  },
  {
   "cell_type": "code",
   "execution_count": 18,
   "metadata": {},
   "outputs": [
    {
     "data": {
      "text/plain": [
       "69"
      ]
     },
     "execution_count": 18,
     "metadata": {},
     "output_type": "execute_result"
    }
   ],
   "source": [
    "# Create correlation matrix\n",
    "corr_matrix = train.corr().abs()\n",
    "\n",
    "# Select upper triangle of correlation matrix\n",
    "upper = corr_matrix.where(np.triu(np.ones(corr_matrix.shape), k=1).astype(np.bool))\n",
    "\n",
    "# Find index of feature columns with correlation greater than 0.95\n",
    "to_drop = [column for column in upper.columns if any(upper[column] >= 0.4)]\n",
    "len(to_drop)"
   ]
  },
  {
   "cell_type": "code",
   "execution_count": 19,
   "metadata": {},
   "outputs": [
    {
     "data": {
      "text/plain": [
       "(9590, 29)"
      ]
     },
     "execution_count": 19,
     "metadata": {},
     "output_type": "execute_result"
    }
   ],
   "source": [
    "corr = train.drop(columns = to_drop) ### \n",
    "corr.shape"
   ]
  },
  {
   "cell_type": "code",
   "execution_count": 20,
   "metadata": {},
   "outputs": [],
   "source": [
    "corr2 = corr.fillna(0)"
   ]
  },
  {
   "cell_type": "code",
   "execution_count": 21,
   "metadata": {},
   "outputs": [],
   "source": [
    "low_cor = []\n",
    "for col in corr2:\n",
    "    low_cor.append(col)"
   ]
  },
  {
   "cell_type": "code",
   "execution_count": 22,
   "metadata": {},
   "outputs": [],
   "source": [
    "low_cor_x=X_train[low_cor]"
   ]
  },
  {
   "cell_type": "code",
   "execution_count": 23,
   "metadata": {},
   "outputs": [],
   "source": [
    "import operator\n",
    "import statsmodels.api as sm\n",
    "import pandas as pd\n",
    "def remove_most_insignificant(df, results):\n",
    "    # use operator to find the key which belongs to the maximum value in the dictionary:\n",
    "    max_p_value = max(results.pvalues.iteritems(), key=operator.itemgetter(1))[0]\n",
    "    # this is the feature you want to drop:\n",
    "    df.drop(columns = max_p_value, inplace = True)\n",
    "    return df"
   ]
  },
  {
   "cell_type": "code",
   "execution_count": 24,
   "metadata": {},
   "outputs": [],
   "source": [
    "X = low_cor_x\n",
    "y = y_train"
   ]
  },
  {
   "cell_type": "code",
   "execution_count": 25,
   "metadata": {},
   "outputs": [
    {
     "name": "stdout",
     "output_type": "stream",
     "text": [
      "Optimization terminated successfully.\n",
      "         Current function value: 0.229421\n",
      "         Iterations 10\n",
      "Optimization terminated successfully.\n",
      "         Current function value: 0.229421\n",
      "         Iterations 10\n",
      "Optimization terminated successfully.\n",
      "         Current function value: 0.229421\n",
      "         Iterations 10\n",
      "Optimization terminated successfully.\n",
      "         Current function value: 0.229422\n",
      "         Iterations 10\n",
      "Optimization terminated successfully.\n",
      "         Current function value: 0.229424\n",
      "         Iterations 10\n",
      "Optimization terminated successfully.\n",
      "         Current function value: 0.229428\n",
      "         Iterations 10\n",
      "Optimization terminated successfully.\n",
      "         Current function value: 0.229436\n",
      "         Iterations 10\n",
      "Optimization terminated successfully.\n",
      "         Current function value: 0.229449\n",
      "         Iterations 10\n"
     ]
    },
    {
     "name": "stderr",
     "output_type": "stream",
     "text": [
      "/var/anaconda3/lib/python3.8/site-packages/pandas/core/frame.py:3990: SettingWithCopyWarning: \n",
      "A value is trying to be set on a copy of a slice from a DataFrame\n",
      "\n",
      "See the caveats in the documentation: https://pandas.pydata.org/pandas-docs/stable/user_guide/indexing.html#returning-a-view-versus-a-copy\n",
      "  return super().drop(\n"
     ]
    },
    {
     "name": "stdout",
     "output_type": "stream",
     "text": [
      "Optimization terminated successfully.\n",
      "         Current function value: 0.229501\n",
      "         Iterations 10\n",
      "Optimization terminated successfully.\n",
      "         Current function value: 0.229584\n",
      "         Iterations 10\n",
      "Optimization terminated successfully.\n",
      "         Current function value: 0.229663\n",
      "         Iterations 10\n",
      "Optimization terminated successfully.\n",
      "         Current function value: 0.229760\n",
      "         Iterations 10\n",
      "Optimization terminated successfully.\n",
      "         Current function value: 0.229904\n",
      "         Iterations 10\n",
      "Optimization terminated successfully.\n",
      "         Current function value: 0.230054\n",
      "         Iterations 10\n",
      "Optimization terminated successfully.\n",
      "         Current function value: 0.230402\n",
      "         Iterations 10\n",
      "Optimization terminated successfully.\n",
      "         Current function value: 0.230570\n",
      "         Iterations 10\n",
      "                           Logit Regression Results                           \n",
      "==============================================================================\n",
      "Dep. Variable:        binary_response   No. Observations:                 7192\n",
      "Model:                          Logit   Df Residuals:                     7178\n",
      "Method:                           MLE   Df Model:                           13\n",
      "Date:                Fri, 18 Dec 2020   Pseudo R-squ.:                  0.3243\n",
      "Time:                        14:24:03   Log-Likelihood:                -1658.3\n",
      "converged:                       True   LL-Null:                       -2454.0\n",
      "Covariance Type:            nonrobust   LLR p-value:                     0.000\n",
      "============================================================================================\n",
      "                               coef    std err          z      P>|z|      [0.025      0.975]\n",
      "--------------------------------------------------------------------------------------------\n",
      "total_revenue_3mos           -6e-05   2.09e-05     -2.871      0.004      -0.000    -1.9e-05\n",
      "sum_active_rev_flag          0.0940      0.004     24.568      0.000       0.087       0.102\n",
      "total_contacts_3mos         -0.2784      0.013    -20.795      0.000      -0.305      -0.252\n",
      "total_searches_3mos      -5.097e-05   1.61e-05     -3.168      0.002   -8.25e-05   -1.94e-05\n",
      "Q4_gt_Q3_searches           -0.7773      0.109     -7.150      0.000      -0.990      -0.564\n",
      "Q4_gt_Qt1_2_searches        -1.6634      0.119    -13.989      0.000      -1.896      -1.430\n",
      "fast_alert_searches         -0.8430      0.127     -6.657      0.000      -1.091      -0.595\n",
      "slow_alert_searches          0.4831      0.153      3.156      0.002       0.183       0.783\n",
      "fast_alert_contacts          0.7550      0.155      4.873      0.000       0.451       1.059\n",
      "sm_min_commitments          -1.8632      0.102    -18.295      0.000      -2.063      -1.664\n",
      "sum_account_issues_12mos     0.1895      0.048      3.959      0.000       0.096       0.283\n",
      "total_product               -0.4139      0.049     -8.528      0.000      -0.509      -0.319\n",
      "unit_price_QT1               0.0016      0.001      2.948      0.003       0.001       0.003\n",
      "price_change_Q1_Q2_alert    -0.3077      0.101     -3.055      0.002      -0.505      -0.110\n",
      "============================================================================================\n",
      "\n",
      "Possibly complete quasi-separation: A fraction 0.13 of observations can be\n",
      "perfectly predicted. This might indicate that there is complete\n",
      "quasi-separation. In this case some parameters will not be identified.\n"
     ]
    }
   ],
   "source": [
    "insignificant_feature = True\n",
    "while insignificant_feature:\n",
    "        results = sm.Logit(y.astype(float),X.astype(float)).fit()\n",
    "        significant = [p_value < 0.05 for p_value in results.pvalues]\n",
    "        if all(significant):\n",
    "            insignificant_feature = False\n",
    "        else:\n",
    "            if X.shape[1] == 1:  # if there's only one insignificant variable left\n",
    "                print('No significant features found')\n",
    "                results = None\n",
    "                insignificant_feature = False\n",
    "            else:            \n",
    "                X = remove_most_insignificant(X, results)\n",
    "print(results.summary())"
   ]
  },
  {
   "cell_type": "markdown",
   "metadata": {},
   "source": [
    "## 2.1:drop above highly correlated variables to reduce noise "
   ]
  },
  {
   "cell_type": "markdown",
   "metadata": {},
   "source": [
    "## 3: Try Random Forest to select features"
   ]
  },
  {
   "cell_type": "code",
   "execution_count": 26,
   "metadata": {},
   "outputs": [],
   "source": [
    "from sklearn.ensemble import RandomForestRegressor"
   ]
  },
  {
   "cell_type": "code",
   "execution_count": 27,
   "metadata": {},
   "outputs": [
    {
     "data": {
      "text/plain": [
       "42"
      ]
     },
     "execution_count": 27,
     "metadata": {},
     "output_type": "execute_result"
    }
   ],
   "source": [
    "# Create correlation matrix\n",
    "corr_matrix = train.corr().abs()\n",
    "\n",
    "# Select upper triangle of correlation matrix\n",
    "upper = corr_matrix.where(np.triu(np.ones(corr_matrix.shape), k=1).astype(np.bool))\n",
    "\n",
    "# Find index of feature columns with correlation greater than 0.95\n",
    "to_drop = [column for column in upper.columns if any(upper[column] >= 0.9)]\n",
    "len(to_drop)"
   ]
  },
  {
   "cell_type": "code",
   "execution_count": 28,
   "metadata": {},
   "outputs": [],
   "source": [
    "model = RandomForestRegressor(random_state=1, max_depth=10)"
   ]
  },
  {
   "cell_type": "code",
   "execution_count": 29,
   "metadata": {},
   "outputs": [
    {
     "data": {
      "text/plain": [
       "(9590, 56)"
      ]
     },
     "execution_count": 29,
     "metadata": {},
     "output_type": "execute_result"
    }
   ],
   "source": [
    "train2 = train.drop(columns = to_drop)\n",
    "train2.shape"
   ]
  },
  {
   "cell_type": "code",
   "execution_count": 30,
   "metadata": {},
   "outputs": [],
   "source": [
    "df = train2.drop(['binary_response'], 1)  ### drop the response variable"
   ]
  },
  {
   "cell_type": "code",
   "execution_count": 31,
   "metadata": {},
   "outputs": [],
   "source": [
    "df2 = df.fillna(0)"
   ]
  },
  {
   "cell_type": "code",
   "execution_count": 32,
   "metadata": {},
   "outputs": [
    {
     "data": {
      "text/plain": [
       "RandomForestRegressor(max_depth=10, random_state=1)"
      ]
     },
     "execution_count": 32,
     "metadata": {},
     "output_type": "execute_result"
    }
   ],
   "source": [
    "model.fit(df2, train.binary_response)"
   ]
  },
  {
   "cell_type": "code",
   "execution_count": 33,
   "metadata": {},
   "outputs": [],
   "source": [
    "features = df.columns\n",
    "importances = model.feature_importances_\n",
    "indices = np.argsort(importances)[-30:]  # top 30 features\n",
    "indices2 = np.argsort(importances)[-50:]  # top 50 features"
   ]
  },
  {
   "cell_type": "code",
   "execution_count": 34,
   "metadata": {},
   "outputs": [
    {
     "data": {
      "image/png": "[encoded data removed]",
      "text/plain": [
       "<Figure size 432x288 with 1 Axes>"
      ]
     },
     "metadata": {
      "needs_background": "light"
     },
     "output_type": "display_data"
    }
   ],
   "source": [
    "plt.title('Feature Importances')\n",
    "plt.barh(range(len(indices2)), importances[indices2], color='b', align='center')\n",
    "plt.yticks(range(len(indices2)), [features[i] for i in indices2])\n",
    "plt.xlabel('Relative Importance')\n",
    "plt.show()"
   ]
  },
  {
   "cell_type": "code",
   "execution_count": 35,
   "metadata": {},
   "outputs": [],
   "source": [
    "rf_top30_var = [features[i] for i in indices]\n",
    "rf_top50_var = [features[i] for i in indices2]"
   ]
  },
  {
   "cell_type": "markdown",
   "metadata": {},
   "source": [
    "## 3. Train logit regression on selected random forest selected features"
   ]
  },
  {
   "cell_type": "markdown",
   "metadata": {},
   "source": [
    "### 3.1 Train top 30 random forest selected features "
   ]
  },
  {
   "cell_type": "code",
   "execution_count": 36,
   "metadata": {},
   "outputs": [],
   "source": [
    "x=X_train[rf_top30_var]\n",
    "x2 = x.fillna(0)"
   ]
  },
  {
   "cell_type": "code",
   "execution_count": 37,
   "metadata": {},
   "outputs": [
    {
     "data": {
      "text/plain": [
       "7"
      ]
     },
     "execution_count": 37,
     "metadata": {},
     "output_type": "execute_result"
    }
   ],
   "source": [
    "# Create correlation matrix\n",
    "corr_matrix = x2.corr().abs()\n",
    "\n",
    "# Select upper triangle of correlation matrix\n",
    "upper = corr_matrix.where(np.triu(np.ones(corr_matrix.shape), k=1).astype(np.bool))\n",
    "\n",
    "# Find index of feature columns with correlation greater than 0.95\n",
    "to_drop = [column for column in upper.columns if any(upper[column] >= 0.5)]\n",
    "len(to_drop)"
   ]
  },
  {
   "cell_type": "code",
   "execution_count": 38,
   "metadata": {},
   "outputs": [
    {
     "data": {
      "text/plain": [
       "(7192, 23)"
      ]
     },
     "execution_count": 38,
     "metadata": {},
     "output_type": "execute_result"
    }
   ],
   "source": [
    "x3=x2.drop(columns = to_drop)\n",
    "x3.shape"
   ]
  },
  {
   "cell_type": "code",
   "execution_count": 39,
   "metadata": {},
   "outputs": [],
   "source": [
    "import operator\n",
    "import statsmodels.api as sm\n",
    "import pandas as pd\n",
    "def remove_most_insignificant(df, results):\n",
    "    # use operator to find the key which belongs to the maximum value in the dictionary:\n",
    "    max_p_value = max(results.pvalues.iteritems(), key=operator.itemgetter(1))[0]\n",
    "    # this is the feature you want to drop:\n",
    "    df.drop(columns = max_p_value, inplace = True)\n",
    "    return df"
   ]
  },
  {
   "cell_type": "code",
   "execution_count": 40,
   "metadata": {},
   "outputs": [],
   "source": [
    "X = x3\n",
    "y = y_train"
   ]
  },
  {
   "cell_type": "code",
   "execution_count": 41,
   "metadata": {},
   "outputs": [
    {
     "name": "stdout",
     "output_type": "stream",
     "text": [
      "Optimization terminated successfully.\n",
      "         Current function value: 0.381305\n",
      "         Iterations 11\n",
      "Optimization terminated successfully.\n",
      "         Current function value: 0.381343\n",
      "         Iterations 11\n",
      "Optimization terminated successfully.\n",
      "         Current function value: 0.381344\n",
      "         Iterations 9\n",
      "Optimization terminated successfully.\n",
      "         Current function value: 0.381388\n",
      "         Iterations 9\n",
      "Optimization terminated successfully.\n",
      "         Current function value: 0.381394\n",
      "         Iterations 9\n",
      "Optimization terminated successfully.\n",
      "         Current function value: 0.381403\n",
      "         Iterations 9\n",
      "Optimization terminated successfully.\n",
      "         Current function value: 0.381419\n",
      "         Iterations 9\n",
      "Optimization terminated successfully.\n",
      "         Current function value: 0.381467\n",
      "         Iterations 9\n",
      "Optimization terminated successfully.\n",
      "         Current function value: 0.381500\n",
      "         Iterations 9\n",
      "                           Logit Regression Results                           \n",
      "==============================================================================\n",
      "Dep. Variable:        binary_response   No. Observations:                 7192\n",
      "Model:                          Logit   Df Residuals:                     7177\n",
      "Method:                           MLE   Df Model:                           14\n",
      "Date:                Fri, 18 Dec 2020   Pseudo R-squ.:                 -0.1181\n",
      "Time:                        14:24:12   Log-Likelihood:                -2743.8\n",
      "converged:                       True   LL-Null:                       -2454.0\n",
      "Covariance Type:            nonrobust   LLR p-value:                     1.000\n",
      "==========================================================================================\n",
      "                             coef    std err          z      P>|z|      [0.025      0.975]\n",
      "------------------------------------------------------------------------------------------\n",
      "slow_alert_contacts        0.5998      0.136      4.421      0.000       0.334       0.866\n",
      "slow_alert_searches        1.3296      0.143      9.305      0.000       1.050       1.610\n",
      "Q4_sm_Q1_2_3_searches      0.2541      0.080      3.183      0.001       0.098       0.411\n",
      "sum_passworkd_12mos       -0.1574      0.015    -10.478      0.000      -0.187      -0.128\n",
      "total_product             -1.2853      0.053    -24.468      0.000      -1.388      -1.182\n",
      "sum_nonpassworkd_12mos    -0.0195      0.009     -2.106      0.035      -0.038      -0.001\n",
      "avg_prod_support_12mos    -0.8099      0.380     -2.132      0.033      -1.554      -0.065\n",
      "avg_passworkd_12mos        0.3461      0.108      3.217      0.001       0.135       0.557\n",
      "avg_searches_QT1          -0.0002   3.41e-05     -7.157      0.000      -0.000      -0.000\n",
      "unit_price_QT4             0.0011      0.000      2.512      0.012       0.000       0.002\n",
      "avg_tech_issues_12mos      2.1731      0.696      3.121      0.002       0.808       3.538\n",
      "price_change_Q3_Q4         0.0085      0.004      2.286      0.022       0.001       0.016\n",
      "unit_price_QT3            -0.0024      0.001     -2.484      0.013      -0.004      -0.001\n",
      "unit_price_QT2             0.0008      0.000      2.023      0.043    2.35e-05       0.001\n",
      "sum_active_rev_flag        0.0394      0.003     14.721      0.000       0.034       0.045\n",
      "==========================================================================================\n"
     ]
    }
   ],
   "source": [
    "insignificant_feature = True\n",
    "while insignificant_feature:\n",
    "        results = sm.Logit(y.astype(float),X.astype(float)).fit()\n",
    "        significant = [p_value < 0.05 for p_value in results.pvalues]\n",
    "        if all(significant):\n",
    "            insignificant_feature = False\n",
    "        else:\n",
    "            if X.shape[1] == 1:  # if there's only one insignificant variable left\n",
    "                print('No significant features found')\n",
    "                results = None\n",
    "                insignificant_feature = False\n",
    "            else:            \n",
    "                X = remove_most_insignificant(X, results)\n",
    "print(results.summary())"
   ]
  },
  {
   "cell_type": "markdown",
   "metadata": {},
   "source": [
    "### 3.2 Train top 50 random forest selected features "
   ]
  },
  {
   "cell_type": "code",
   "execution_count": 42,
   "metadata": {},
   "outputs": [],
   "source": [
    "x=X_train[rf_top50_var]\n",
    "x2 = x.fillna(0)"
   ]
  },
  {
   "cell_type": "code",
   "execution_count": 43,
   "metadata": {},
   "outputs": [
    {
     "data": {
      "text/plain": [
       "15"
      ]
     },
     "execution_count": 43,
     "metadata": {},
     "output_type": "execute_result"
    }
   ],
   "source": [
    "# Create correlation matrix\n",
    "corr_matrix = x2.corr().abs()\n",
    "\n",
    "# Select upper triangle of correlation matrix\n",
    "upper = corr_matrix.where(np.triu(np.ones(corr_matrix.shape), k=1).astype(np.bool))\n",
    "\n",
    "# Find index of feature columns with correlation greater than 0.95\n",
    "to_drop = [column for column in upper.columns if any(upper[column] >= 0.5)]\n",
    "len(to_drop)"
   ]
  },
  {
   "cell_type": "code",
   "execution_count": 44,
   "metadata": {},
   "outputs": [
    {
     "data": {
      "text/plain": [
       "(7192, 35)"
      ]
     },
     "execution_count": 44,
     "metadata": {},
     "output_type": "execute_result"
    }
   ],
   "source": [
    "x3=x2.drop(columns = to_drop)\n",
    "x3.shape"
   ]
  },
  {
   "cell_type": "code",
   "execution_count": 45,
   "metadata": {},
   "outputs": [],
   "source": [
    "import operator\n",
    "import statsmodels.api as sm\n",
    "import pandas as pd\n",
    "def remove_most_insignificant(df, results):\n",
    "    # use operator to find the key which belongs to the maximum value in the dictionary:\n",
    "    max_p_value = max(results.pvalues.iteritems(), key=operator.itemgetter(1))[0]\n",
    "    # this is the feature you want to drop:\n",
    "    df.drop(columns = max_p_value, inplace = True)\n",
    "    return df"
   ]
  },
  {
   "cell_type": "code",
   "execution_count": 46,
   "metadata": {},
   "outputs": [],
   "source": [
    "X = x3\n",
    "y = y_train"
   ]
  },
  {
   "cell_type": "code",
   "execution_count": 47,
   "metadata": {},
   "outputs": [
    {
     "name": "stdout",
     "output_type": "stream",
     "text": [
      "Optimization terminated successfully.\n",
      "         Current function value: 0.278290\n",
      "         Iterations 10\n",
      "Optimization terminated successfully.\n",
      "         Current function value: 0.278297\n",
      "         Iterations 10\n",
      "Optimization terminated successfully.\n",
      "         Current function value: 0.278297\n",
      "         Iterations 10\n",
      "Optimization terminated successfully.\n",
      "         Current function value: 0.278300\n",
      "         Iterations 10\n",
      "Optimization terminated successfully.\n",
      "         Current function value: 0.278309\n",
      "         Iterations 10\n",
      "Optimization terminated successfully.\n",
      "         Current function value: 0.278320\n",
      "         Iterations 10\n",
      "Optimization terminated successfully.\n",
      "         Current function value: 0.278334\n",
      "         Iterations 10\n",
      "Optimization terminated successfully.\n",
      "         Current function value: 0.278349\n",
      "         Iterations 10\n",
      "Optimization terminated successfully.\n",
      "         Current function value: 0.278373\n",
      "         Iterations 10\n",
      "Optimization terminated successfully.\n",
      "         Current function value: 0.278445\n",
      "         Iterations 10\n",
      "Optimization terminated successfully.\n",
      "         Current function value: 0.278533\n",
      "         Iterations 10\n",
      "Optimization terminated successfully.\n",
      "         Current function value: 0.278711\n",
      "         Iterations 10\n",
      "Optimization terminated successfully.\n",
      "         Current function value: 0.278849\n",
      "         Iterations 10\n",
      "                           Logit Regression Results                           \n",
      "==============================================================================\n",
      "Dep. Variable:        binary_response   No. Observations:                 7192\n",
      "Model:                          Logit   Df Residuals:                     7169\n",
      "Method:                           MLE   Df Model:                           22\n",
      "Date:                Fri, 18 Dec 2020   Pseudo R-squ.:                  0.1828\n",
      "Time:                        14:24:13   Log-Likelihood:                -2005.5\n",
      "converged:                       True   LL-Null:                       -2454.0\n",
      "Covariance Type:            nonrobust   LLR p-value:                1.477e-175\n",
      "============================================================================================\n",
      "                               coef    std err          z      P>|z|      [0.025      0.975]\n",
      "--------------------------------------------------------------------------------------------\n",
      "Q4_sm_Q1_contacts            0.4116      0.109      3.780      0.000       0.198       0.625\n",
      "Q4_gt_Q3_contacts           -0.8550      0.138     -6.201      0.000      -1.125      -0.585\n",
      "sm_min_commitments          -1.2084      0.098    -12.384      0.000      -1.400      -1.017\n",
      "Q4_gt_Q3_Q1_2_searches      -2.0969      0.123    -17.062      0.000      -2.338      -1.856\n",
      "Q4_3_gt_Q1_2_contacts       -1.9631      0.114    -17.225      0.000      -2.187      -1.740\n",
      "price_change_Q3_Q4_alert     0.2853      0.102      2.805      0.005       0.086       0.485\n",
      "fast_alert_searches         -0.3341      0.112     -2.970      0.003      -0.555      -0.114\n",
      "price_change_Q2_Q3_alert    -0.1990      0.096     -2.067      0.039      -0.388      -0.010\n",
      "Q4_sm_Q1_searches            1.0591      0.096     11.004      0.000       0.870       1.248\n",
      "sum_account_issues_12mos     0.2024      0.049      4.158      0.000       0.107       0.298\n",
      "sum_tech_issues_12mos        0.2626      0.068      3.848      0.000       0.129       0.396\n",
      "sum_prod_support_12mos      -0.2778      0.047     -5.872      0.000      -0.371      -0.185\n",
      "fast_alert_contacts          0.4493      0.142      3.163      0.002       0.171       0.728\n",
      "slow_alert_contacts          0.3235      0.156      2.076      0.038       0.018       0.629\n",
      "slow_alert_searches          1.2681      0.153      8.309      0.000       0.969       1.567\n",
      "sum_passworkd_12mos         -0.1086      0.015     -7.135      0.000      -0.138      -0.079\n",
      "total_product               -0.6760      0.047    -14.278      0.000      -0.769      -0.583\n",
      "sum_zero_billing_flag        0.7757      0.345      2.251      0.024       0.100       1.451\n",
      "avg_passworkd_12mos          0.7284      0.121      6.028      0.000       0.492       0.965\n",
      "avg_searches_QT1            -0.0003   3.68e-05     -7.420      0.000      -0.000      -0.000\n",
      "unit_price_QT4               0.0031      0.001      3.899      0.000       0.002       0.005\n",
      "unit_price_QT2               0.0008      0.000      2.785      0.005       0.000       0.001\n",
      "sum_active_rev_flag          0.0718      0.003     22.008      0.000       0.065       0.078\n",
      "============================================================================================\n"
     ]
    }
   ],
   "source": [
    "insignificant_feature = True\n",
    "while insignificant_feature:\n",
    "        results = sm.Logit(y.astype(float),X.astype(float)).fit()\n",
    "        significant = [p_value < 0.05 for p_value in results.pvalues]\n",
    "        if all(significant):\n",
    "            insignificant_feature = False\n",
    "        else:\n",
    "            if X.shape[1] == 1:  # if there's only one insignificant variable left\n",
    "                print('No significant features found')\n",
    "                results = None\n",
    "                insignificant_feature = False\n",
    "            else:            \n",
    "                X = remove_most_insignificant(X, results)\n",
    "print(results.summary())"
   ]
  },
  {
   "cell_type": "markdown",
   "metadata": {},
   "source": [
    "## 4. RFE feature selection"
   ]
  },
  {
   "cell_type": "code",
   "execution_count": 48,
   "metadata": {},
   "outputs": [],
   "source": [
    "from sklearn.linear_model import LinearRegression\n",
    "from sklearn.feature_selection import RFE\n",
    "from sklearn import datasets\n"
   ]
  },
  {
   "cell_type": "code",
   "execution_count": 49,
   "metadata": {},
   "outputs": [
    {
     "name": "stderr",
     "output_type": "stream",
     "text": [
      "/var/anaconda3/lib/python3.8/site-packages/sklearn/utils/validation.py:68: FutureWarning: Pass n_features_to_select=9 as keyword args. From version 0.25 passing these as positional arguments will result in an error\n",
      "  warnings.warn(\"Pass {} as keyword args. From version 0.25 \"\n"
     ]
    }
   ],
   "source": [
    "lm = LinearRegression()\n",
    "rfe = RFE(lm, 9)  \n",
    "rfe = rfe.fit(df2, train.binary_response)"
   ]
  },
  {
   "cell_type": "code",
   "execution_count": 50,
   "metadata": {},
   "outputs": [
    {
     "data": {
      "text/plain": [
       "(9590, 55)"
      ]
     },
     "execution_count": 50,
     "metadata": {},
     "output_type": "execute_result"
    }
   ],
   "source": [
    "df2.shape"
   ]
  },
  {
   "cell_type": "code",
   "execution_count": 51,
   "metadata": {},
   "outputs": [
    {
     "name": "stdout",
     "output_type": "stream",
     "text": [
      "[False False  True False False False False False False False False False\n",
      " False False False False False False  True False False False False False\n",
      " False False False False  True False  True  True  True  True False False\n",
      " False False False False False False False False False False False False\n",
      " False  True  True False False False False]\n"
     ]
    }
   ],
   "source": [
    "print(rfe.support_)"
   ]
  },
  {
   "cell_type": "code",
   "execution_count": 52,
   "metadata": {},
   "outputs": [
    {
     "name": "stdout",
     "output_type": "stream",
     "text": [
      "[40  9  1 41 36 47 17 16 23 34 43 46 42 44  8 10 15 11  1 13  7 27 24  3\n",
      " 18  6 12 28  1 14  1  1  1  1 19 29 31 22 26 20 37 38 45 35 39 32 33  2\n",
      "  5  1  1  4 30 25 21]\n"
     ]
    }
   ],
   "source": [
    "print(rfe.ranking_) "
   ]
  },
  {
   "cell_type": "code",
   "execution_count": 53,
   "metadata": {},
   "outputs": [],
   "source": [
    "names = []\n",
    "for col in df2:\n",
    "    names.append(col)"
   ]
  },
  {
   "cell_type": "code",
   "execution_count": 54,
   "metadata": {},
   "outputs": [
    {
     "name": "stdout",
     "output_type": "stream",
     "text": [
      "Features sorted by their rank:\n",
      "(1, 'Q4_3_gt_Q1_2_searches')\n",
      "(1, 'Q4_sm_Q1_2_3_contacts')\n",
      "(1, 'avg_account_issues_12mos')\n",
      "(1, 'fast_alert_contacts')\n",
      "(1, 'price_change_Q3_Q4_alert')\n",
      "(1, 'slow_alert_contacts')\n",
      "(1, 'slow_alert_searches')\n",
      "(1, 'sm_min_commitments')\n",
      "(1, 'sum_zero_billing_flag')\n",
      "(2, 'price_change_Q1_Q2_alert')\n",
      "(3, 'Q4_sm_Q1_contacts')\n",
      "(4, 'avg_nonpassworkd_12mos')\n",
      "(5, 'price_change_Q2_Q3_alert')\n",
      "(6, 'Q4_Q3_sm_Q1_contacts')\n",
      "(7, 'Q4_gt_Q3_Q1_2_searches')\n",
      "(8, 'Q4_gt_Q3_searches')\n",
      "(9, 'sum_active_rev_flag')\n",
      "(10, 'Q4_gt_Q3_contacts')\n",
      "(11, 'Q4_gt_Qt1_2_contacts')\n",
      "(12, 'Q4_Q3_sm_Q1_Q2_contacts')\n",
      "(13, 'Q4_3_gt_Q1_2_contacts')\n",
      "(14, 'fast_alert_searches')\n",
      "(15, 'Q4_gt_Qt1_2_searches')\n",
      "(16, 'slow_alert_revenue')\n",
      "(17, 'fast_alert_revenue')\n",
      "(18, 'Q4_Q3_sm_Q1_searches')\n",
      "(19, 'sum_account_issues_12mos')\n",
      "(20, 'total_product')\n",
      "(21, 'avg_tech_issues_12mos')\n",
      "(22, 'sum_prod_support_12mos')\n",
      "(23, 'sum_zero_usage_flag')\n",
      "(24, 'Q4_sm_Q1_searches')\n",
      "(25, 'avg_prod_support_12mos')\n",
      "(26, 'sum_tech_issues_12mos')\n",
      "(27, 'Q4_gt_Q3_Q1_2_contacts')\n",
      "(28, 'Q4_sm_Q1_2_3_searches')\n",
      "(29, 'sum_nonpassworkd_12mos')\n",
      "(30, 'avg_passworkd_12mos')\n",
      "(31, 'sum_passworkd_12mos')\n",
      "(32, 'price_change_Q2_Q3')\n",
      "(33, 'price_change_Q3_Q4')\n",
      "(34, 'total_contacts_3mos')\n",
      "(35, 'unit_price_QT4')\n",
      "(36, 'yoy_pct_growth')\n",
      "(37, 'unit_price_QT1')\n",
      "(38, 'unit_price_QT2')\n",
      "(39, 'price_change_Q1_Q2')\n",
      "(40, 'total_revenue_3mos')\n",
      "(41, 'sum_yago_revenue')\n",
      "(42, 'avg_searches_QT1')\n",
      "(43, 'total_searches_3mos')\n",
      "(44, 'avg_searches_QT2')\n",
      "(45, 'unit_price_QT3')\n",
      "(46, 'total_searches_9mos')\n",
      "(47, 'yoy_pct_3mos_growth')\n"
     ]
    }
   ],
   "source": [
    "print(\"Features sorted by their rank:\")\n",
    "rankings = sorted(zip(map(lambda x: round(x, 4), rfe.ranking_), names))\n",
    "for i in rankings:\n",
    "    print(i)"
   ]
  },
  {
   "cell_type": "code",
   "execution_count": 55,
   "metadata": {},
   "outputs": [],
   "source": [
    "rfe_col = ['Q4_3_gt_Q1_2_searches', 'Q4_sm_Q1_2_3_contacts','avg_account_issues_12mos','fast_alert_contacts','price_change_Q3_Q4_alert', 'slow_alert_contacts',  'slow_alert_searches','sm_min_commitments', 'sum_zero_billing_flag']"
   ]
  },
  {
   "cell_type": "code",
   "execution_count": 56,
   "metadata": {},
   "outputs": [],
   "source": [
    "x=X_train[rfe_col]\n",
    "x2 = x.fillna(0)"
   ]
  },
  {
   "cell_type": "code",
   "execution_count": 57,
   "metadata": {},
   "outputs": [],
   "source": [
    "X = x2\n",
    "y = y_train"
   ]
  },
  {
   "cell_type": "code",
   "execution_count": 58,
   "metadata": {},
   "outputs": [
    {
     "name": "stdout",
     "output_type": "stream",
     "text": [
      "Optimization terminated successfully.\n",
      "         Current function value: 0.365462\n",
      "         Iterations 7\n",
      "Optimization terminated successfully.\n",
      "         Current function value: 0.365465\n",
      "         Iterations 7\n",
      "Optimization terminated successfully.\n",
      "         Current function value: 0.365478\n",
      "         Iterations 7\n",
      "Optimization terminated successfully.\n",
      "         Current function value: 0.365492\n",
      "         Iterations 7\n",
      "                           Logit Regression Results                           \n",
      "==============================================================================\n",
      "Dep. Variable:        binary_response   No. Observations:                 7192\n",
      "Model:                          Logit   Df Residuals:                     7186\n",
      "Method:                           MLE   Df Model:                            5\n",
      "Date:                Fri, 18 Dec 2020   Pseudo R-squ.:                -0.07115\n",
      "Time:                        14:24:13   Log-Likelihood:                -2628.6\n",
      "converged:                       True   LL-Null:                       -2454.0\n",
      "Covariance Type:            nonrobust   LLR p-value:                     1.000\n",
      "============================================================================================\n",
      "                               coef    std err          z      P>|z|      [0.025      0.975]\n",
      "--------------------------------------------------------------------------------------------\n",
      "Q4_3_gt_Q1_2_searches       -2.7122      0.069    -39.035      0.000      -2.848      -2.576\n",
      "Q4_sm_Q1_2_3_contacts        0.5559      0.085      6.534      0.000       0.389       0.723\n",
      "avg_account_issues_12mos     2.1517      0.272      7.918      0.000       1.619       2.684\n",
      "slow_alert_contacts          0.4584      0.131      3.488      0.000       0.201       0.716\n",
      "slow_alert_searches          0.2645      0.117      2.268      0.023       0.036       0.493\n",
      "sm_min_commitments          -0.7016      0.059    -11.856      0.000      -0.818      -0.586\n",
      "============================================================================================\n"
     ]
    }
   ],
   "source": [
    "insignificant_feature = True\n",
    "while insignificant_feature:\n",
    "        results = sm.Logit(y.astype(float),X.astype(float)).fit()\n",
    "        significant = [p_value < 0.05 for p_value in results.pvalues]\n",
    "        if all(significant):\n",
    "            insignificant_feature = False\n",
    "        else:\n",
    "            if X.shape[1] == 1:  # if there's only one insignificant variable left\n",
    "                print('No significant features found')\n",
    "                results = None\n",
    "                insignificant_feature = False\n",
    "            else:            \n",
    "                X = remove_most_insignificant(X, results)\n",
    "print(results.summary())"
   ]
  },
  {
   "cell_type": "markdown",
   "metadata": {},
   "source": [
    "## 6. Forward Selection - F regression"
   ]
  },
  {
   "cell_type": "code",
   "execution_count": 59,
   "metadata": {},
   "outputs": [],
   "source": [
    "from sklearn.feature_selection import f_regression"
   ]
  },
  {
   "cell_type": "code",
   "execution_count": 60,
   "metadata": {},
   "outputs": [],
   "source": [
    "raw_scores, p_values = f_regression(df2,train.binary_response )"
   ]
  },
  {
   "cell_type": "code",
   "execution_count": 61,
   "metadata": {},
   "outputs": [
    {
     "name": "stdout",
     "output_type": "stream",
     "text": [
      "Features sorted by their p_values of the F-scores:\n",
      "(0.0, 'Q4_3_gt_Q1_2_contacts')\n",
      "(0.0, 'Q4_3_gt_Q1_2_searches')\n",
      "(0.0, 'Q4_Q3_sm_Q1_Q2_contacts')\n",
      "(0.0, 'Q4_Q3_sm_Q1_contacts')\n",
      "(0.0, 'Q4_Q3_sm_Q1_searches')\n",
      "(0.0, 'Q4_gt_Q3_Q1_2_contacts')\n",
      "(0.0, 'Q4_gt_Q3_Q1_2_searches')\n",
      "(0.0, 'Q4_gt_Q3_contacts')\n",
      "(0.0, 'Q4_gt_Q3_searches')\n",
      "(0.0, 'Q4_gt_Qt1_2_contacts')\n",
      "(0.0, 'Q4_gt_Qt1_2_searches')\n",
      "(0.0, 'Q4_sm_Q1_2_3_contacts')\n",
      "(0.0, 'Q4_sm_Q1_2_3_searches')\n",
      "(0.0, 'Q4_sm_Q1_contacts')\n",
      "(0.0, 'Q4_sm_Q1_searches')\n",
      "(0.0, 'avg_account_issues_12mos')\n",
      "(0.0, 'avg_nonpassworkd_12mos')\n",
      "(0.0, 'avg_passworkd_12mos')\n",
      "(0.0, 'avg_tech_issues_12mos')\n",
      "(0.0, 'fast_alert_contacts')\n",
      "(0.0, 'fast_alert_searches')\n",
      "(0.0, 'price_change_Q1_Q2_alert')\n",
      "(0.0, 'price_change_Q2_Q3_alert')\n",
      "(0.0, 'price_change_Q3_Q4')\n",
      "(0.0, 'price_change_Q3_Q4_alert')\n",
      "(0.0, 'slow_alert_contacts')\n",
      "(0.0, 'slow_alert_revenue')\n",
      "(0.0, 'slow_alert_searches')\n",
      "(0.0, 'sm_min_commitments')\n",
      "(0.0, 'sum_account_issues_12mos')\n",
      "(0.0, 'sum_active_rev_flag')\n",
      "(0.0, 'sum_passworkd_12mos')\n",
      "(0.0, 'sum_prod_support_12mos')\n",
      "(0.0, 'sum_zero_billing_flag')\n",
      "(0.0, 'sum_zero_usage_flag')\n",
      "(0.0, 'total_contacts_3mos')\n",
      "(0.0, 'total_product')\n",
      "(0.0, 'total_revenue_3mos')\n",
      "(0.0, 'unit_price_QT1')\n",
      "(0.0, 'unit_price_QT2')\n",
      "(0.0, 'unit_price_QT3')\n",
      "(0.0, 'unit_price_QT4')\n",
      "(0.0012, 'price_change_Q2_Q3')\n",
      "(0.006, 'avg_prod_support_12mos')\n",
      "(0.0114, 'sum_nonpassworkd_12mos')\n",
      "(0.014, 'sum_yago_revenue')\n",
      "(0.0163, 'total_searches_9mos')\n",
      "(0.0165, 'avg_searches_QT1')\n",
      "(0.0235, 'total_searches_3mos')\n",
      "(0.2737, 'avg_searches_QT2')\n",
      "(0.345, 'sum_tech_issues_12mos')\n",
      "(0.3734, 'fast_alert_revenue')\n",
      "(0.6379, 'price_change_Q1_Q2')\n",
      "(0.7259, 'yoy_pct_3mos_growth')\n",
      "(0.9181, 'yoy_pct_growth')\n"
     ]
    }
   ],
   "source": [
    "print(\"Features sorted by their p_values of the F-scores:\")\n",
    "p_values2 = sorted(zip(map(lambda x: round(x, 4), p_values), names))\n",
    "for i in p_values2:\n",
    "    print(i)"
   ]
  },
  {
   "cell_type": "code",
   "execution_count": 62,
   "metadata": {},
   "outputs": [],
   "source": [
    "f_selection = ['Q4_3_gt_Q1_2_contacts',\n",
    " 'Q4_3_gt_Q1_2_searches',\n",
    " 'Q4_Q3_sm_Q1_Q2_contacts',\n",
    " 'Q4_Q3_sm_Q1_contacts',\n",
    " 'Q4_Q3_sm_Q1_searches',\n",
    " 'Q4_gt_Q3_Q1_2_contacts',\n",
    " 'Q4_gt_Q3_Q1_2_searches',\n",
    " 'Q4_gt_Q3_contacts',\n",
    " 'Q4_gt_Q3_searches',\n",
    " 'Q4_gt_Qt1_2_contacts',\n",
    " 'Q4_gt_Qt1_2_searches',\n",
    " 'Q4_sm_Q1_2_3_contacts',\n",
    " 'Q4_sm_Q1_2_3_searches',\n",
    " 'Q4_sm_Q1_contacts',\n",
    " 'Q4_sm_Q1_searches',\n",
    " 'avg_account_issues_12mos',\n",
    " 'avg_nonpassworkd_12mos',\n",
    " 'avg_passworkd_12mos',\n",
    " 'avg_tech_issues_12mos',\n",
    " 'fast_alert_contacts',\n",
    " 'fast_alert_searches',\n",
    "# 'fast_alert_revenue', \n",
    " 'price_change_Q1_Q2_alert',\n",
    " 'price_change_Q2_Q3_alert',\n",
    " 'price_change_Q3_Q4',\n",
    " #'price_change3_Q4_alert',\n",
    " 'slow_alert_contacts',\n",
    " 'slow_alert_revenue',\n",
    " 'slow_alert_searches',\n",
    " 'sm_min_commitments',\n",
    " 'sum_account_issues_12mos',\n",
    " #'sum_active_rev_flag',\n",
    " 'sum_passworkd_12mos',\n",
    " 'sum_prod_support_12mos',\n",
    " 'sum_zero_billing_flag',\n",
    " 'sum_zero_usage_flag',\n",
    " 'total_contacts_3mos',\n",
    " 'total_product',\n",
    " 'total_revenue_3mos',\n",
    " 'unit_price_QT1',\n",
    " 'unit_price_QT2',\n",
    " 'unit_price_QT3',\n",
    " 'unit_price_QT4',\n",
    " 'price_change_Q2_Q3',\n",
    " 'avg_prod_support_12mos',\n",
    " 'sum_nonpassworkd_12mos',\n",
    " 'sum_yago_revenue',\n",
    " 'total_searches_9mos',\n",
    " 'avg_searches_QT1',\n",
    " 'total_searches_3mos']"
   ]
  },
  {
   "cell_type": "code",
   "execution_count": 63,
   "metadata": {},
   "outputs": [],
   "source": [
    "x=X_train[f_selection]\n",
    "x2 = x.fillna(0)"
   ]
  },
  {
   "cell_type": "code",
   "execution_count": 64,
   "metadata": {},
   "outputs": [
    {
     "data": {
      "text/plain": [
       "21"
      ]
     },
     "execution_count": 64,
     "metadata": {},
     "output_type": "execute_result"
    }
   ],
   "source": [
    "# Create correlation matrix\n",
    "corr_matrix = x2.corr().abs()\n",
    "\n",
    "# Select upper triangle of correlation matrix\n",
    "upper = corr_matrix.where(np.triu(np.ones(corr_matrix.shape), k=1).astype(np.bool))\n",
    "\n",
    "# Find index of feature columns with correlation greater than 0.95\n",
    "to_drop = [column for column in upper.columns if any(upper[column] >= 0.5)]\n",
    "len(to_drop)"
   ]
  },
  {
   "cell_type": "code",
   "execution_count": 65,
   "metadata": {},
   "outputs": [
    {
     "data": {
      "text/plain": [
       "(7192, 26)"
      ]
     },
     "execution_count": 65,
     "metadata": {},
     "output_type": "execute_result"
    }
   ],
   "source": [
    "x3=x2.drop(columns = to_drop)\n",
    "x3.shape"
   ]
  },
  {
   "cell_type": "code",
   "execution_count": 66,
   "metadata": {},
   "outputs": [],
   "source": [
    "X = x3\n",
    "y = y_train"
   ]
  },
  {
   "cell_type": "code",
   "execution_count": 67,
   "metadata": {},
   "outputs": [
    {
     "name": "stdout",
     "output_type": "stream",
     "text": [
      "Optimization terminated successfully.\n",
      "         Current function value: 0.304335\n",
      "         Iterations 10\n",
      "Optimization terminated successfully.\n",
      "         Current function value: 0.304335\n",
      "         Iterations 10\n",
      "Optimization terminated successfully.\n",
      "         Current function value: 0.304400\n",
      "         Iterations 10\n",
      "Optimization terminated successfully.\n",
      "         Current function value: 0.304498\n",
      "         Iterations 10\n",
      "Optimization terminated successfully.\n",
      "         Current function value: 0.304602\n",
      "         Iterations 10\n",
      "Optimization terminated successfully.\n",
      "         Current function value: 0.304758\n",
      "         Iterations 10\n",
      "Optimization terminated successfully.\n",
      "         Current function value: 0.304935\n",
      "         Iterations 10\n",
      "Optimization terminated successfully.\n",
      "         Current function value: 0.305073\n",
      "         Iterations 10\n",
      "Optimization terminated successfully.\n",
      "         Current function value: 0.305248\n",
      "         Iterations 10\n",
      "Optimization terminated successfully.\n",
      "         Current function value: 0.305433\n",
      "         Iterations 10\n",
      "Optimization terminated successfully.\n",
      "         Current function value: 0.305697\n",
      "         Iterations 10\n",
      "                           Logit Regression Results                           \n",
      "==============================================================================\n",
      "Dep. Variable:        binary_response   No. Observations:                 7192\n",
      "Model:                          Logit   Df Residuals:                     7176\n",
      "Method:                           MLE   Df Model:                           15\n",
      "Date:                Fri, 18 Dec 2020   Pseudo R-squ.:                  0.1041\n",
      "Time:                        14:24:14   Log-Likelihood:                -2198.6\n",
      "converged:                       True   LL-Null:                       -2454.0\n",
      "Covariance Type:            nonrobust   LLR p-value:                 2.799e-99\n",
      "============================================================================================\n",
      "                               coef    std err          z      P>|z|      [0.025      0.975]\n",
      "--------------------------------------------------------------------------------------------\n",
      "Q4_3_gt_Q1_2_contacts       -1.3573      0.105    -12.947      0.000      -1.563      -1.152\n",
      "Q4_3_gt_Q1_2_searches       -1.6331      0.082    -19.896      0.000      -1.794      -1.472\n",
      "avg_account_issues_12mos     1.3266      0.359      3.697      0.000       0.623       2.030\n",
      "avg_passworkd_12mos          0.5706      0.107      5.326      0.000       0.361       0.781\n",
      "fast_alert_contacts          0.3050      0.117      2.616      0.009       0.077       0.534\n",
      "slow_alert_searches          0.6583      0.121      5.454      0.000       0.422       0.895\n",
      "sm_min_commitments          -0.6605      0.076     -8.662      0.000      -0.810      -0.511\n",
      "sum_account_issues_12mos     0.2737      0.052      5.214      0.000       0.171       0.377\n",
      "sum_passworkd_12mos         -0.0922      0.014     -6.710      0.000      -0.119      -0.065\n",
      "sum_prod_support_12mos      -0.1688      0.041     -4.067      0.000      -0.250      -0.087\n",
      "sum_zero_usage_flag          0.3538      0.098      3.611      0.000       0.162       0.546\n",
      "total_product               -0.1206      0.031     -3.881      0.000      -0.181      -0.060\n",
      "total_revenue_3mos       -8.323e-05   2.04e-05     -4.074      0.000      -0.000   -4.32e-05\n",
      "unit_price_QT1               0.0012      0.000      2.741      0.006       0.000       0.002\n",
      "unit_price_QT4               0.0021      0.001      2.912      0.004       0.001       0.003\n",
      "total_searches_9mos      -1.324e-05   3.82e-06     -3.466      0.001   -2.07e-05   -5.75e-06\n",
      "============================================================================================\n"
     ]
    }
   ],
   "source": [
    "insignificant_feature = True\n",
    "while insignificant_feature:\n",
    "        results = sm.Logit(y.astype(float),X.astype(float)).fit()\n",
    "        significant = [p_value < 0.05 for p_value in results.pvalues]\n",
    "        if all(significant):\n",
    "            insignificant_feature = False\n",
    "        else:\n",
    "            if X.shape[1] == 1:  # if there's only one insignificant variable left\n",
    "                print('No significant features found')\n",
    "                results = None\n",
    "                insignificant_feature = False\n",
    "            else:            \n",
    "                X = remove_most_insignificant(X, results)\n",
    "print(results.summary())"
   ]
  },
  {
   "cell_type": "markdown",
   "metadata": {},
   "source": [
    "## Feature Combinations"
   ]
  },
  {
   "cell_type": "code",
   "execution_count": 68,
   "metadata": {},
   "outputs": [],
   "source": [
    "comb_col = ['Q4_3_gt_Q1_2_contacts', \n",
    "'Q4_3_gt_Q1_2_searches', \n",
    "'fast_alert_contacts', \n",
    "'slow_alert_searches', \n",
    "'sm_min_commitments', \n",
    "'sum_account_issues_12mos', \n",
    "'sum_passworkd_12mos', \n",
    "'sum_prod_support_12mos', \n",
    "#'sum_zero_usage_flag', \n",
    "'total_product', \n",
    "#'total_revenue_3mos', \n",
    "#'total_searches_9mos', \n",
    "'slow_alert_contacts', \n",
    "#'fast_alert_revenue', \n",
    "#'fast_alert_searches',            \n",
    "'sum_tech_issues_12mos', \n",
    "#'sum_zero_billing_flag', \n",
    "#'sum_active_rev_flag', \n",
    "'Q4_sm_Q1_2_3_contacts', \n",
    "'total_searches_3mos', \n",
    "'Q4_gt_Q3_searches']\n",
    "#'Q4_gt_Qt1_2_searches', \n",
    "#'price_change_Q1_Q2_alert']"
   ]
  },
  {
   "cell_type": "code",
   "execution_count": 69,
   "metadata": {},
   "outputs": [],
   "source": [
    "x=X_train[comb_col]\n",
    "x2 = x.fillna(0)"
   ]
  },
  {
   "cell_type": "code",
   "execution_count": 70,
   "metadata": {},
   "outputs": [
    {
     "data": {
      "text/plain": [
       "(7192, 14)"
      ]
     },
     "execution_count": 70,
     "metadata": {},
     "output_type": "execute_result"
    }
   ],
   "source": [
    "x2.shape"
   ]
  },
  {
   "cell_type": "code",
   "execution_count": 71,
   "metadata": {},
   "outputs": [],
   "source": [
    "X = x2\n",
    "y = y_train"
   ]
  },
  {
   "cell_type": "code",
   "execution_count": 72,
   "metadata": {},
   "outputs": [
    {
     "name": "stdout",
     "output_type": "stream",
     "text": [
      "Optimization terminated successfully.\n",
      "         Current function value: 0.306727\n",
      "         Iterations 10\n"
     ]
    },
    {
     "data": {
      "text/html": [
       "<table class=\"simpletable\">\n",
       "<caption>Logit Regression Results</caption>\n",
       "<tr>\n",
       "  <th>Dep. Variable:</th>    <td>binary_response</td> <th>  No. Observations:  </th>  <td>  7192</td>  \n",
       "</tr>\n",
       "<tr>\n",
       "  <th>Model:</th>                 <td>Logit</td>      <th>  Df Residuals:      </th>  <td>  7178</td>  \n",
       "</tr>\n",
       "<tr>\n",
       "  <th>Method:</th>                 <td>MLE</td>       <th>  Df Model:          </th>  <td>    13</td>  \n",
       "</tr>\n",
       "<tr>\n",
       "  <th>Date:</th>            <td>Fri, 18 Dec 2020</td> <th>  Pseudo R-squ.:     </th>  <td>0.1011</td>  \n",
       "</tr>\n",
       "<tr>\n",
       "  <th>Time:</th>                <td>14:24:14</td>     <th>  Log-Likelihood:    </th> <td> -2206.0</td> \n",
       "</tr>\n",
       "<tr>\n",
       "  <th>converged:</th>             <td>True</td>       <th>  LL-Null:           </th> <td> -2454.0</td> \n",
       "</tr>\n",
       "<tr>\n",
       "  <th>Covariance Type:</th>     <td>nonrobust</td>    <th>  LLR p-value:       </th> <td>9.985e-98</td>\n",
       "</tr>\n",
       "</table>\n",
       "<table class=\"simpletable\">\n",
       "<tr>\n",
       "              <td></td>                <th>coef</th>     <th>std err</th>      <th>z</th>      <th>P>|z|</th>  <th>[0.025</th>    <th>0.975]</th>  \n",
       "</tr>\n",
       "<tr>\n",
       "  <th>Q4_3_gt_Q1_2_contacts</th>    <td>   -1.3910</td> <td>    0.107</td> <td>  -12.940</td> <td> 0.000</td> <td>   -1.602</td> <td>   -1.180</td>\n",
       "</tr>\n",
       "<tr>\n",
       "  <th>Q4_3_gt_Q1_2_searches</th>    <td>   -1.4598</td> <td>    0.083</td> <td>  -17.561</td> <td> 0.000</td> <td>   -1.623</td> <td>   -1.297</td>\n",
       "</tr>\n",
       "<tr>\n",
       "  <th>fast_alert_contacts</th>      <td>    0.3085</td> <td>    0.120</td> <td>    2.564</td> <td> 0.010</td> <td>    0.073</td> <td>    0.544</td>\n",
       "</tr>\n",
       "<tr>\n",
       "  <th>slow_alert_searches</th>      <td>    0.7017</td> <td>    0.124</td> <td>    5.640</td> <td> 0.000</td> <td>    0.458</td> <td>    0.946</td>\n",
       "</tr>\n",
       "<tr>\n",
       "  <th>sm_min_commitments</th>       <td>   -0.3414</td> <td>    0.073</td> <td>   -4.695</td> <td> 0.000</td> <td>   -0.484</td> <td>   -0.199</td>\n",
       "</tr>\n",
       "<tr>\n",
       "  <th>sum_account_issues_12mos</th> <td>    0.3669</td> <td>    0.042</td> <td>    8.736</td> <td> 0.000</td> <td>    0.285</td> <td>    0.449</td>\n",
       "</tr>\n",
       "<tr>\n",
       "  <th>sum_passworkd_12mos</th>      <td>   -0.0685</td> <td>    0.012</td> <td>   -5.716</td> <td> 0.000</td> <td>   -0.092</td> <td>   -0.045</td>\n",
       "</tr>\n",
       "<tr>\n",
       "  <th>sum_prod_support_12mos</th>   <td>   -0.1926</td> <td>    0.041</td> <td>   -4.709</td> <td> 0.000</td> <td>   -0.273</td> <td>   -0.112</td>\n",
       "</tr>\n",
       "<tr>\n",
       "  <th>total_product</th>            <td>   -0.1055</td> <td>    0.031</td> <td>   -3.370</td> <td> 0.001</td> <td>   -0.167</td> <td>   -0.044</td>\n",
       "</tr>\n",
       "<tr>\n",
       "  <th>slow_alert_contacts</th>      <td>    0.4034</td> <td>    0.134</td> <td>    3.009</td> <td> 0.003</td> <td>    0.141</td> <td>    0.666</td>\n",
       "</tr>\n",
       "<tr>\n",
       "  <th>sum_tech_issues_12mos</th>    <td>    0.1661</td> <td>    0.059</td> <td>    2.801</td> <td> 0.005</td> <td>    0.050</td> <td>    0.282</td>\n",
       "</tr>\n",
       "<tr>\n",
       "  <th>Q4_sm_Q1_2_3_contacts</th>    <td>    0.4527</td> <td>    0.100</td> <td>    4.513</td> <td> 0.000</td> <td>    0.256</td> <td>    0.649</td>\n",
       "</tr>\n",
       "<tr>\n",
       "  <th>total_searches_3mos</th>      <td>-8.026e-05</td> <td> 1.35e-05</td> <td>   -5.936</td> <td> 0.000</td> <td>   -0.000</td> <td>-5.38e-05</td>\n",
       "</tr>\n",
       "<tr>\n",
       "  <th>Q4_gt_Q3_searches</th>        <td>   -0.6400</td> <td>    0.085</td> <td>   -7.569</td> <td> 0.000</td> <td>   -0.806</td> <td>   -0.474</td>\n",
       "</tr>\n",
       "</table>"
      ],
      "text/plain": [
       "<class 'statsmodels.iolib.summary.Summary'>\n",
       "\"\"\"\n",
       "                           Logit Regression Results                           \n",
       "==============================================================================\n",
       "Dep. Variable:        binary_response   No. Observations:                 7192\n",
       "Model:                          Logit   Df Residuals:                     7178\n",
       "Method:                           MLE   Df Model:                           13\n",
       "Date:                Fri, 18 Dec 2020   Pseudo R-squ.:                  0.1011\n",
       "Time:                        14:24:14   Log-Likelihood:                -2206.0\n",
       "converged:                       True   LL-Null:                       -2454.0\n",
       "Covariance Type:            nonrobust   LLR p-value:                 9.985e-98\n",
       "============================================================================================\n",
       "                               coef    std err          z      P>|z|      [0.025      0.975]\n",
       "--------------------------------------------------------------------------------------------\n",
       "Q4_3_gt_Q1_2_contacts       -1.3910      0.107    -12.940      0.000      -1.602      -1.180\n",
       "Q4_3_gt_Q1_2_searches       -1.4598      0.083    -17.561      0.000      -1.623      -1.297\n",
       "fast_alert_contacts          0.3085      0.120      2.564      0.010       0.073       0.544\n",
       "slow_alert_searches          0.7017      0.124      5.640      0.000       0.458       0.946\n",
       "sm_min_commitments          -0.3414      0.073     -4.695      0.000      -0.484      -0.199\n",
       "sum_account_issues_12mos     0.3669      0.042      8.736      0.000       0.285       0.449\n",
       "sum_passworkd_12mos         -0.0685      0.012     -5.716      0.000      -0.092      -0.045\n",
       "sum_prod_support_12mos      -0.1926      0.041     -4.709      0.000      -0.273      -0.112\n",
       "total_product               -0.1055      0.031     -3.370      0.001      -0.167      -0.044\n",
       "slow_alert_contacts          0.4034      0.134      3.009      0.003       0.141       0.666\n",
       "sum_tech_issues_12mos        0.1661      0.059      2.801      0.005       0.050       0.282\n",
       "Q4_sm_Q1_2_3_contacts        0.4527      0.100      4.513      0.000       0.256       0.649\n",
       "total_searches_3mos      -8.026e-05   1.35e-05     -5.936      0.000      -0.000   -5.38e-05\n",
       "Q4_gt_Q3_searches           -0.6400      0.085     -7.569      0.000      -0.806      -0.474\n",
       "============================================================================================\n",
       "\"\"\""
      ]
     },
     "execution_count": 72,
     "metadata": {},
     "output_type": "execute_result"
    }
   ],
   "source": [
    "logit_rf=sm.Logit(y_train.astype(float),x2.astype(float)).fit()\n",
    "result_rf=logit_rf.summary()\n",
    "result_rf"
   ]
  },
  {
   "cell_type": "code",
   "execution_count": 73,
   "metadata": {},
   "outputs": [],
   "source": [
    "test_final_col =X_test[comb_col]"
   ]
  },
  {
   "cell_type": "code",
   "execution_count": 74,
   "metadata": {},
   "outputs": [],
   "source": [
    "y_pred_final = logit_rf.predict(test_final_col)"
   ]
  },
  {
   "cell_type": "code",
   "execution_count": 75,
   "metadata": {},
   "outputs": [
    {
     "data": {
      "text/plain": [
       "(2398, 14)"
      ]
     },
     "execution_count": 75,
     "metadata": {},
     "output_type": "execute_result"
    }
   ],
   "source": [
    "test_final_col.shape"
   ]
  },
  {
   "cell_type": "code",
   "execution_count": 76,
   "metadata": {},
   "outputs": [
    {
     "data": {
      "text/plain": [
       "0.8882402001668057"
      ]
     },
     "execution_count": 76,
     "metadata": {},
     "output_type": "execute_result"
    }
   ],
   "source": [
    "from sklearn.metrics import accuracy_score\n",
    "accuracy_score(y_test, y_pred_final.round(), normalize=True)"
   ]
  },
  {
   "cell_type": "code",
   "execution_count": 77,
   "metadata": {},
   "outputs": [
    {
     "name": "stdout",
     "output_type": "stream",
     "text": [
      "Area under the ROC curve : 0.742124\n"
     ]
    }
   ],
   "source": [
    "import numpy as np\n",
    "from sklearn import metrics\n",
    "fpr, tpr, thresholds =metrics.roc_curve(y_test, y_pred_final)\n",
    "roc_auc = metrics.auc(fpr, tpr)\n",
    "print(\"Area under the ROC curve : %f\" % roc_auc)"
   ]
  },
  {
   "cell_type": "code",
   "execution_count": 78,
   "metadata": {},
   "outputs": [
    {
     "data": {
      "text/html": [
       "<div>\n",
       "<style scoped>\n",
       "    .dataframe tbody tr th:only-of-type {\n",
       "        vertical-align: middle;\n",
       "    }\n",
       "\n",
       "    .dataframe tbody tr th {\n",
       "        vertical-align: top;\n",
       "    }\n",
       "\n",
       "    .dataframe thead th {\n",
       "        text-align: right;\n",
       "    }\n",
       "</style>\n",
       "<table border=\"1\" class=\"dataframe\">\n",
       "  <thead>\n",
       "    <tr style=\"text-align: right;\">\n",
       "      <th></th>\n",
       "      <th>fpr</th>\n",
       "      <th>tpr</th>\n",
       "      <th>1-fpr</th>\n",
       "      <th>tf</th>\n",
       "      <th>thresholds</th>\n",
       "    </tr>\n",
       "  </thead>\n",
       "  <tbody>\n",
       "    <tr>\n",
       "      <th>281</th>\n",
       "      <td>0.323432</td>\n",
       "      <td>0.67509</td>\n",
       "      <td>0.676568</td>\n",
       "      <td>-0.001477</td>\n",
       "      <td>0.12035</td>\n",
       "    </tr>\n",
       "  </tbody>\n",
       "</table>\n",
       "</div>"
      ],
      "text/plain": [
       "          fpr      tpr     1-fpr        tf  thresholds\n",
       "281  0.323432  0.67509  0.676568 -0.001477     0.12035"
      ]
     },
     "execution_count": 78,
     "metadata": {},
     "output_type": "execute_result"
    }
   ],
   "source": [
    "i = np.arange(len(tpr)) # index for df\n",
    "roc = pd.DataFrame({'fpr' : pd.Series(fpr, index=i),'tpr' : pd.Series(tpr, index = i), '1-fpr' : pd.Series(1-fpr, index = i), 'tf' : pd.Series(tpr - (1-fpr), index = i), 'thresholds' : pd.Series(thresholds, index = i)})\n",
    "roc.iloc[(roc.tf-0).abs().argsort()[:1]]"
   ]
  },
  {
   "cell_type": "code",
   "execution_count": 79,
   "metadata": {},
   "outputs": [
    {
     "data": {
      "image/png": "[encoded data removed]",
      "text/plain": [
       "<Figure size 432x288 with 1 Axes>"
      ]
     },
     "metadata": {
      "needs_background": "light"
     },
     "output_type": "display_data"
    }
   ],
   "source": [
    "from sklearn.metrics import roc_auc_score\n",
    "from sklearn.metrics import roc_curve\n",
    "fpr, tpr, thresholds =metrics.roc_curve(y_test, y_pred_final)\n",
    "roc_auc = metrics.auc(fpr, tpr)\n",
    "plt.figure()\n",
    "plt.plot(fpr, tpr, label='Logistic Regression (area = %0.2f)' %  roc_auc)\n",
    "plt.plot([0, 1], [0, 1],'r--')\n",
    "plt.xlim([0.0, 1.0])\n",
    "plt.ylim([0.0, 1.05])\n",
    "plt.xlabel('False Positive Rate')\n",
    "plt.ylabel('True Positive Rate')\n",
    "plt.title('Receiver operating characteristic')\n",
    "plt.legend(loc=\"lower right\")\n",
    "plt.savefig('Log_ROC')\n",
    "plt.show()"
   ]
  },
  {
   "cell_type": "markdown",
   "metadata": {},
   "source": [
    "ROC Score: https://pulmonarychronicles.com/index.php/pulmonarychronicles/article/view/391/848"
   ]
  },
  {
   "cell_type": "code",
   "execution_count": 80,
   "metadata": {},
   "outputs": [
    {
     "name": "stdout",
     "output_type": "stream",
     "text": [
      "[[2077   44]\n",
      " [ 224   53]]\n"
     ]
    }
   ],
   "source": [
    "from sklearn.metrics import confusion_matrix\n",
    "confusion_matrix = confusion_matrix(y_test, y_pred_final.round())\n",
    "print(confusion_matrix)"
   ]
  },
  {
   "cell_type": "code",
   "execution_count": 81,
   "metadata": {},
   "outputs": [],
   "source": [
    "# import required modules\n",
    "import numpy as np\n",
    "import matplotlib.pyplot as plt\n",
    "import seaborn as sns\n",
    "%matplotlib inline"
   ]
  },
  {
   "cell_type": "code",
   "execution_count": 82,
   "metadata": {},
   "outputs": [
    {
     "data": {
      "text/plain": [
       "Text(0.5, 257.44, 'Predicted label')"
      ]
     },
     "execution_count": 82,
     "metadata": {},
     "output_type": "execute_result"
    },
    {
     "data": {
      "image/png": "[encoded data removed]",
      "text/plain": [
       "<Figure size 432x288 with 2 Axes>"
      ]
     },
     "metadata": {
      "needs_background": "light"
     },
     "output_type": "display_data"
    }
   ],
   "source": [
    "class_names=[0,1] # name  of classes\n",
    "fig, ax = plt.subplots()\n",
    "tick_marks = np.arange(len(class_names))\n",
    "plt.xticks(tick_marks, class_names)\n",
    "plt.yticks(tick_marks, class_names)\n",
    "# create heatmap\n",
    "sns.heatmap(pd.DataFrame(confusion_matrix), annot=True, cmap=\"YlGnBu\" ,fmt='g')\n",
    "ax.xaxis.set_label_position(\"top\")\n",
    "plt.tight_layout()\n",
    "plt.title('Confusion matrix', y=1.1)\n",
    "plt.ylabel('Actual label')\n",
    "plt.xlabel('Predicted label')"
   ]
  },
  {
   "cell_type": "code",
   "execution_count": 83,
   "metadata": {},
   "outputs": [
    {
     "name": "stdout",
     "output_type": "stream",
     "text": [
      "Accuracy: 0.8882402001668057\n",
      "Precision: 0.5463917525773195\n",
      "Recall: 0.19133574007220217\n"
     ]
    }
   ],
   "source": [
    "print(\"Accuracy:\",metrics.accuracy_score(y_test, y_pred_final.round()))\n",
    "print(\"Precision:\",metrics.precision_score(y_test, y_pred_final.round()))\n",
    "print(\"Recall:\",metrics.recall_score(y_test, y_pred_final.round()))"
   ]
  },
  {
   "cell_type": "markdown",
   "metadata": {},
   "source": [
    "https://toolguyd.com/the-difference-between-accuracy-and-precision/"
   ]
  },
  {
   "cell_type": "markdown",
   "metadata": {},
   "source": [
    "how to fix? https://www.kdnuggets.com/2016/12/4-reasons-machine-learning-model-wrong.html"
   ]
  },
  {
   "cell_type": "code",
   "execution_count": 84,
   "metadata": {},
   "outputs": [
    {
     "name": "stdout",
     "output_type": "stream",
     "text": [
      "              precision    recall  f1-score   support\n",
      "\n",
      "           0       0.90      0.98      0.94      2121\n",
      "           1       0.55      0.19      0.28       277\n",
      "\n",
      "    accuracy                           0.89      2398\n",
      "   macro avg       0.72      0.59      0.61      2398\n",
      "weighted avg       0.86      0.89      0.86      2398\n",
      "\n"
     ]
    }
   ],
   "source": [
    "from sklearn.metrics import classification_report\n",
    "print(classification_report(y_test, y_pred_final.round()))"
   ]
  },
  {
   "cell_type": "code",
   "execution_count": 85,
   "metadata": {},
   "outputs": [],
   "source": [
    "final_df = x2"
   ]
  },
  {
   "cell_type": "code",
   "execution_count": 86,
   "metadata": {},
   "outputs": [],
   "source": [
    "final_df['y'] = y_train"
   ]
  },
  {
   "cell_type": "code",
   "execution_count": 87,
   "metadata": {},
   "outputs": [
    {
     "data": {
      "text/plain": [
       "0    6419\n",
       "1     773\n",
       "Name: y, dtype: int64"
      ]
     },
     "execution_count": 87,
     "metadata": {},
     "output_type": "execute_result"
    }
   ],
   "source": [
    "final_df['y'].value_counts()"
   ]
  },
  {
   "cell_type": "code",
   "execution_count": 88,
   "metadata": {},
   "outputs": [
    {
     "data": {
      "image/png": "[encoded data removed]",
      "text/plain": [
       "<Figure size 432x288 with 1 Axes>"
      ]
     },
     "metadata": {
      "needs_background": "light"
     },
     "output_type": "display_data"
    },
    {
     "data": {
      "text/plain": [
       "<Figure size 432x288 with 0 Axes>"
      ]
     },
     "metadata": {},
     "output_type": "display_data"
    }
   ],
   "source": [
    "sns.countplot(x = 'y', data = final_df, palette = 'hls')\n",
    "plt.show()\n",
    "plt.savefig('count_plot')"
   ]
  },
  {
   "cell_type": "code",
   "execution_count": 89,
   "metadata": {},
   "outputs": [
    {
     "data": {
      "text/html": [
       "<div>\n",
       "<style scoped>\n",
       "    .dataframe tbody tr th:only-of-type {\n",
       "        vertical-align: middle;\n",
       "    }\n",
       "\n",
       "    .dataframe tbody tr th {\n",
       "        vertical-align: top;\n",
       "    }\n",
       "\n",
       "    .dataframe thead th {\n",
       "        text-align: right;\n",
       "    }\n",
       "</style>\n",
       "<table border=\"1\" class=\"dataframe\">\n",
       "  <thead>\n",
       "    <tr style=\"text-align: right;\">\n",
       "      <th></th>\n",
       "      <th>Q4_3_gt_Q1_2_contacts</th>\n",
       "      <th>Q4_3_gt_Q1_2_searches</th>\n",
       "      <th>fast_alert_contacts</th>\n",
       "      <th>slow_alert_searches</th>\n",
       "      <th>sm_min_commitments</th>\n",
       "      <th>sum_account_issues_12mos</th>\n",
       "      <th>sum_passworkd_12mos</th>\n",
       "      <th>sum_prod_support_12mos</th>\n",
       "      <th>total_product</th>\n",
       "      <th>slow_alert_contacts</th>\n",
       "      <th>sum_tech_issues_12mos</th>\n",
       "      <th>Q4_sm_Q1_2_3_contacts</th>\n",
       "      <th>total_searches_3mos</th>\n",
       "      <th>Q4_gt_Q3_searches</th>\n",
       "    </tr>\n",
       "    <tr>\n",
       "      <th>y</th>\n",
       "      <th></th>\n",
       "      <th></th>\n",
       "      <th></th>\n",
       "      <th></th>\n",
       "      <th></th>\n",
       "      <th></th>\n",
       "      <th></th>\n",
       "      <th></th>\n",
       "      <th></th>\n",
       "      <th></th>\n",
       "      <th></th>\n",
       "      <th></th>\n",
       "      <th></th>\n",
       "      <th></th>\n",
       "    </tr>\n",
       "  </thead>\n",
       "  <tbody>\n",
       "    <tr>\n",
       "      <th>0</th>\n",
       "      <td>0.473438</td>\n",
       "      <td>0.667238</td>\n",
       "      <td>0.081010</td>\n",
       "      <td>0.036766</td>\n",
       "      <td>0.422496</td>\n",
       "      <td>0.428883</td>\n",
       "      <td>4.628603</td>\n",
       "      <td>0.810874</td>\n",
       "      <td>1.912447</td>\n",
       "      <td>0.051721</td>\n",
       "      <td>0.276367</td>\n",
       "      <td>-0.181025</td>\n",
       "      <td>6137.529678</td>\n",
       "      <td>0.431531</td>\n",
       "    </tr>\n",
       "    <tr>\n",
       "      <th>1</th>\n",
       "      <td>0.168176</td>\n",
       "      <td>0.310479</td>\n",
       "      <td>0.196636</td>\n",
       "      <td>0.244502</td>\n",
       "      <td>0.765847</td>\n",
       "      <td>0.783959</td>\n",
       "      <td>2.565330</td>\n",
       "      <td>0.476067</td>\n",
       "      <td>2.212160</td>\n",
       "      <td>0.204398</td>\n",
       "      <td>0.327296</td>\n",
       "      <td>-0.439845</td>\n",
       "      <td>1219.856404</td>\n",
       "      <td>0.301423</td>\n",
       "    </tr>\n",
       "  </tbody>\n",
       "</table>\n",
       "</div>"
      ],
      "text/plain": [
       "   Q4_3_gt_Q1_2_contacts  Q4_3_gt_Q1_2_searches  fast_alert_contacts  \\\n",
       "y                                                                      \n",
       "0               0.473438               0.667238             0.081010   \n",
       "1               0.168176               0.310479             0.196636   \n",
       "\n",
       "   slow_alert_searches  sm_min_commitments  sum_account_issues_12mos  \\\n",
       "y                                                                      \n",
       "0             0.036766            0.422496                  0.428883   \n",
       "1             0.244502            0.765847                  0.783959   \n",
       "\n",
       "   sum_passworkd_12mos  sum_prod_support_12mos  total_product  \\\n",
       "y                                                               \n",
       "0             4.628603                0.810874       1.912447   \n",
       "1             2.565330                0.476067       2.212160   \n",
       "\n",
       "   slow_alert_contacts  sum_tech_issues_12mos  Q4_sm_Q1_2_3_contacts  \\\n",
       "y                                                                      \n",
       "0             0.051721               0.276367              -0.181025   \n",
       "1             0.204398               0.327296              -0.439845   \n",
       "\n",
       "   total_searches_3mos  Q4_gt_Q3_searches  \n",
       "y                                          \n",
       "0          6137.529678           0.431531  \n",
       "1          1219.856404           0.301423  "
      ]
     },
     "execution_count": 89,
     "metadata": {},
     "output_type": "execute_result"
    }
   ],
   "source": [
    "final_df.groupby('y').mean()"
   ]
  },
  {
   "cell_type": "code",
   "execution_count": 90,
   "metadata": {},
   "outputs": [],
   "source": [
    "cor_matrix = final_df.corr()"
   ]
  },
  {
   "cell_type": "code",
   "execution_count": 91,
   "metadata": {},
   "outputs": [
    {
     "data": {
      "text/html": [
       "<div>\n",
       "<style scoped>\n",
       "    .dataframe tbody tr th:only-of-type {\n",
       "        vertical-align: middle;\n",
       "    }\n",
       "\n",
       "    .dataframe tbody tr th {\n",
       "        vertical-align: top;\n",
       "    }\n",
       "\n",
       "    .dataframe thead th {\n",
       "        text-align: right;\n",
       "    }\n",
       "</style>\n",
       "<table border=\"1\" class=\"dataframe\">\n",
       "  <thead>\n",
       "    <tr style=\"text-align: right;\">\n",
       "      <th></th>\n",
       "      <th>Q4_3_gt_Q1_2_contacts</th>\n",
       "      <th>Q4_3_gt_Q1_2_searches</th>\n",
       "      <th>fast_alert_contacts</th>\n",
       "      <th>slow_alert_searches</th>\n",
       "      <th>sm_min_commitments</th>\n",
       "      <th>sum_account_issues_12mos</th>\n",
       "      <th>sum_passworkd_12mos</th>\n",
       "      <th>sum_prod_support_12mos</th>\n",
       "      <th>total_product</th>\n",
       "      <th>slow_alert_contacts</th>\n",
       "      <th>sum_tech_issues_12mos</th>\n",
       "      <th>Q4_sm_Q1_2_3_contacts</th>\n",
       "      <th>total_searches_3mos</th>\n",
       "      <th>Q4_gt_Q3_searches</th>\n",
       "      <th>y</th>\n",
       "    </tr>\n",
       "  </thead>\n",
       "  <tbody>\n",
       "    <tr>\n",
       "      <th>Q4_3_gt_Q1_2_contacts</th>\n",
       "      <td>1.000000</td>\n",
       "      <td>0.314235</td>\n",
       "      <td>-0.067459</td>\n",
       "      <td>-0.160662</td>\n",
       "      <td>-0.165134</td>\n",
       "      <td>0.059959</td>\n",
       "      <td>0.105740</td>\n",
       "      <td>0.106848</td>\n",
       "      <td>0.078964</td>\n",
       "      <td>-0.211085</td>\n",
       "      <td>0.046985</td>\n",
       "      <td>0.456000</td>\n",
       "      <td>-0.008753</td>\n",
       "      <td>0.073143</td>\n",
       "      <td>-0.190441</td>\n",
       "    </tr>\n",
       "    <tr>\n",
       "      <th>Q4_3_gt_Q1_2_searches</th>\n",
       "      <td>0.314235</td>\n",
       "      <td>1.000000</td>\n",
       "      <td>-0.113344</td>\n",
       "      <td>-0.315253</td>\n",
       "      <td>-0.206679</td>\n",
       "      <td>0.006720</td>\n",
       "      <td>0.064679</td>\n",
       "      <td>0.059290</td>\n",
       "      <td>0.037564</td>\n",
       "      <td>-0.168091</td>\n",
       "      <td>0.005738</td>\n",
       "      <td>0.285772</td>\n",
       "      <td>0.022812</td>\n",
       "      <td>0.188762</td>\n",
       "      <td>-0.228724</td>\n",
       "    </tr>\n",
       "    <tr>\n",
       "      <th>fast_alert_contacts</th>\n",
       "      <td>-0.067459</td>\n",
       "      <td>-0.113344</td>\n",
       "      <td>1.000000</td>\n",
       "      <td>0.103914</td>\n",
       "      <td>0.039576</td>\n",
       "      <td>0.025173</td>\n",
       "      <td>0.023670</td>\n",
       "      <td>0.006577</td>\n",
       "      <td>0.025613</td>\n",
       "      <td>0.152090</td>\n",
       "      <td>0.014164</td>\n",
       "      <td>-0.258164</td>\n",
       "      <td>-0.008414</td>\n",
       "      <td>-0.139103</td>\n",
       "      <td>0.123048</td>\n",
       "    </tr>\n",
       "    <tr>\n",
       "      <th>slow_alert_searches</th>\n",
       "      <td>-0.160662</td>\n",
       "      <td>-0.315253</td>\n",
       "      <td>0.103914</td>\n",
       "      <td>1.000000</td>\n",
       "      <td>0.121584</td>\n",
       "      <td>0.030112</td>\n",
       "      <td>-0.010958</td>\n",
       "      <td>-0.029013</td>\n",
       "      <td>0.004227</td>\n",
       "      <td>0.304332</td>\n",
       "      <td>0.018470</td>\n",
       "      <td>-0.222302</td>\n",
       "      <td>-0.007699</td>\n",
       "      <td>-0.097399</td>\n",
       "      <td>0.272862</td>\n",
       "    </tr>\n",
       "    <tr>\n",
       "      <th>sm_min_commitments</th>\n",
       "      <td>-0.165134</td>\n",
       "      <td>-0.206679</td>\n",
       "      <td>0.039576</td>\n",
       "      <td>0.121584</td>\n",
       "      <td>1.000000</td>\n",
       "      <td>-0.055083</td>\n",
       "      <td>-0.155033</td>\n",
       "      <td>-0.179980</td>\n",
       "      <td>-0.022517</td>\n",
       "      <td>0.044175</td>\n",
       "      <td>-0.129912</td>\n",
       "      <td>-0.089219</td>\n",
       "      <td>-0.086614</td>\n",
       "      <td>-0.121965</td>\n",
       "      <td>0.213393</td>\n",
       "    </tr>\n",
       "    <tr>\n",
       "      <th>sum_account_issues_12mos</th>\n",
       "      <td>0.059959</td>\n",
       "      <td>0.006720</td>\n",
       "      <td>0.025173</td>\n",
       "      <td>0.030112</td>\n",
       "      <td>-0.055083</td>\n",
       "      <td>1.000000</td>\n",
       "      <td>0.216094</td>\n",
       "      <td>0.327796</td>\n",
       "      <td>0.102359</td>\n",
       "      <td>0.006099</td>\n",
       "      <td>0.375719</td>\n",
       "      <td>-0.016447</td>\n",
       "      <td>0.037088</td>\n",
       "      <td>-0.005183</td>\n",
       "      <td>0.109038</td>\n",
       "    </tr>\n",
       "    <tr>\n",
       "      <th>sum_passworkd_12mos</th>\n",
       "      <td>0.105740</td>\n",
       "      <td>0.064679</td>\n",
       "      <td>0.023670</td>\n",
       "      <td>-0.010958</td>\n",
       "      <td>-0.155033</td>\n",
       "      <td>0.216094</td>\n",
       "      <td>1.000000</td>\n",
       "      <td>0.409749</td>\n",
       "      <td>0.180410</td>\n",
       "      <td>-0.020821</td>\n",
       "      <td>0.361611</td>\n",
       "      <td>-0.024848</td>\n",
       "      <td>0.023460</td>\n",
       "      <td>0.015309</td>\n",
       "      <td>-0.047713</td>\n",
       "    </tr>\n",
       "    <tr>\n",
       "      <th>sum_prod_support_12mos</th>\n",
       "      <td>0.106848</td>\n",
       "      <td>0.059290</td>\n",
       "      <td>0.006577</td>\n",
       "      <td>-0.029013</td>\n",
       "      <td>-0.179980</td>\n",
       "      <td>0.327796</td>\n",
       "      <td>0.409749</td>\n",
       "      <td>1.000000</td>\n",
       "      <td>0.188886</td>\n",
       "      <td>-0.046800</td>\n",
       "      <td>0.434094</td>\n",
       "      <td>0.026251</td>\n",
       "      <td>0.036781</td>\n",
       "      <td>0.028721</td>\n",
       "      <td>-0.056486</td>\n",
       "    </tr>\n",
       "    <tr>\n",
       "      <th>total_product</th>\n",
       "      <td>0.078964</td>\n",
       "      <td>0.037564</td>\n",
       "      <td>0.025613</td>\n",
       "      <td>0.004227</td>\n",
       "      <td>-0.022517</td>\n",
       "      <td>0.102359</td>\n",
       "      <td>0.180410</td>\n",
       "      <td>0.188886</td>\n",
       "      <td>1.000000</td>\n",
       "      <td>0.064880</td>\n",
       "      <td>0.192685</td>\n",
       "      <td>-0.108745</td>\n",
       "      <td>-0.019055</td>\n",
       "      <td>0.024671</td>\n",
       "      <td>0.069911</td>\n",
       "    </tr>\n",
       "    <tr>\n",
       "      <th>slow_alert_contacts</th>\n",
       "      <td>-0.211085</td>\n",
       "      <td>-0.168091</td>\n",
       "      <td>0.152090</td>\n",
       "      <td>0.304332</td>\n",
       "      <td>0.044175</td>\n",
       "      <td>0.006099</td>\n",
       "      <td>-0.020821</td>\n",
       "      <td>-0.046800</td>\n",
       "      <td>0.064880</td>\n",
       "      <td>1.000000</td>\n",
       "      <td>0.012525</td>\n",
       "      <td>-0.393239</td>\n",
       "      <td>-0.017085</td>\n",
       "      <td>-0.067807</td>\n",
       "      <td>0.187671</td>\n",
       "    </tr>\n",
       "    <tr>\n",
       "      <th>sum_tech_issues_12mos</th>\n",
       "      <td>0.046985</td>\n",
       "      <td>0.005738</td>\n",
       "      <td>0.014164</td>\n",
       "      <td>0.018470</td>\n",
       "      <td>-0.129912</td>\n",
       "      <td>0.375719</td>\n",
       "      <td>0.361611</td>\n",
       "      <td>0.434094</td>\n",
       "      <td>0.192685</td>\n",
       "      <td>0.012525</td>\n",
       "      <td>1.000000</td>\n",
       "      <td>-0.030378</td>\n",
       "      <td>0.043587</td>\n",
       "      <td>0.007783</td>\n",
       "      <td>0.016351</td>\n",
       "    </tr>\n",
       "    <tr>\n",
       "      <th>Q4_sm_Q1_2_3_contacts</th>\n",
       "      <td>0.456000</td>\n",
       "      <td>0.285772</td>\n",
       "      <td>-0.258164</td>\n",
       "      <td>-0.222302</td>\n",
       "      <td>-0.089219</td>\n",
       "      <td>-0.016447</td>\n",
       "      <td>-0.024848</td>\n",
       "      <td>0.026251</td>\n",
       "      <td>-0.108745</td>\n",
       "      <td>-0.393239</td>\n",
       "      <td>-0.030378</td>\n",
       "      <td>1.000000</td>\n",
       "      <td>0.019888</td>\n",
       "      <td>0.131204</td>\n",
       "      <td>-0.197210</td>\n",
       "    </tr>\n",
       "    <tr>\n",
       "      <th>total_searches_3mos</th>\n",
       "      <td>-0.008753</td>\n",
       "      <td>0.022812</td>\n",
       "      <td>-0.008414</td>\n",
       "      <td>-0.007699</td>\n",
       "      <td>-0.086614</td>\n",
       "      <td>0.037088</td>\n",
       "      <td>0.023460</td>\n",
       "      <td>0.036781</td>\n",
       "      <td>-0.019055</td>\n",
       "      <td>-0.017085</td>\n",
       "      <td>0.043587</td>\n",
       "      <td>0.019888</td>\n",
       "      <td>1.000000</td>\n",
       "      <td>0.028345</td>\n",
       "      <td>-0.025908</td>\n",
       "    </tr>\n",
       "    <tr>\n",
       "      <th>Q4_gt_Q3_searches</th>\n",
       "      <td>0.073143</td>\n",
       "      <td>0.188762</td>\n",
       "      <td>-0.139103</td>\n",
       "      <td>-0.097399</td>\n",
       "      <td>-0.121965</td>\n",
       "      <td>-0.005183</td>\n",
       "      <td>0.015309</td>\n",
       "      <td>0.028721</td>\n",
       "      <td>0.024671</td>\n",
       "      <td>-0.067807</td>\n",
       "      <td>0.007783</td>\n",
       "      <td>0.131204</td>\n",
       "      <td>0.028345</td>\n",
       "      <td>1.000000</td>\n",
       "      <td>-0.081714</td>\n",
       "    </tr>\n",
       "    <tr>\n",
       "      <th>y</th>\n",
       "      <td>-0.190441</td>\n",
       "      <td>-0.228724</td>\n",
       "      <td>0.123048</td>\n",
       "      <td>0.272862</td>\n",
       "      <td>0.213393</td>\n",
       "      <td>0.109038</td>\n",
       "      <td>-0.047713</td>\n",
       "      <td>-0.056486</td>\n",
       "      <td>0.069911</td>\n",
       "      <td>0.187671</td>\n",
       "      <td>0.016351</td>\n",
       "      <td>-0.197210</td>\n",
       "      <td>-0.025908</td>\n",
       "      <td>-0.081714</td>\n",
       "      <td>1.000000</td>\n",
       "    </tr>\n",
       "  </tbody>\n",
       "</table>\n",
       "</div>"
      ],
      "text/plain": [
       "                          Q4_3_gt_Q1_2_contacts  Q4_3_gt_Q1_2_searches  \\\n",
       "Q4_3_gt_Q1_2_contacts                  1.000000               0.314235   \n",
       "Q4_3_gt_Q1_2_searches                  0.314235               1.000000   \n",
       "fast_alert_contacts                   -0.067459              -0.113344   \n",
       "slow_alert_searches                   -0.160662              -0.315253   \n",
       "sm_min_commitments                    -0.165134              -0.206679   \n",
       "sum_account_issues_12mos               0.059959               0.006720   \n",
       "sum_passworkd_12mos                    0.105740               0.064679   \n",
       "sum_prod_support_12mos                 0.106848               0.059290   \n",
       "total_product                          0.078964               0.037564   \n",
       "slow_alert_contacts                   -0.211085              -0.168091   \n",
       "sum_tech_issues_12mos                  0.046985               0.005738   \n",
       "Q4_sm_Q1_2_3_contacts                  0.456000               0.285772   \n",
       "total_searches_3mos                   -0.008753               0.022812   \n",
       "Q4_gt_Q3_searches                      0.073143               0.188762   \n",
       "y                                     -0.190441              -0.228724   \n",
       "\n",
       "                          fast_alert_contacts  slow_alert_searches  \\\n",
       "Q4_3_gt_Q1_2_contacts               -0.067459            -0.160662   \n",
       "Q4_3_gt_Q1_2_searches               -0.113344            -0.315253   \n",
       "fast_alert_contacts                  1.000000             0.103914   \n",
       "slow_alert_searches                  0.103914             1.000000   \n",
       "sm_min_commitments                   0.039576             0.121584   \n",
       "sum_account_issues_12mos             0.025173             0.030112   \n",
       "sum_passworkd_12mos                  0.023670            -0.010958   \n",
       "sum_prod_support_12mos               0.006577            -0.029013   \n",
       "total_product                        0.025613             0.004227   \n",
       "slow_alert_contacts                  0.152090             0.304332   \n",
       "sum_tech_issues_12mos                0.014164             0.018470   \n",
       "Q4_sm_Q1_2_3_contacts               -0.258164            -0.222302   \n",
       "total_searches_3mos                 -0.008414            -0.007699   \n",
       "Q4_gt_Q3_searches                   -0.139103            -0.097399   \n",
       "y                                    0.123048             0.272862   \n",
       "\n",
       "                          sm_min_commitments  sum_account_issues_12mos  \\\n",
       "Q4_3_gt_Q1_2_contacts              -0.165134                  0.059959   \n",
       "Q4_3_gt_Q1_2_searches              -0.206679                  0.006720   \n",
       "fast_alert_contacts                 0.039576                  0.025173   \n",
       "slow_alert_searches                 0.121584                  0.030112   \n",
       "sm_min_commitments                  1.000000                 -0.055083   \n",
       "sum_account_issues_12mos           -0.055083                  1.000000   \n",
       "sum_passworkd_12mos                -0.155033                  0.216094   \n",
       "sum_prod_support_12mos             -0.179980                  0.327796   \n",
       "total_product                      -0.022517                  0.102359   \n",
       "slow_alert_contacts                 0.044175                  0.006099   \n",
       "sum_tech_issues_12mos              -0.129912                  0.375719   \n",
       "Q4_sm_Q1_2_3_contacts              -0.089219                 -0.016447   \n",
       "total_searches_3mos                -0.086614                  0.037088   \n",
       "Q4_gt_Q3_searches                  -0.121965                 -0.005183   \n",
       "y                                   0.213393                  0.109038   \n",
       "\n",
       "                          sum_passworkd_12mos  sum_prod_support_12mos  \\\n",
       "Q4_3_gt_Q1_2_contacts                0.105740                0.106848   \n",
       "Q4_3_gt_Q1_2_searches                0.064679                0.059290   \n",
       "fast_alert_contacts                  0.023670                0.006577   \n",
       "slow_alert_searches                 -0.010958               -0.029013   \n",
       "sm_min_commitments                  -0.155033               -0.179980   \n",
       "sum_account_issues_12mos             0.216094                0.327796   \n",
       "sum_passworkd_12mos                  1.000000                0.409749   \n",
       "sum_prod_support_12mos               0.409749                1.000000   \n",
       "total_product                        0.180410                0.188886   \n",
       "slow_alert_contacts                 -0.020821               -0.046800   \n",
       "sum_tech_issues_12mos                0.361611                0.434094   \n",
       "Q4_sm_Q1_2_3_contacts               -0.024848                0.026251   \n",
       "total_searches_3mos                  0.023460                0.036781   \n",
       "Q4_gt_Q3_searches                    0.015309                0.028721   \n",
       "y                                   -0.047713               -0.056486   \n",
       "\n",
       "                          total_product  slow_alert_contacts  \\\n",
       "Q4_3_gt_Q1_2_contacts          0.078964            -0.211085   \n",
       "Q4_3_gt_Q1_2_searches          0.037564            -0.168091   \n",
       "fast_alert_contacts            0.025613             0.152090   \n",
       "slow_alert_searches            0.004227             0.304332   \n",
       "sm_min_commitments            -0.022517             0.044175   \n",
       "sum_account_issues_12mos       0.102359             0.006099   \n",
       "sum_passworkd_12mos            0.180410            -0.020821   \n",
       "sum_prod_support_12mos         0.188886            -0.046800   \n",
       "total_product                  1.000000             0.064880   \n",
       "slow_alert_contacts            0.064880             1.000000   \n",
       "sum_tech_issues_12mos          0.192685             0.012525   \n",
       "Q4_sm_Q1_2_3_contacts         -0.108745            -0.393239   \n",
       "total_searches_3mos           -0.019055            -0.017085   \n",
       "Q4_gt_Q3_searches              0.024671            -0.067807   \n",
       "y                              0.069911             0.187671   \n",
       "\n",
       "                          sum_tech_issues_12mos  Q4_sm_Q1_2_3_contacts  \\\n",
       "Q4_3_gt_Q1_2_contacts                  0.046985               0.456000   \n",
       "Q4_3_gt_Q1_2_searches                  0.005738               0.285772   \n",
       "fast_alert_contacts                    0.014164              -0.258164   \n",
       "slow_alert_searches                    0.018470              -0.222302   \n",
       "sm_min_commitments                    -0.129912              -0.089219   \n",
       "sum_account_issues_12mos               0.375719              -0.016447   \n",
       "sum_passworkd_12mos                    0.361611              -0.024848   \n",
       "sum_prod_support_12mos                 0.434094               0.026251   \n",
       "total_product                          0.192685              -0.108745   \n",
       "slow_alert_contacts                    0.012525              -0.393239   \n",
       "sum_tech_issues_12mos                  1.000000              -0.030378   \n",
       "Q4_sm_Q1_2_3_contacts                 -0.030378               1.000000   \n",
       "total_searches_3mos                    0.043587               0.019888   \n",
       "Q4_gt_Q3_searches                      0.007783               0.131204   \n",
       "y                                      0.016351              -0.197210   \n",
       "\n",
       "                          total_searches_3mos  Q4_gt_Q3_searches         y  \n",
       "Q4_3_gt_Q1_2_contacts               -0.008753           0.073143 -0.190441  \n",
       "Q4_3_gt_Q1_2_searches                0.022812           0.188762 -0.228724  \n",
       "fast_alert_contacts                 -0.008414          -0.139103  0.123048  \n",
       "slow_alert_searches                 -0.007699          -0.097399  0.272862  \n",
       "sm_min_commitments                  -0.086614          -0.121965  0.213393  \n",
       "sum_account_issues_12mos             0.037088          -0.005183  0.109038  \n",
       "sum_passworkd_12mos                  0.023460           0.015309 -0.047713  \n",
       "sum_prod_support_12mos               0.036781           0.028721 -0.056486  \n",
       "total_product                       -0.019055           0.024671  0.069911  \n",
       "slow_alert_contacts                 -0.017085          -0.067807  0.187671  \n",
       "sum_tech_issues_12mos                0.043587           0.007783  0.016351  \n",
       "Q4_sm_Q1_2_3_contacts                0.019888           0.131204 -0.197210  \n",
       "total_searches_3mos                  1.000000           0.028345 -0.025908  \n",
       "Q4_gt_Q3_searches                    0.028345           1.000000 -0.081714  \n",
       "y                                   -0.025908          -0.081714  1.000000  "
      ]
     },
     "execution_count": 91,
     "metadata": {},
     "output_type": "execute_result"
    }
   ],
   "source": [
    "cor_matrix"
   ]
  },
  {
   "cell_type": "code",
   "execution_count": 92,
   "metadata": {},
   "outputs": [],
   "source": [
    "Y_test = y_test"
   ]
  },
  {
   "cell_type": "code",
   "execution_count": 93,
   "metadata": {},
   "outputs": [],
   "source": [
    "X_test = test_final_col"
   ]
  },
  {
   "cell_type": "code",
   "execution_count": 94,
   "metadata": {},
   "outputs": [
    {
     "data": {
      "text/plain": [
       "(2398,)"
      ]
     },
     "execution_count": 94,
     "metadata": {},
     "output_type": "execute_result"
    }
   ],
   "source": [
    "Y_test.shape"
   ]
  },
  {
   "cell_type": "code",
   "execution_count": 95,
   "metadata": {},
   "outputs": [
    {
     "data": {
      "text/plain": [
       "(2398, 14)"
      ]
     },
     "execution_count": 95,
     "metadata": {},
     "output_type": "execute_result"
    }
   ],
   "source": [
    "X_test.shape"
   ]
  },
  {
   "cell_type": "code",
   "execution_count": 96,
   "metadata": {},
   "outputs": [],
   "source": [
    "#First getting my output predicted dataset of the test\n",
    "X_test_predicted = logit_rf.predict(X_test.astype(float)) #sm.add_constant to have model with intercept\n"
   ]
  },
  {
   "cell_type": "code",
   "execution_count": 97,
   "metadata": {},
   "outputs": [],
   "source": [
    "predicted_output_dataset = pd.merge(X_test_predicted.rename('predicted_score'), Y_test, left_index=True, right_index=True, how='outer')"
   ]
  },
  {
   "cell_type": "code",
   "execution_count": 98,
   "metadata": {},
   "outputs": [
    {
     "data": {
      "text/html": [
       "<div>\n",
       "<style scoped>\n",
       "    .dataframe tbody tr th:only-of-type {\n",
       "        vertical-align: middle;\n",
       "    }\n",
       "\n",
       "    .dataframe tbody tr th {\n",
       "        vertical-align: top;\n",
       "    }\n",
       "\n",
       "    .dataframe thead th {\n",
       "        text-align: right;\n",
       "    }\n",
       "</style>\n",
       "<table border=\"1\" class=\"dataframe\">\n",
       "  <thead>\n",
       "    <tr style=\"text-align: right;\">\n",
       "      <th></th>\n",
       "      <th>predicted_score</th>\n",
       "      <th>binary_response</th>\n",
       "    </tr>\n",
       "    <tr>\n",
       "      <th>customer_account_sk</th>\n",
       "      <th></th>\n",
       "      <th></th>\n",
       "    </tr>\n",
       "  </thead>\n",
       "  <tbody>\n",
       "    <tr>\n",
       "      <th>262141</th>\n",
       "      <td>0.122235</td>\n",
       "      <td>0</td>\n",
       "    </tr>\n",
       "    <tr>\n",
       "      <th>1475482</th>\n",
       "      <td>0.016381</td>\n",
       "      <td>0</td>\n",
       "    </tr>\n",
       "    <tr>\n",
       "      <th>68706</th>\n",
       "      <td>0.033203</td>\n",
       "      <td>0</td>\n",
       "    </tr>\n",
       "    <tr>\n",
       "      <th>170316</th>\n",
       "      <td>0.454506</td>\n",
       "      <td>0</td>\n",
       "    </tr>\n",
       "    <tr>\n",
       "      <th>136457</th>\n",
       "      <td>0.560296</td>\n",
       "      <td>0</td>\n",
       "    </tr>\n",
       "  </tbody>\n",
       "</table>\n",
       "</div>"
      ],
      "text/plain": [
       "                     predicted_score  binary_response\n",
       "customer_account_sk                                  \n",
       "262141                      0.122235                0\n",
       "1475482                     0.016381                0\n",
       "68706                       0.033203                0\n",
       "170316                      0.454506                0\n",
       "136457                      0.560296                0"
      ]
     },
     "execution_count": 98,
     "metadata": {},
     "output_type": "execute_result"
    }
   ],
   "source": [
    "predicted_output_dataset.head()"
   ]
  },
  {
   "cell_type": "code",
   "execution_count": 99,
   "metadata": {},
   "outputs": [],
   "source": [
    "predicted_output_dataset['nonattritor'] = 1 - predicted_output_dataset.binary_response"
   ]
  },
  {
   "cell_type": "code",
   "execution_count": 100,
   "metadata": {},
   "outputs": [],
   "source": [
    "predicted_output_dataset['bucket'] = pd.qcut(predicted_output_dataset.predicted_score, 20)"
   ]
  },
  {
   "cell_type": "code",
   "execution_count": 101,
   "metadata": {},
   "outputs": [],
   "source": [
    "predicted_output_dataset_min = predicted_output_dataset.groupby(['bucket']).predicted_score.min().reset_index(name=\"Minimum_Predicted_Score\")\n",
    "predicted_output_dataset_max = predicted_output_dataset.groupby(['bucket']).predicted_score.max().reset_index(name=\"Maximum_Predicted_Score\")\n",
    "predicted_output_dataset_attr = predicted_output_dataset.groupby(['bucket']).binary_response.sum().reset_index(name=\"Num_Attritors\")\n",
    "predicted_output_dataset_attr['Total_Attritors'] = predicted_output_dataset_attr.Num_Attritors.sum()\n",
    "predicted_output_dataset_nonattr = predicted_output_dataset.groupby(['bucket']).nonattritor.sum().reset_index(name=\"Num_Non_Attritors\")\n",
    "predicted_output_dataset_nonattr['Total_Non_Attritors'] = predicted_output_dataset_nonattr.Num_Non_Attritors.sum()"
   ]
  },
  {
   "cell_type": "code",
   "execution_count": 102,
   "metadata": {},
   "outputs": [],
   "source": [
    "agg1 = pd.merge(predicted_output_dataset_attr, predicted_output_dataset_nonattr, on='bucket', how = 'outer')\n",
    "agg2 = pd.merge(agg1, predicted_output_dataset_min, on='bucket', how = 'outer')\n",
    "agg3 = pd.merge(agg2, predicted_output_dataset_max, on='bucket', how = 'outer')\n",
    "agg3 = agg3.assign(Total_cust = agg1.Total_Attritors + agg1.Total_Non_Attritors) \n",
    "agg3['Attrition_Rate'] = agg3.Num_Attritors / agg3.Total_Attritors\n",
    "agg3['NonAttrition_Rate'] = agg3.Num_Non_Attritors / agg3.Total_Non_Attritors\n",
    "agg4 = agg3.sort_values(by='Minimum_Predicted_Score', ascending=False)\n",
    "agg4['Cummul_Attrition_Rate']=(agg4.Attrition_Rate.cumsum()) * 100\n",
    "agg4['Cummul_NonAttrition_Rate']=(agg4.NonAttrition_Rate.cumsum()) * 100"
   ]
  },
  {
   "cell_type": "code",
   "execution_count": 103,
   "metadata": {},
   "outputs": [],
   "source": [
    "agg4['KS'] = np.round(agg4['Cummul_Attrition_Rate']-agg4['Cummul_NonAttrition_Rate'], 3)\n",
    "Max_KS = agg4.KS.max()"
   ]
  },
  {
   "cell_type": "code",
   "execution_count": 104,
   "metadata": {},
   "outputs": [
    {
     "name": "stdout",
     "output_type": "stream",
     "text": [
      "Maximum KS =  35.849\n"
     ]
    }
   ],
   "source": [
    "print('Maximum KS = ', Max_KS)"
   ]
  },
  {
   "cell_type": "code",
   "execution_count": 105,
   "metadata": {},
   "outputs": [],
   "source": [
    "agg4.to_csv('KS_table_imbalanced_class.csv')"
   ]
  },
  {
   "cell_type": "code",
   "execution_count": 106,
   "metadata": {},
   "outputs": [
    {
     "data": {
      "text/html": [
       "<div>\n",
       "<style scoped>\n",
       "    .dataframe tbody tr th:only-of-type {\n",
       "        vertical-align: middle;\n",
       "    }\n",
       "\n",
       "    .dataframe tbody tr th {\n",
       "        vertical-align: top;\n",
       "    }\n",
       "\n",
       "    .dataframe thead th {\n",
       "        text-align: right;\n",
       "    }\n",
       "</style>\n",
       "<table border=\"1\" class=\"dataframe\">\n",
       "  <thead>\n",
       "    <tr style=\"text-align: right;\">\n",
       "      <th></th>\n",
       "      <th>bucket</th>\n",
       "      <th>Num_Attritors</th>\n",
       "      <th>Total_Attritors</th>\n",
       "      <th>Num_Non_Attritors</th>\n",
       "      <th>Total_Non_Attritors</th>\n",
       "      <th>Minimum_Predicted_Score</th>\n",
       "      <th>Maximum_Predicted_Score</th>\n",
       "      <th>Total_cust</th>\n",
       "      <th>Attrition_Rate</th>\n",
       "      <th>NonAttrition_Rate</th>\n",
       "      <th>Cummul_Attrition_Rate</th>\n",
       "      <th>Cummul_NonAttrition_Rate</th>\n",
       "      <th>KS</th>\n",
       "    </tr>\n",
       "  </thead>\n",
       "  <tbody>\n",
       "    <tr>\n",
       "      <th>19</th>\n",
       "      <td>(0.47, 0.867]</td>\n",
       "      <td>62</td>\n",
       "      <td>277</td>\n",
       "      <td>58</td>\n",
       "      <td>2121</td>\n",
       "      <td>4.732373e-01</td>\n",
       "      <td>0.867401</td>\n",
       "      <td>2398</td>\n",
       "      <td>0.223827</td>\n",
       "      <td>0.027346</td>\n",
       "      <td>22.382671</td>\n",
       "      <td>2.734559</td>\n",
       "      <td>19.648</td>\n",
       "    </tr>\n",
       "    <tr>\n",
       "      <th>18</th>\n",
       "      <td>(0.389, 0.47]</td>\n",
       "      <td>27</td>\n",
       "      <td>277</td>\n",
       "      <td>93</td>\n",
       "      <td>2121</td>\n",
       "      <td>3.889577e-01</td>\n",
       "      <td>0.469089</td>\n",
       "      <td>2398</td>\n",
       "      <td>0.097473</td>\n",
       "      <td>0.043847</td>\n",
       "      <td>32.129964</td>\n",
       "      <td>7.119283</td>\n",
       "      <td>25.011</td>\n",
       "    </tr>\n",
       "    <tr>\n",
       "      <th>17</th>\n",
       "      <td>(0.331, 0.389]</td>\n",
       "      <td>21</td>\n",
       "      <td>277</td>\n",
       "      <td>99</td>\n",
       "      <td>2121</td>\n",
       "      <td>3.316188e-01</td>\n",
       "      <td>0.388950</td>\n",
       "      <td>2398</td>\n",
       "      <td>0.075812</td>\n",
       "      <td>0.046676</td>\n",
       "      <td>39.711191</td>\n",
       "      <td>11.786893</td>\n",
       "      <td>27.924</td>\n",
       "    </tr>\n",
       "    <tr>\n",
       "      <th>16</th>\n",
       "      <td>(0.256, 0.331]</td>\n",
       "      <td>23</td>\n",
       "      <td>277</td>\n",
       "      <td>97</td>\n",
       "      <td>2121</td>\n",
       "      <td>2.564607e-01</td>\n",
       "      <td>0.331398</td>\n",
       "      <td>2398</td>\n",
       "      <td>0.083032</td>\n",
       "      <td>0.045733</td>\n",
       "      <td>48.014440</td>\n",
       "      <td>16.360207</td>\n",
       "      <td>31.654</td>\n",
       "    </tr>\n",
       "    <tr>\n",
       "      <th>15</th>\n",
       "      <td>(0.183, 0.256]</td>\n",
       "      <td>21</td>\n",
       "      <td>277</td>\n",
       "      <td>99</td>\n",
       "      <td>2121</td>\n",
       "      <td>1.828129e-01</td>\n",
       "      <td>0.254579</td>\n",
       "      <td>2398</td>\n",
       "      <td>0.075812</td>\n",
       "      <td>0.046676</td>\n",
       "      <td>55.595668</td>\n",
       "      <td>21.027817</td>\n",
       "      <td>34.568</td>\n",
       "    </tr>\n",
       "    <tr>\n",
       "      <th>14</th>\n",
       "      <td>(0.143, 0.183]</td>\n",
       "      <td>17</td>\n",
       "      <td>277</td>\n",
       "      <td>103</td>\n",
       "      <td>2121</td>\n",
       "      <td>1.427059e-01</td>\n",
       "      <td>0.182681</td>\n",
       "      <td>2398</td>\n",
       "      <td>0.061372</td>\n",
       "      <td>0.048562</td>\n",
       "      <td>61.732852</td>\n",
       "      <td>25.884017</td>\n",
       "      <td>35.849</td>\n",
       "    </tr>\n",
       "    <tr>\n",
       "      <th>13</th>\n",
       "      <td>(0.124, 0.143]</td>\n",
       "      <td>13</td>\n",
       "      <td>277</td>\n",
       "      <td>106</td>\n",
       "      <td>2121</td>\n",
       "      <td>1.251244e-01</td>\n",
       "      <td>0.142263</td>\n",
       "      <td>2398</td>\n",
       "      <td>0.046931</td>\n",
       "      <td>0.049976</td>\n",
       "      <td>66.425993</td>\n",
       "      <td>30.881660</td>\n",
       "      <td>35.544</td>\n",
       "    </tr>\n",
       "    <tr>\n",
       "      <th>12</th>\n",
       "      <td>(0.102, 0.124]</td>\n",
       "      <td>10</td>\n",
       "      <td>277</td>\n",
       "      <td>110</td>\n",
       "      <td>2121</td>\n",
       "      <td>1.025552e-01</td>\n",
       "      <td>0.124391</td>\n",
       "      <td>2398</td>\n",
       "      <td>0.036101</td>\n",
       "      <td>0.051862</td>\n",
       "      <td>70.036101</td>\n",
       "      <td>36.067893</td>\n",
       "      <td>33.968</td>\n",
       "    </tr>\n",
       "    <tr>\n",
       "      <th>11</th>\n",
       "      <td>(0.0846, 0.102]</td>\n",
       "      <td>7</td>\n",
       "      <td>277</td>\n",
       "      <td>113</td>\n",
       "      <td>2121</td>\n",
       "      <td>8.466463e-02</td>\n",
       "      <td>0.102313</td>\n",
       "      <td>2398</td>\n",
       "      <td>0.025271</td>\n",
       "      <td>0.053277</td>\n",
       "      <td>72.563177</td>\n",
       "      <td>41.395568</td>\n",
       "      <td>31.168</td>\n",
       "    </tr>\n",
       "    <tr>\n",
       "      <th>10</th>\n",
       "      <td>(0.0717, 0.0846]</td>\n",
       "      <td>12</td>\n",
       "      <td>277</td>\n",
       "      <td>107</td>\n",
       "      <td>2121</td>\n",
       "      <td>7.176564e-02</td>\n",
       "      <td>0.084579</td>\n",
       "      <td>2398</td>\n",
       "      <td>0.043321</td>\n",
       "      <td>0.050448</td>\n",
       "      <td>76.895307</td>\n",
       "      <td>46.440358</td>\n",
       "      <td>30.455</td>\n",
       "    </tr>\n",
       "    <tr>\n",
       "      <th>9</th>\n",
       "      <td>(0.0592, 0.0717]</td>\n",
       "      <td>12</td>\n",
       "      <td>277</td>\n",
       "      <td>109</td>\n",
       "      <td>2121</td>\n",
       "      <td>5.922813e-02</td>\n",
       "      <td>0.071712</td>\n",
       "      <td>2398</td>\n",
       "      <td>0.043321</td>\n",
       "      <td>0.051391</td>\n",
       "      <td>81.227437</td>\n",
       "      <td>51.579444</td>\n",
       "      <td>29.648</td>\n",
       "    </tr>\n",
       "    <tr>\n",
       "      <th>8</th>\n",
       "      <td>(0.0459, 0.0592]</td>\n",
       "      <td>14</td>\n",
       "      <td>277</td>\n",
       "      <td>106</td>\n",
       "      <td>2121</td>\n",
       "      <td>4.589840e-02</td>\n",
       "      <td>0.059195</td>\n",
       "      <td>2398</td>\n",
       "      <td>0.050542</td>\n",
       "      <td>0.049976</td>\n",
       "      <td>86.281588</td>\n",
       "      <td>56.577086</td>\n",
       "      <td>29.705</td>\n",
       "    </tr>\n",
       "    <tr>\n",
       "      <th>7</th>\n",
       "      <td>(0.0363, 0.0459]</td>\n",
       "      <td>9</td>\n",
       "      <td>277</td>\n",
       "      <td>111</td>\n",
       "      <td>2121</td>\n",
       "      <td>3.628119e-02</td>\n",
       "      <td>0.045878</td>\n",
       "      <td>2398</td>\n",
       "      <td>0.032491</td>\n",
       "      <td>0.052334</td>\n",
       "      <td>89.530686</td>\n",
       "      <td>61.810467</td>\n",
       "      <td>27.720</td>\n",
       "    </tr>\n",
       "    <tr>\n",
       "      <th>6</th>\n",
       "      <td>(0.0306, 0.0363]</td>\n",
       "      <td>6</td>\n",
       "      <td>277</td>\n",
       "      <td>113</td>\n",
       "      <td>2121</td>\n",
       "      <td>3.064470e-02</td>\n",
       "      <td>0.036152</td>\n",
       "      <td>2398</td>\n",
       "      <td>0.021661</td>\n",
       "      <td>0.053277</td>\n",
       "      <td>91.696751</td>\n",
       "      <td>67.138142</td>\n",
       "      <td>24.559</td>\n",
       "    </tr>\n",
       "    <tr>\n",
       "      <th>5</th>\n",
       "      <td>(0.0245, 0.0306]</td>\n",
       "      <td>8</td>\n",
       "      <td>277</td>\n",
       "      <td>112</td>\n",
       "      <td>2121</td>\n",
       "      <td>2.465105e-02</td>\n",
       "      <td>0.030564</td>\n",
       "      <td>2398</td>\n",
       "      <td>0.028881</td>\n",
       "      <td>0.052805</td>\n",
       "      <td>94.584838</td>\n",
       "      <td>72.418670</td>\n",
       "      <td>22.166</td>\n",
       "    </tr>\n",
       "    <tr>\n",
       "      <th>4</th>\n",
       "      <td>(0.0191, 0.0245]</td>\n",
       "      <td>2</td>\n",
       "      <td>277</td>\n",
       "      <td>118</td>\n",
       "      <td>2121</td>\n",
       "      <td>1.910482e-02</td>\n",
       "      <td>0.024515</td>\n",
       "      <td>2398</td>\n",
       "      <td>0.007220</td>\n",
       "      <td>0.055634</td>\n",
       "      <td>95.306859</td>\n",
       "      <td>77.982084</td>\n",
       "      <td>17.325</td>\n",
       "    </tr>\n",
       "    <tr>\n",
       "      <th>3</th>\n",
       "      <td>(0.0158, 0.0191]</td>\n",
       "      <td>4</td>\n",
       "      <td>277</td>\n",
       "      <td>116</td>\n",
       "      <td>2121</td>\n",
       "      <td>1.580331e-02</td>\n",
       "      <td>0.019101</td>\n",
       "      <td>2398</td>\n",
       "      <td>0.014440</td>\n",
       "      <td>0.054691</td>\n",
       "      <td>96.750903</td>\n",
       "      <td>83.451202</td>\n",
       "      <td>13.300</td>\n",
       "    </tr>\n",
       "    <tr>\n",
       "      <th>2</th>\n",
       "      <td>(0.0113, 0.0158]</td>\n",
       "      <td>1</td>\n",
       "      <td>277</td>\n",
       "      <td>119</td>\n",
       "      <td>2121</td>\n",
       "      <td>1.130332e-02</td>\n",
       "      <td>0.015740</td>\n",
       "      <td>2398</td>\n",
       "      <td>0.003610</td>\n",
       "      <td>0.056106</td>\n",
       "      <td>97.111913</td>\n",
       "      <td>89.061763</td>\n",
       "      <td>8.050</td>\n",
       "    </tr>\n",
       "    <tr>\n",
       "      <th>1</th>\n",
       "      <td>(0.00492, 0.0113]</td>\n",
       "      <td>5</td>\n",
       "      <td>277</td>\n",
       "      <td>115</td>\n",
       "      <td>2121</td>\n",
       "      <td>4.924154e-03</td>\n",
       "      <td>0.011269</td>\n",
       "      <td>2398</td>\n",
       "      <td>0.018051</td>\n",
       "      <td>0.054220</td>\n",
       "      <td>98.916968</td>\n",
       "      <td>94.483734</td>\n",
       "      <td>4.433</td>\n",
       "    </tr>\n",
       "    <tr>\n",
       "      <th>0</th>\n",
       "      <td>(-0.001, 0.00492]</td>\n",
       "      <td>3</td>\n",
       "      <td>277</td>\n",
       "      <td>117</td>\n",
       "      <td>2121</td>\n",
       "      <td>5.209008e-23</td>\n",
       "      <td>0.004904</td>\n",
       "      <td>2398</td>\n",
       "      <td>0.010830</td>\n",
       "      <td>0.055163</td>\n",
       "      <td>100.000000</td>\n",
       "      <td>100.000000</td>\n",
       "      <td>0.000</td>\n",
       "    </tr>\n",
       "  </tbody>\n",
       "</table>\n",
       "</div>"
      ],
      "text/plain": [
       "               bucket  Num_Attritors  Total_Attritors  Num_Non_Attritors  \\\n",
       "19      (0.47, 0.867]             62              277                 58   \n",
       "18      (0.389, 0.47]             27              277                 93   \n",
       "17     (0.331, 0.389]             21              277                 99   \n",
       "16     (0.256, 0.331]             23              277                 97   \n",
       "15     (0.183, 0.256]             21              277                 99   \n",
       "14     (0.143, 0.183]             17              277                103   \n",
       "13     (0.124, 0.143]             13              277                106   \n",
       "12     (0.102, 0.124]             10              277                110   \n",
       "11    (0.0846, 0.102]              7              277                113   \n",
       "10   (0.0717, 0.0846]             12              277                107   \n",
       "9    (0.0592, 0.0717]             12              277                109   \n",
       "8    (0.0459, 0.0592]             14              277                106   \n",
       "7    (0.0363, 0.0459]              9              277                111   \n",
       "6    (0.0306, 0.0363]              6              277                113   \n",
       "5    (0.0245, 0.0306]              8              277                112   \n",
       "4    (0.0191, 0.0245]              2              277                118   \n",
       "3    (0.0158, 0.0191]              4              277                116   \n",
       "2    (0.0113, 0.0158]              1              277                119   \n",
       "1   (0.00492, 0.0113]              5              277                115   \n",
       "0   (-0.001, 0.00492]              3              277                117   \n",
       "\n",
       "    Total_Non_Attritors  Minimum_Predicted_Score  Maximum_Predicted_Score  \\\n",
       "19                 2121             4.732373e-01                 0.867401   \n",
       "18                 2121             3.889577e-01                 0.469089   \n",
       "17                 2121             3.316188e-01                 0.388950   \n",
       "16                 2121             2.564607e-01                 0.331398   \n",
       "15                 2121             1.828129e-01                 0.254579   \n",
       "14                 2121             1.427059e-01                 0.182681   \n",
       "13                 2121             1.251244e-01                 0.142263   \n",
       "12                 2121             1.025552e-01                 0.124391   \n",
       "11                 2121             8.466463e-02                 0.102313   \n",
       "10                 2121             7.176564e-02                 0.084579   \n",
       "9                  2121             5.922813e-02                 0.071712   \n",
       "8                  2121             4.589840e-02                 0.059195   \n",
       "7                  2121             3.628119e-02                 0.045878   \n",
       "6                  2121             3.064470e-02                 0.036152   \n",
       "5                  2121             2.465105e-02                 0.030564   \n",
       "4                  2121             1.910482e-02                 0.024515   \n",
       "3                  2121             1.580331e-02                 0.019101   \n",
       "2                  2121             1.130332e-02                 0.015740   \n",
       "1                  2121             4.924154e-03                 0.011269   \n",
       "0                  2121             5.209008e-23                 0.004904   \n",
       "\n",
       "    Total_cust  Attrition_Rate  NonAttrition_Rate  Cummul_Attrition_Rate  \\\n",
       "19        2398        0.223827           0.027346              22.382671   \n",
       "18        2398        0.097473           0.043847              32.129964   \n",
       "17        2398        0.075812           0.046676              39.711191   \n",
       "16        2398        0.083032           0.045733              48.014440   \n",
       "15        2398        0.075812           0.046676              55.595668   \n",
       "14        2398        0.061372           0.048562              61.732852   \n",
       "13        2398        0.046931           0.049976              66.425993   \n",
       "12        2398        0.036101           0.051862              70.036101   \n",
       "11        2398        0.025271           0.053277              72.563177   \n",
       "10        2398        0.043321           0.050448              76.895307   \n",
       "9         2398        0.043321           0.051391              81.227437   \n",
       "8         2398        0.050542           0.049976              86.281588   \n",
       "7         2398        0.032491           0.052334              89.530686   \n",
       "6         2398        0.021661           0.053277              91.696751   \n",
       "5         2398        0.028881           0.052805              94.584838   \n",
       "4         2398        0.007220           0.055634              95.306859   \n",
       "3         2398        0.014440           0.054691              96.750903   \n",
       "2         2398        0.003610           0.056106              97.111913   \n",
       "1         2398        0.018051           0.054220              98.916968   \n",
       "0         2398        0.010830           0.055163             100.000000   \n",
       "\n",
       "    Cummul_NonAttrition_Rate      KS  \n",
       "19                  2.734559  19.648  \n",
       "18                  7.119283  25.011  \n",
       "17                 11.786893  27.924  \n",
       "16                 16.360207  31.654  \n",
       "15                 21.027817  34.568  \n",
       "14                 25.884017  35.849  \n",
       "13                 30.881660  35.544  \n",
       "12                 36.067893  33.968  \n",
       "11                 41.395568  31.168  \n",
       "10                 46.440358  30.455  \n",
       "9                  51.579444  29.648  \n",
       "8                  56.577086  29.705  \n",
       "7                  61.810467  27.720  \n",
       "6                  67.138142  24.559  \n",
       "5                  72.418670  22.166  \n",
       "4                  77.982084  17.325  \n",
       "3                  83.451202  13.300  \n",
       "2                  89.061763   8.050  \n",
       "1                  94.483734   4.433  \n",
       "0                 100.000000   0.000  "
      ]
     },
     "execution_count": 106,
     "metadata": {},
     "output_type": "execute_result"
    }
   ],
   "source": [
    "agg4"
   ]
  },
  {
   "cell_type": "code",
   "execution_count": 107,
   "metadata": {},
   "outputs": [
    {
     "data": {
      "text/plain": [
       "<matplotlib.legend.Legend at 0x7f2ae0180c70>"
      ]
     },
     "execution_count": 107,
     "metadata": {},
     "output_type": "execute_result"
    },
    {
     "data": {
      "image/png": "[encoded data removed]",
      "text/plain": [
       "<Figure size 432x288 with 1 Axes>"
      ]
     },
     "metadata": {
      "needs_background": "light"
     },
     "output_type": "display_data"
    }
   ],
   "source": [
    "agg4['Base %'] = [5, 10, 15, 20, 25,30,35,40,45,50,55,60,65,70,75,80,85,90,95,100]\n",
    "gains = agg4.filter(['Base %','Cummul_Attrition_Rate','Cummul_NonAttrition_Rate'])\n",
    "gains_chart = gains.plot(kind='line',use_index=False)\n",
    "gains_chart.set_ylabel(\"Cumulative Percentage\",fontsize=12)\n",
    "gains_chart.set_xlabel(\"Decile\",fontsize=12)\n",
    "gains_chart.set_title(\"Gains Chart\")\n",
    "gains_chart.legend(loc='lower right')"
   ]
  },
  {
   "cell_type": "code",
   "execution_count": 108,
   "metadata": {},
   "outputs": [
    {
     "name": "stdout",
     "output_type": "stream",
     "text": [
      "Defaulting to user installation because normal site-packages is not writeable\n",
      "Requirement already satisfied: xgboost in /var/anaconda3/lib/python3.8/site-packages (1.2.0)\n",
      "Requirement already satisfied: numpy in /var/anaconda3/lib/python3.8/site-packages (from xgboost) (1.18.5)\n",
      "Requirement already satisfied: scipy in /var/anaconda3/lib/python3.8/site-packages (from xgboost) (1.5.0)\n",
      "Note: you may need to restart the kernel to use updated packages.\n"
     ]
    }
   ],
   "source": [
    "pip install xgboost"
   ]
  },
  {
   "cell_type": "markdown",
   "metadata": {},
   "source": [
    "x=X_train[rf_final_col]\n",
    "x2 = x.fillna(0)"
   ]
  },
  {
   "cell_type": "code",
   "execution_count": 109,
   "metadata": {},
   "outputs": [],
   "source": [
    "# monitor training performance\n",
    "from numpy import loadtxt\n",
    "from xgboost import XGBClassifier\n",
    "from sklearn.model_selection import train_test_split\n",
    "from sklearn.metrics import accuracy_score\n",
    "from scipy.stats import randint, uniform\n",
    "from sklearn.model_selection import RandomizedSearchCV\n",
    "from operator import itemgetter"
   ]
  },
  {
   "cell_type": "code",
   "execution_count": 114,
   "metadata": {},
   "outputs": [],
   "source": [
    "comb_col = ['Q4_3_gt_Q1_2_contacts', \n",
    "'Q4_3_gt_Q1_2_searches', \n",
    "'fast_alert_contacts', \n",
    "'slow_alert_searches', \n",
    "'sm_min_commitments', \n",
    "'sum_account_issues_12mos', \n",
    "'sum_passworkd_12mos', \n",
    "'sum_prod_support_12mos', \n",
    "#'sum_zero_usage_flag', \n",
    "'total_product', \n",
    "#'total_revenue_3mos', \n",
    "#'total_searches_9mos', \n",
    "'slow_alert_contacts', \n",
    "#'fast_alert_revenue', \n",
    "#'fast_alert_searches',            \n",
    "'sum_tech_issues_12mos', \n",
    "#'sum_zero_billing_flag', \n",
    "#'sum_active_rev_flag', \n",
    "'Q4_sm_Q1_2_3_contacts', \n",
    "'total_searches_3mos', \n",
    "'Q4_gt_Q3_searches']\n",
    "#'Q4_gt_Qt1_2_searches', \n",
    "#'price_change_Q1_Q2_alert']"
   ]
  },
  {
   "cell_type": "code",
   "execution_count": 115,
   "metadata": {},
   "outputs": [],
   "source": [
    "x=X_train[comb_col]\n",
    "x_train = x.fillna(0)"
   ]
  },
  {
   "cell_type": "code",
   "execution_count": 116,
   "metadata": {},
   "outputs": [],
   "source": [
    "\n",
    "y_train = y_train"
   ]
  },
  {
   "cell_type": "code",
   "execution_count": 117,
   "metadata": {},
   "outputs": [],
   "source": [
    "x=X_test[comb_col]\n",
    "x_test = x.fillna(0)"
   ]
  },
  {
   "cell_type": "code",
   "execution_count": 118,
   "metadata": {},
   "outputs": [
    {
     "data": {
      "text/plain": [
       "0    6419\n",
       "1     773\n",
       "Name: binary_response, dtype: int64"
      ]
     },
     "execution_count": 118,
     "metadata": {},
     "output_type": "execute_result"
    }
   ],
   "source": [
    "y_train.value_counts()"
   ]
  },
  {
   "cell_type": "code",
   "execution_count": 119,
   "metadata": {},
   "outputs": [
    {
     "data": {
      "text/plain": [
       "0    2121\n",
       "1     277\n",
       "Name: binary_response, dtype: int64"
      ]
     },
     "execution_count": 119,
     "metadata": {},
     "output_type": "execute_result"
    }
   ],
   "source": [
    "y_test.value_counts()"
   ]
  },
  {
   "cell_type": "code",
   "execution_count": 120,
   "metadata": {},
   "outputs": [],
   "source": [
    "def build_xgboost(X_train, y_train, X_test, y_test, n_iter):\n",
    "    \"\"\"\n",
    "    random search hyperparameter tuning for xgboost\n",
    "    classification task, n_iter controls the number\n",
    "    of hyperparameter combinations that it will search for\n",
    "    \"\"\"\n",
    "    # xgboost base parameter:\n",
    "    xgb_param_fixed = {        \n",
    "        # setting it to a positive value \n",
    "        # might help when class is extremely imbalanced\n",
    "        # as it makes the update more conservative\n",
    "        'max_delta_step': 1,\n",
    "            \n",
    "        # use all possible cores for training\n",
    "        'n_jobs': -1,\n",
    "        \n",
    "        # set number of estimator to a large number\n",
    "        # and the learning rate to be a small number,\n",
    "        # we'll let early stopping decide when to stop\n",
    "        'n_estimators': 300,\n",
    "        'learning_rate': 0.1}\n",
    "    xgb_base = XGBClassifier(**xgb_param_fixed)\n",
    "\n",
    "    # random search's parameter:\n",
    "    # scikit-learn's random search works with distributions; \n",
    "    # but it must provide a rvs method for sampling values from it,\n",
    "    # such as those from scipy.stats.distributions\n",
    "    # randint: discrete random variables ranging from low to high\n",
    "    # uniform: uniform continuous random variable between loc and loc + scale\n",
    "    xgb_param_options = {\n",
    "        'max_depth': randint(low = 3, high = 15),\n",
    "        'colsample_bytree': uniform(loc = 0.7, scale = 0.3),\n",
    "        'subsample': uniform(loc = 0.7, scale = 0.3)}\n",
    "    \n",
    "    eval_set = [(X_train, y_train), (X_test, y_test)]\n",
    "    xgb_fit_params = {   \n",
    "        'eval_metric': 'auc', \n",
    "        'eval_set': eval_set,\n",
    "        'early_stopping_rounds': 5,\n",
    "        'verbose': False}\n",
    "\n",
    "    model_xgb = RandomizedSearchCV(\n",
    "        estimator = xgb_base,\n",
    "        param_distributions = xgb_param_options,\n",
    "        cv = 10,   \n",
    "        \n",
    "        # number of parameter settings that are sampled\n",
    "        n_iter = n_iter,\n",
    "        \n",
    "        # n_jobs can be a parameter (since it's a fast task\n",
    "        # for this toy dataset, we'll simply we using 1 jobs)\n",
    "        n_jobs = 1,\n",
    "        verbose = 1\n",
    "    ).fit(X_train, y_train, **xgb_fit_params)\n",
    "    \n",
    "    print('Best score obtained: {0}'.format(model_xgb.best_score_))\n",
    "    print('Best Parameters:')\n",
    "    for param, value in model_xgb.best_params_.items():\n",
    "        print('\\t{}: {}'.format(param, value))\n",
    "    \n",
    "    return model_xgb.best_estimator_"
   ]
  },
  {
   "cell_type": "code",
   "execution_count": 121,
   "metadata": {},
   "outputs": [
    {
     "name": "stdout",
     "output_type": "stream",
     "text": [
      "Fitting 10 folds for each of 15 candidates, totalling 150 fits\n"
     ]
    },
    {
     "name": "stderr",
     "output_type": "stream",
     "text": [
      "[Parallel(n_jobs=1)]: Using backend SequentialBackend with 1 concurrent workers.\n"
     ]
    },
    {
     "name": "stdout",
     "output_type": "stream",
     "text": [
      "Best score obtained: 0.9086470406428682\n",
      "Best Parameters:\n",
      "\tcolsample_bytree: 0.9934230257754799\n",
      "\tmax_depth: 4\n",
      "\tsubsample: 0.828622821215685\n",
      "auc: 0.8339818252067601\n"
     ]
    },
    {
     "name": "stderr",
     "output_type": "stream",
     "text": [
      "[Parallel(n_jobs=1)]: Done 150 out of 150 | elapsed:   40.2s finished\n"
     ]
    }
   ],
   "source": [
    "import warnings\n",
    "\n",
    "# temporary fix for the issue raised in the following link,\n",
    "# will likely be removed in the next version\n",
    "# https://github.com/scikit-learn/scikit-learn/issues/10449\n",
    "warnings.filterwarnings(\n",
    "    action = 'ignore', module = 'sklearn')\n",
    "\n",
    "xgb_model = build_xgboost(x_train, y_train, x_test, y_test, n_iter = 15)\n",
    "ntree_limit = xgb_model.best_ntree_limit\n",
    "y_pred_prob = xgb_model.predict_proba(x_test, ntree_limit = ntree_limit)[:, 1]\n",
    "print('auc:', roc_auc_score(y_test, y_pred_prob))"
   ]
  },
  {
   "cell_type": "code",
   "execution_count": 122,
   "metadata": {},
   "outputs": [],
   "source": [
    "eval_set = [(x_train, y_train), (x_test, y_test)]"
   ]
  },
  {
   "cell_type": "code",
   "execution_count": 123,
   "metadata": {},
   "outputs": [],
   "source": [
    "xgb_params_fixed = {\n",
    "    'learning_rate': 0.1,\n",
    "    \n",
    "    # use 'multi:softprob' for multi-class problems\n",
    "    'objective': 'binary:logistic',\n",
    "    \n",
    "    # length of the longest path from a root to a leaf\n",
    "    'max_depth': 13,\n",
    "    \n",
    "    # subsample ratio of columns when constructing each tree\n",
    "    'colsample_bytree': 0.8327960583709925,\n",
    "    \n",
    "    # setting it to a positive value \n",
    "    # might help when class is extremely imbalanced\n",
    "    # as it makes the update more conservative\n",
    "    'max_delta_step': 1, \n",
    "    'n_estimators': 150,\n",
    "    \n",
    "    # use all possible cores for training\n",
    "    'n_jobs': -1\n",
    "}"
   ]
  },
  {
   "cell_type": "code",
   "execution_count": 124,
   "metadata": {},
   "outputs": [],
   "source": [
    "xgb_tree = XGBClassifier(**xgb_params_fixed)"
   ]
  },
  {
   "cell_type": "code",
   "execution_count": 125,
   "metadata": {},
   "outputs": [
    {
     "name": "stdout",
     "output_type": "stream",
     "text": [
      "[0]\tvalidation_0-error:0.09858\tvalidation_0-logloss:0.65433\tvalidation_0-auc:0.57257\tvalidation_1-error:0.11385\tvalidation_1-logloss:0.65572\tvalidation_1-auc:0.55328\n",
      "Multiple eval metrics have been passed: 'validation_1-auc' will be used for early stopping.\n",
      "\n",
      "Will train until validation_1-auc hasn't improved in 10 rounds.\n",
      "[10]\tvalidation_0-error:0.08315\tvalidation_0-logloss:0.37457\tvalidation_0-auc:0.85143\tvalidation_1-error:0.10092\tvalidation_1-logloss:0.39709\tvalidation_1-auc:0.78336\n",
      "[20]\tvalidation_0-error:0.07216\tvalidation_0-logloss:0.24316\tvalidation_0-auc:0.92657\tvalidation_1-error:0.10050\tvalidation_1-logloss:0.30329\tvalidation_1-auc:0.81258\n",
      "[30]\tvalidation_0-error:0.06021\tvalidation_0-logloss:0.18222\tvalidation_0-auc:0.95628\tvalidation_1-error:0.10008\tvalidation_1-logloss:0.27951\tvalidation_1-auc:0.81521\n",
      "Stopping. Best iteration:\n",
      "[25]\tvalidation_0-error:0.06688\tvalidation_0-logloss:0.20908\tvalidation_0-auc:0.94122\tvalidation_1-error:0.10175\tvalidation_1-logloss:0.28711\tvalidation_1-auc:0.81555\n",
      "\n"
     ]
    },
    {
     "data": {
      "text/plain": [
       "XGBClassifier(base_score=0.5, booster='gbtree', colsample_bylevel=1,\n",
       "              colsample_bynode=1, colsample_bytree=0.8327960583709925, gamma=0,\n",
       "              gpu_id=-1, importance_type='gain', interaction_constraints='',\n",
       "              learning_rate=0.1, max_delta_step=1, max_depth=13,\n",
       "              min_child_weight=1, missing=nan, monotone_constraints='()',\n",
       "              n_estimators=150, n_jobs=-1, num_parallel_tree=1, random_state=0,\n",
       "              reg_alpha=0, reg_lambda=1, scale_pos_weight=1, subsample=1,\n",
       "              tree_method='exact', validate_parameters=1, verbosity=None)"
      ]
     },
     "execution_count": 125,
     "metadata": {},
     "output_type": "execute_result"
    }
   ],
   "source": [
    "#xgb_tree = xgb_tree.fit(x_train, y_train,eval_metric=[\"error\", \"logloss\", \"auc\"], eval_set=eval_set, verbose=True)\n",
    "#xgb_tree.fit(x_train, y_train,eval_metric=[\"error\", \"logloss\", \"auc\"], eval_set=eval_set, verbose = False)\n",
    "xgb_tree.fit(x_train, y_train,eval_metric=[\"error\", \"logloss\", \"auc\"], eval_set=eval_set,early_stopping_rounds = 10, verbose = 10)"
   ]
  },
  {
   "cell_type": "code",
   "execution_count": 126,
   "metadata": {},
   "outputs": [],
   "source": [
    "def plot_xgboost_importance(xgb_tree, feature_names, threshold = 5):\n",
    "    \"\"\"\n",
    "    Improvements on xgboost's plot_importance function, where \n",
    "    1. the importance are scaled relative to the max importance, and \n",
    "    number that are below 5% of the max importance will be chopped off\n",
    "    2. we need to supply the actual feature name so the label won't \n",
    "    just show up as feature 1, feature 2, which are not very interpretable\n",
    "    \n",
    "    returns the important features's index sorted in descending order\n",
    "    \"\"\"\n",
    "    # convert from dictionary to tuples and sort by the\n",
    "    # importance score in ascending order for plotting purpose\n",
    "    importance = xgb_tree.get_booster().get_score(importance_type = 'gain')\n",
    "    #tuples = [(int(k[1:]), importance[k]) for k in importance]\n",
    "    #tuples = sorted(tuples, key = itemgetter(1))\n",
    "    labels, values = list(importance.keys()), list(importance.values())\n",
    "\n",
    "    # make importances relative to max importance,\n",
    "    # and filter out those that have smaller than 5%\n",
    "    # relative importance (threshold chosen arbitrarily)\n",
    "    labels, values = np.asarray(labels), np.asarray(values)\n",
    "    values = np.round(100 * values / np.max(values), 2)\n",
    "    mask = values > threshold\n",
    "    labels, values = labels[mask], values[mask]\n",
    "    feature_labels =labels\n",
    "    \n",
    "    ylocs = np.arange(values.shape[0])\n",
    "    plt.barh(ylocs, values, align = 'center')\n",
    "    for x, y in zip(values, ylocs):\n",
    "        plt.text(x + 1, y, x, va = 'center')\n",
    "\n",
    "    plt.ylabel('Features')\n",
    "    plt.xlabel('Relative Importance Score')\n",
    "    plt.title('Feature Importance Score')\n",
    "    plt.xlim([0, 110])\n",
    "    plt.yticks(ylocs, feature_labels)\n",
    "    \n",
    "    # revert the ordering of the importance\n",
    "    return labels[::-1]\n"
   ]
  },
  {
   "cell_type": "code",
   "execution_count": 127,
   "metadata": {},
   "outputs": [
    {
     "data": {
      "text/plain": [
       "array(['Q4_3_gt_Q1_2_contacts', 'sum_prod_support_12mos',\n",
       "       'slow_alert_searches', 'total_searches_3mos',\n",
       "       'fast_alert_contacts', 'sum_tech_issues_12mos',\n",
       "       'sum_passworkd_12mos', 'total_product', 'Q4_sm_Q1_2_3_contacts',\n",
       "       'Q4_gt_Q3_searches', 'Q4_3_gt_Q1_2_searches',\n",
       "       'sum_account_issues_12mos', 'sm_min_commitments',\n",
       "       'slow_alert_contacts'], dtype='<U24')"
      ]
     },
     "execution_count": 127,
     "metadata": {},
     "output_type": "execute_result"
    },
    {
     "data": {
      "image/png": "[encoded data removed]",
      "text/plain": [
       "<Figure size 432x288 with 1 Axes>"
      ]
     },
     "metadata": {
      "needs_background": "light"
     },
     "output_type": "display_data"
    }
   ],
   "source": [
    "feature_names = np.arange(x_train.shape[1])\n",
    "plot_xgboost_importance(xgb_tree = xgb_tree, feature_names = feature_names)"
   ]
  },
  {
   "cell_type": "markdown",
   "metadata": {},
   "source": [
    "def misclassified(y_pred, y_true):\n",
    "    \"\"\"\n",
    "    custom evaluation metric for xgboost, the metric\n",
    "    counts the number of misclassified examples assuming \n",
    "    that classes with p>0.5 are positive\n",
    "    \"\"\"\n",
    "    labels = y_true.get_label() # obtain true labels\n",
    "    preds = y_pred > 0.5 # obtain predicted values\n",
    "    return 'misclassified', np.sum(labels != preds)\n",
    "\n",
    "\n",
    "xgb_tree.fit(x_train, y_train, \n",
    "              eval_metric = misclassified, eval_set = eval_set,\n",
    "              early_stopping_rounds = 5, verbose = 10)\n",
    "\n",
    "ntree_limit = xgb_tree.best_ntree_limit\n",
    "y_pred_prob = xgb_tree.predict_proba(x_test, ntree_limit = ntree_limit)[:, 1]\n",
    "print('auc:', roc_auc_score(y_test, y_pred_prob))"
   ]
  },
  {
   "cell_type": "code",
   "execution_count": 128,
   "metadata": {},
   "outputs": [],
   "source": [
    "# make predictions for test data\n",
    "y_pred = xgb_tree.predict_proba(x_test, ntree_limit = ntree_limit)[:, 1]"
   ]
  },
  {
   "cell_type": "code",
   "execution_count": 129,
   "metadata": {},
   "outputs": [],
   "source": [
    "predictions = [round(value) for value in y_pred]"
   ]
  },
  {
   "cell_type": "code",
   "execution_count": 130,
   "metadata": {},
   "outputs": [
    {
     "name": "stdout",
     "output_type": "stream",
     "text": [
      "Accuracy: 89.87%\n"
     ]
    }
   ],
   "source": [
    "# evaluate predictions\n",
    "accuracy = accuracy_score(y_test, predictions)\n",
    "print(\"Accuracy: %.2f%%\" % (accuracy * 100.0))"
   ]
  },
  {
   "cell_type": "markdown",
   "metadata": {},
   "source": [
    "def rsquared(y_pred, y_true):\n",
    "    \"\"\"rsquared evaluation metric for xgboost's regression\"\"\"\n",
    "    labels = y_true.get_label()\n",
    "    sse = np.sum((labels - y_pred) ** 2)\n",
    "    sst = np.sum((labels - np.mean(labels)) ** 2)\n",
    "    rsquared = 1 - sse / sst\n",
    "\n",
    "    # note that the documentation says the \n",
    "    # objective function is minimized, thus\n",
    "    # we take the negative sign of rsquared\n",
    "    return 'r2', -rsquared"
   ]
  },
  {
   "cell_type": "markdown",
   "metadata": {},
   "source": [
    "xgb_tree.fit(x_train, y_train, \n",
    "              eval_metric = rsquared, eval_set = eval_set,\n",
    "              early_stopping_rounds = 5, verbose = 10)\n",
    "\n",
    "ntree_limit = xgb_tree.best_ntree_limit\n",
    "y_pred_prob = xgb_tree.predict_proba(x_test, ntree_limit = ntree_limit)[:, 1]\n",
    "print('auc:', roc_auc_score(y_test, y_pred_prob))"
   ]
  },
  {
   "cell_type": "markdown",
   "metadata": {},
   "source": [
    "results = xgb_tree.evals_result()\n",
    "print(results)"
   ]
  },
  {
   "cell_type": "code",
   "execution_count": 131,
   "metadata": {},
   "outputs": [],
   "source": [
    "from matplotlib import pyplot"
   ]
  },
  {
   "cell_type": "code",
   "execution_count": 132,
   "metadata": {},
   "outputs": [
    {
     "data": {
      "image/png": "[encoded data removed]",
      "text/plain": [
       "<Figure size 432x288 with 1 Axes>"
      ]
     },
     "metadata": {
      "needs_background": "light"
     },
     "output_type": "display_data"
    },
    {
     "data": {
      "image/png": "[encoded data removed]",
      "text/plain": [
       "<Figure size 432x288 with 1 Axes>"
      ]
     },
     "metadata": {
      "needs_background": "light"
     },
     "output_type": "display_data"
    },
    {
     "data": {
      "image/png": "[encoded data removed]",
      "text/plain": [
       "<Figure size 432x288 with 1 Axes>"
      ]
     },
     "metadata": {
      "needs_background": "light"
     },
     "output_type": "display_data"
    }
   ],
   "source": [
    "# retrieve performance metrics\n",
    "#xgb_tree.fit(x_train, y_train,eval_metric=[\"error\", \"logloss\", \"auc\"], eval_set=eval_set,early_stopping_rounds = 10, verbose = 10)\n",
    "#xgb_tree = xgb_tree.fit(x_train, y_train,eval_metric=[\"error\", \"logloss\", \"auc\"], eval_set=eval_set, verbose=True)\n",
    "xgb_tree.fit(x_train, y_train,eval_metric=[\"error\", \"logloss\", \"auc\"], eval_set=eval_set, verbose = False)\n",
    "results = xgb_tree.evals_result()\n",
    "epochs = len(results['validation_0']['error'])\n",
    "x_axis = range(0, epochs)\n",
    "# plot log loss\n",
    "fig, ax = pyplot.subplots()\n",
    "ax.plot(x_axis, results['validation_0']['logloss'], label='Train')\n",
    "ax.plot(x_axis, results['validation_1']['logloss'], label='Test')\n",
    "ax.legend()\n",
    "pyplot.ylabel('Log Loss')\n",
    "pyplot.title('XGBoost Log Loss')\n",
    "pyplot.show()\n",
    "# plot classification error\n",
    "fig, ax = pyplot.subplots()\n",
    "ax.plot(x_axis, results['validation_0']['error'], label='Train')\n",
    "ax.plot(x_axis, results['validation_1']['error'], label='Test')\n",
    "ax.legend()\n",
    "pyplot.ylabel('Classification Error')\n",
    "pyplot.title('XGBoost Classification Error')\n",
    "pyplot.show()\n",
    "\n",
    "# plot AUC\n",
    "fig, ax = pyplot.subplots()\n",
    "ax.plot(x_axis, results['validation_0']['auc'], label='Train')\n",
    "ax.plot(x_axis, results['validation_1']['auc'], label='Test')\n",
    "ax.legend()\n",
    "pyplot.ylabel('Classification AUC')\n",
    "pyplot.title('XGBoost Classification AUC')\n",
    "pyplot.show()"
   ]
  },
  {
   "cell_type": "code",
   "execution_count": 133,
   "metadata": {},
   "outputs": [],
   "source": [
    "### chec the model performance"
   ]
  },
  {
   "cell_type": "code",
   "execution_count": 134,
   "metadata": {},
   "outputs": [],
   "source": [
    "#First getting my output predicted dataset of the test\n",
    "X_test_predicted = xgb_tree.predict_proba(x_test, ntree_limit = ntree_limit)[:, 1]"
   ]
  },
  {
   "cell_type": "code",
   "execution_count": 135,
   "metadata": {},
   "outputs": [],
   "source": [
    "X_test_predicted = pd.DataFrame(X_test_predicted)"
   ]
  },
  {
   "cell_type": "code",
   "execution_count": 136,
   "metadata": {},
   "outputs": [
    {
     "data": {
      "text/html": [
       "<div>\n",
       "<style scoped>\n",
       "    .dataframe tbody tr th:only-of-type {\n",
       "        vertical-align: middle;\n",
       "    }\n",
       "\n",
       "    .dataframe tbody tr th {\n",
       "        vertical-align: top;\n",
       "    }\n",
       "\n",
       "    .dataframe thead th {\n",
       "        text-align: right;\n",
       "    }\n",
       "</style>\n",
       "<table border=\"1\" class=\"dataframe\">\n",
       "  <thead>\n",
       "    <tr style=\"text-align: right;\">\n",
       "      <th></th>\n",
       "      <th>0</th>\n",
       "    </tr>\n",
       "  </thead>\n",
       "  <tbody>\n",
       "    <tr>\n",
       "      <th>0</th>\n",
       "      <td>0.088781</td>\n",
       "    </tr>\n",
       "    <tr>\n",
       "      <th>1</th>\n",
       "      <td>0.078051</td>\n",
       "    </tr>\n",
       "    <tr>\n",
       "      <th>2</th>\n",
       "      <td>0.080998</td>\n",
       "    </tr>\n",
       "    <tr>\n",
       "      <th>3</th>\n",
       "      <td>0.094138</td>\n",
       "    </tr>\n",
       "    <tr>\n",
       "      <th>4</th>\n",
       "      <td>0.122728</td>\n",
       "    </tr>\n",
       "    <tr>\n",
       "      <th>...</th>\n",
       "      <td>...</td>\n",
       "    </tr>\n",
       "    <tr>\n",
       "      <th>2393</th>\n",
       "      <td>0.179737</td>\n",
       "    </tr>\n",
       "    <tr>\n",
       "      <th>2394</th>\n",
       "      <td>0.084607</td>\n",
       "    </tr>\n",
       "    <tr>\n",
       "      <th>2395</th>\n",
       "      <td>0.238519</td>\n",
       "    </tr>\n",
       "    <tr>\n",
       "      <th>2396</th>\n",
       "      <td>0.093296</td>\n",
       "    </tr>\n",
       "    <tr>\n",
       "      <th>2397</th>\n",
       "      <td>0.338420</td>\n",
       "    </tr>\n",
       "  </tbody>\n",
       "</table>\n",
       "<p>2398 rows × 1 columns</p>\n",
       "</div>"
      ],
      "text/plain": [
       "             0\n",
       "0     0.088781\n",
       "1     0.078051\n",
       "2     0.080998\n",
       "3     0.094138\n",
       "4     0.122728\n",
       "...        ...\n",
       "2393  0.179737\n",
       "2394  0.084607\n",
       "2395  0.238519\n",
       "2396  0.093296\n",
       "2397  0.338420\n",
       "\n",
       "[2398 rows x 1 columns]"
      ]
     },
     "execution_count": 136,
     "metadata": {},
     "output_type": "execute_result"
    }
   ],
   "source": [
    "X_test_predicted"
   ]
  },
  {
   "cell_type": "code",
   "execution_count": 137,
   "metadata": {},
   "outputs": [],
   "source": [
    "y_test2 = y_test.reset_index()"
   ]
  },
  {
   "cell_type": "code",
   "execution_count": 138,
   "metadata": {},
   "outputs": [
    {
     "data": {
      "text/html": [
       "<div>\n",
       "<style scoped>\n",
       "    .dataframe tbody tr th:only-of-type {\n",
       "        vertical-align: middle;\n",
       "    }\n",
       "\n",
       "    .dataframe tbody tr th {\n",
       "        vertical-align: top;\n",
       "    }\n",
       "\n",
       "    .dataframe thead th {\n",
       "        text-align: right;\n",
       "    }\n",
       "</style>\n",
       "<table border=\"1\" class=\"dataframe\">\n",
       "  <thead>\n",
       "    <tr style=\"text-align: right;\">\n",
       "      <th></th>\n",
       "      <th>customer_account_sk</th>\n",
       "      <th>binary_response</th>\n",
       "    </tr>\n",
       "  </thead>\n",
       "  <tbody>\n",
       "    <tr>\n",
       "      <th>0</th>\n",
       "      <td>262141</td>\n",
       "      <td>0</td>\n",
       "    </tr>\n",
       "    <tr>\n",
       "      <th>1</th>\n",
       "      <td>1475482</td>\n",
       "      <td>0</td>\n",
       "    </tr>\n",
       "    <tr>\n",
       "      <th>2</th>\n",
       "      <td>68706</td>\n",
       "      <td>0</td>\n",
       "    </tr>\n",
       "    <tr>\n",
       "      <th>3</th>\n",
       "      <td>170316</td>\n",
       "      <td>0</td>\n",
       "    </tr>\n",
       "    <tr>\n",
       "      <th>4</th>\n",
       "      <td>136457</td>\n",
       "      <td>0</td>\n",
       "    </tr>\n",
       "    <tr>\n",
       "      <th>...</th>\n",
       "      <td>...</td>\n",
       "      <td>...</td>\n",
       "    </tr>\n",
       "    <tr>\n",
       "      <th>2393</th>\n",
       "      <td>164945</td>\n",
       "      <td>0</td>\n",
       "    </tr>\n",
       "    <tr>\n",
       "      <th>2394</th>\n",
       "      <td>961029</td>\n",
       "      <td>0</td>\n",
       "    </tr>\n",
       "    <tr>\n",
       "      <th>2395</th>\n",
       "      <td>75703</td>\n",
       "      <td>0</td>\n",
       "    </tr>\n",
       "    <tr>\n",
       "      <th>2396</th>\n",
       "      <td>924992</td>\n",
       "      <td>1</td>\n",
       "    </tr>\n",
       "    <tr>\n",
       "      <th>2397</th>\n",
       "      <td>259738</td>\n",
       "      <td>0</td>\n",
       "    </tr>\n",
       "  </tbody>\n",
       "</table>\n",
       "<p>2398 rows × 2 columns</p>\n",
       "</div>"
      ],
      "text/plain": [
       "      customer_account_sk  binary_response\n",
       "0                  262141                0\n",
       "1                 1475482                0\n",
       "2                   68706                0\n",
       "3                  170316                0\n",
       "4                  136457                0\n",
       "...                   ...              ...\n",
       "2393               164945                0\n",
       "2394               961029                0\n",
       "2395                75703                0\n",
       "2396               924992                1\n",
       "2397               259738                0\n",
       "\n",
       "[2398 rows x 2 columns]"
      ]
     },
     "execution_count": 138,
     "metadata": {},
     "output_type": "execute_result"
    }
   ],
   "source": [
    "y_test2"
   ]
  },
  {
   "cell_type": "code",
   "execution_count": 139,
   "metadata": {},
   "outputs": [
    {
     "data": {
      "text/plain": [
       "(2398, 14)"
      ]
     },
     "execution_count": 139,
     "metadata": {},
     "output_type": "execute_result"
    }
   ],
   "source": [
    "x_test.shape"
   ]
  },
  {
   "cell_type": "code",
   "execution_count": 140,
   "metadata": {},
   "outputs": [
    {
     "data": {
      "text/plain": [
       "(2398, 2)"
      ]
     },
     "execution_count": 140,
     "metadata": {},
     "output_type": "execute_result"
    }
   ],
   "source": [
    "y_test2.shape"
   ]
  },
  {
   "cell_type": "code",
   "execution_count": 141,
   "metadata": {},
   "outputs": [],
   "source": [
    "frames = [X_test_predicted, y_test2]"
   ]
  },
  {
   "cell_type": "code",
   "execution_count": 142,
   "metadata": {},
   "outputs": [],
   "source": [
    "xgboost_output = pd.concat(frames,axis=1, sort=False)"
   ]
  },
  {
   "cell_type": "code",
   "execution_count": 143,
   "metadata": {},
   "outputs": [
    {
     "data": {
      "text/html": [
       "<div>\n",
       "<style scoped>\n",
       "    .dataframe tbody tr th:only-of-type {\n",
       "        vertical-align: middle;\n",
       "    }\n",
       "\n",
       "    .dataframe tbody tr th {\n",
       "        vertical-align: top;\n",
       "    }\n",
       "\n",
       "    .dataframe thead th {\n",
       "        text-align: right;\n",
       "    }\n",
       "</style>\n",
       "<table border=\"1\" class=\"dataframe\">\n",
       "  <thead>\n",
       "    <tr style=\"text-align: right;\">\n",
       "      <th></th>\n",
       "      <th>0</th>\n",
       "      <th>customer_account_sk</th>\n",
       "      <th>binary_response</th>\n",
       "    </tr>\n",
       "  </thead>\n",
       "  <tbody>\n",
       "    <tr>\n",
       "      <th>0</th>\n",
       "      <td>0.088781</td>\n",
       "      <td>262141</td>\n",
       "      <td>0</td>\n",
       "    </tr>\n",
       "    <tr>\n",
       "      <th>1</th>\n",
       "      <td>0.078051</td>\n",
       "      <td>1475482</td>\n",
       "      <td>0</td>\n",
       "    </tr>\n",
       "    <tr>\n",
       "      <th>2</th>\n",
       "      <td>0.080998</td>\n",
       "      <td>68706</td>\n",
       "      <td>0</td>\n",
       "    </tr>\n",
       "    <tr>\n",
       "      <th>3</th>\n",
       "      <td>0.094138</td>\n",
       "      <td>170316</td>\n",
       "      <td>0</td>\n",
       "    </tr>\n",
       "    <tr>\n",
       "      <th>4</th>\n",
       "      <td>0.122728</td>\n",
       "      <td>136457</td>\n",
       "      <td>0</td>\n",
       "    </tr>\n",
       "    <tr>\n",
       "      <th>...</th>\n",
       "      <td>...</td>\n",
       "      <td>...</td>\n",
       "      <td>...</td>\n",
       "    </tr>\n",
       "    <tr>\n",
       "      <th>2393</th>\n",
       "      <td>0.179737</td>\n",
       "      <td>164945</td>\n",
       "      <td>0</td>\n",
       "    </tr>\n",
       "    <tr>\n",
       "      <th>2394</th>\n",
       "      <td>0.084607</td>\n",
       "      <td>961029</td>\n",
       "      <td>0</td>\n",
       "    </tr>\n",
       "    <tr>\n",
       "      <th>2395</th>\n",
       "      <td>0.238519</td>\n",
       "      <td>75703</td>\n",
       "      <td>0</td>\n",
       "    </tr>\n",
       "    <tr>\n",
       "      <th>2396</th>\n",
       "      <td>0.093296</td>\n",
       "      <td>924992</td>\n",
       "      <td>1</td>\n",
       "    </tr>\n",
       "    <tr>\n",
       "      <th>2397</th>\n",
       "      <td>0.338420</td>\n",
       "      <td>259738</td>\n",
       "      <td>0</td>\n",
       "    </tr>\n",
       "  </tbody>\n",
       "</table>\n",
       "<p>2398 rows × 3 columns</p>\n",
       "</div>"
      ],
      "text/plain": [
       "             0  customer_account_sk  binary_response\n",
       "0     0.088781               262141                0\n",
       "1     0.078051              1475482                0\n",
       "2     0.080998                68706                0\n",
       "3     0.094138               170316                0\n",
       "4     0.122728               136457                0\n",
       "...        ...                  ...              ...\n",
       "2393  0.179737               164945                0\n",
       "2394  0.084607               961029                0\n",
       "2395  0.238519                75703                0\n",
       "2396  0.093296               924992                1\n",
       "2397  0.338420               259738                0\n",
       "\n",
       "[2398 rows x 3 columns]"
      ]
     },
     "execution_count": 143,
     "metadata": {},
     "output_type": "execute_result"
    }
   ],
   "source": [
    "xgboost_output"
   ]
  },
  {
   "cell_type": "code",
   "execution_count": 144,
   "metadata": {},
   "outputs": [],
   "source": [
    "xgboost_output.columns = ['predicted_score','customer_account_sk', 'binary_response']"
   ]
  },
  {
   "cell_type": "code",
   "execution_count": 145,
   "metadata": {},
   "outputs": [
    {
     "data": {
      "text/html": [
       "<div>\n",
       "<style scoped>\n",
       "    .dataframe tbody tr th:only-of-type {\n",
       "        vertical-align: middle;\n",
       "    }\n",
       "\n",
       "    .dataframe tbody tr th {\n",
       "        vertical-align: top;\n",
       "    }\n",
       "\n",
       "    .dataframe thead th {\n",
       "        text-align: right;\n",
       "    }\n",
       "</style>\n",
       "<table border=\"1\" class=\"dataframe\">\n",
       "  <thead>\n",
       "    <tr style=\"text-align: right;\">\n",
       "      <th></th>\n",
       "      <th>predicted_score</th>\n",
       "      <th>customer_account_sk</th>\n",
       "      <th>binary_response</th>\n",
       "    </tr>\n",
       "  </thead>\n",
       "  <tbody>\n",
       "    <tr>\n",
       "      <th>0</th>\n",
       "      <td>0.088781</td>\n",
       "      <td>262141</td>\n",
       "      <td>0</td>\n",
       "    </tr>\n",
       "    <tr>\n",
       "      <th>1</th>\n",
       "      <td>0.078051</td>\n",
       "      <td>1475482</td>\n",
       "      <td>0</td>\n",
       "    </tr>\n",
       "    <tr>\n",
       "      <th>2</th>\n",
       "      <td>0.080998</td>\n",
       "      <td>68706</td>\n",
       "      <td>0</td>\n",
       "    </tr>\n",
       "    <tr>\n",
       "      <th>3</th>\n",
       "      <td>0.094138</td>\n",
       "      <td>170316</td>\n",
       "      <td>0</td>\n",
       "    </tr>\n",
       "    <tr>\n",
       "      <th>4</th>\n",
       "      <td>0.122728</td>\n",
       "      <td>136457</td>\n",
       "      <td>0</td>\n",
       "    </tr>\n",
       "  </tbody>\n",
       "</table>\n",
       "</div>"
      ],
      "text/plain": [
       "   predicted_score  customer_account_sk  binary_response\n",
       "0         0.088781               262141                0\n",
       "1         0.078051              1475482                0\n",
       "2         0.080998                68706                0\n",
       "3         0.094138               170316                0\n",
       "4         0.122728               136457                0"
      ]
     },
     "execution_count": 145,
     "metadata": {},
     "output_type": "execute_result"
    }
   ],
   "source": [
    "xgboost_output.head()"
   ]
  },
  {
   "cell_type": "code",
   "execution_count": 146,
   "metadata": {},
   "outputs": [],
   "source": [
    "xgboost_output['nonattritor'] = 1 - xgboost_output.binary_response"
   ]
  },
  {
   "cell_type": "code",
   "execution_count": 147,
   "metadata": {},
   "outputs": [],
   "source": [
    "xgboost_output['bucket'] = pd.qcut(xgboost_output.predicted_score, 20)"
   ]
  },
  {
   "cell_type": "code",
   "execution_count": 148,
   "metadata": {},
   "outputs": [],
   "source": [
    "xgboost_output_min = xgboost_output.groupby(['bucket']).predicted_score.min().reset_index(name=\"Minimum_Predicted_Score\")\n",
    "xgboost_output_max = xgboost_output.groupby(['bucket']).predicted_score.max().reset_index(name=\"Maximum_Predicted_Score\")\n",
    "xgboost_output_attr = xgboost_output.groupby(['bucket']).binary_response.sum().reset_index(name=\"Num_Attritors\")\n",
    "xgboost_output_attr['Total_Attritors'] = xgboost_output_attr.Num_Attritors.sum()\n",
    "xgboost_output_nonattr = xgboost_output.groupby(['bucket']).nonattritor.sum().reset_index(name=\"Num_Non_Attritors\")\n",
    "xgboost_output_nonattr['Total_Non_Attritors'] = xgboost_output_nonattr.Num_Non_Attritors.sum()"
   ]
  },
  {
   "cell_type": "code",
   "execution_count": 149,
   "metadata": {},
   "outputs": [],
   "source": [
    "agg5 = pd.merge(xgboost_output_attr, xgboost_output_nonattr, on='bucket', how = 'outer')\n",
    "agg6 = pd.merge(agg5, xgboost_output_min, on='bucket', how = 'outer')\n",
    "agg7 = pd.merge(agg6, xgboost_output_max, on='bucket', how = 'outer')\n",
    "agg7 = agg7.assign(Total_cust = agg5.Total_Attritors + agg5.Total_Non_Attritors) \n",
    "agg7['Attrition_Rate'] = agg7.Num_Attritors / agg7.Total_Attritors\n",
    "agg7['NonAttrition_Rate'] = agg7.Num_Non_Attritors / agg7.Total_Non_Attritors\n",
    "agg8 = agg7.sort_values(by='Minimum_Predicted_Score', ascending=False)\n",
    "agg8['Cummul_Attrition_Rate']=(agg8.Attrition_Rate.cumsum()) * 100\n",
    "agg8['Cummul_NonAttrition_Rate']=(agg8.NonAttrition_Rate.cumsum()) * 100"
   ]
  },
  {
   "cell_type": "code",
   "execution_count": 150,
   "metadata": {},
   "outputs": [],
   "source": [
    "agg8['KS'] = np.round(agg8['Cummul_Attrition_Rate']-agg8['Cummul_NonAttrition_Rate'], 3)\n",
    "Max_KS = agg8.KS.max()"
   ]
  },
  {
   "cell_type": "code",
   "execution_count": 151,
   "metadata": {},
   "outputs": [
    {
     "data": {
      "text/plain": [
       "46.898"
      ]
     },
     "execution_count": 151,
     "metadata": {},
     "output_type": "execute_result"
    }
   ],
   "source": [
    "Max_KS"
   ]
  },
  {
   "cell_type": "code",
   "execution_count": 152,
   "metadata": {},
   "outputs": [
    {
     "data": {
      "text/html": [
       "<div>\n",
       "<style scoped>\n",
       "    .dataframe tbody tr th:only-of-type {\n",
       "        vertical-align: middle;\n",
       "    }\n",
       "\n",
       "    .dataframe tbody tr th {\n",
       "        vertical-align: top;\n",
       "    }\n",
       "\n",
       "    .dataframe thead th {\n",
       "        text-align: right;\n",
       "    }\n",
       "</style>\n",
       "<table border=\"1\" class=\"dataframe\">\n",
       "  <thead>\n",
       "    <tr style=\"text-align: right;\">\n",
       "      <th></th>\n",
       "      <th>bucket</th>\n",
       "      <th>Num_Attritors</th>\n",
       "      <th>Total_Attritors</th>\n",
       "      <th>Num_Non_Attritors</th>\n",
       "      <th>Total_Non_Attritors</th>\n",
       "      <th>Minimum_Predicted_Score</th>\n",
       "      <th>Maximum_Predicted_Score</th>\n",
       "      <th>Total_cust</th>\n",
       "      <th>Attrition_Rate</th>\n",
       "      <th>NonAttrition_Rate</th>\n",
       "      <th>Cummul_Attrition_Rate</th>\n",
       "      <th>Cummul_NonAttrition_Rate</th>\n",
       "      <th>KS</th>\n",
       "    </tr>\n",
       "  </thead>\n",
       "  <tbody>\n",
       "    <tr>\n",
       "      <th>19</th>\n",
       "      <td>(0.414, 0.91]</td>\n",
       "      <td>80</td>\n",
       "      <td>277</td>\n",
       "      <td>40</td>\n",
       "      <td>2121</td>\n",
       "      <td>0.416642</td>\n",
       "      <td>0.910405</td>\n",
       "      <td>2398</td>\n",
       "      <td>0.288809</td>\n",
       "      <td>0.018859</td>\n",
       "      <td>28.880866</td>\n",
       "      <td>1.885903</td>\n",
       "      <td>26.995</td>\n",
       "    </tr>\n",
       "    <tr>\n",
       "      <th>18</th>\n",
       "      <td>(0.288, 0.414]</td>\n",
       "      <td>44</td>\n",
       "      <td>277</td>\n",
       "      <td>76</td>\n",
       "      <td>2121</td>\n",
       "      <td>0.288858</td>\n",
       "      <td>0.413798</td>\n",
       "      <td>2398</td>\n",
       "      <td>0.158845</td>\n",
       "      <td>0.035832</td>\n",
       "      <td>44.765343</td>\n",
       "      <td>5.469118</td>\n",
       "      <td>39.296</td>\n",
       "    </tr>\n",
       "    <tr>\n",
       "      <th>17</th>\n",
       "      <td>(0.214, 0.288]</td>\n",
       "      <td>23</td>\n",
       "      <td>277</td>\n",
       "      <td>97</td>\n",
       "      <td>2121</td>\n",
       "      <td>0.214701</td>\n",
       "      <td>0.287565</td>\n",
       "      <td>2398</td>\n",
       "      <td>0.083032</td>\n",
       "      <td>0.045733</td>\n",
       "      <td>53.068592</td>\n",
       "      <td>10.042433</td>\n",
       "      <td>43.026</td>\n",
       "    </tr>\n",
       "    <tr>\n",
       "      <th>16</th>\n",
       "      <td>(0.172, 0.214]</td>\n",
       "      <td>23</td>\n",
       "      <td>277</td>\n",
       "      <td>94</td>\n",
       "      <td>2121</td>\n",
       "      <td>0.171793</td>\n",
       "      <td>0.214306</td>\n",
       "      <td>2398</td>\n",
       "      <td>0.083032</td>\n",
       "      <td>0.044319</td>\n",
       "      <td>61.371841</td>\n",
       "      <td>14.474305</td>\n",
       "      <td>46.898</td>\n",
       "    </tr>\n",
       "    <tr>\n",
       "      <th>15</th>\n",
       "      <td>(0.147, 0.172]</td>\n",
       "      <td>12</td>\n",
       "      <td>277</td>\n",
       "      <td>111</td>\n",
       "      <td>2121</td>\n",
       "      <td>0.147014</td>\n",
       "      <td>0.171772</td>\n",
       "      <td>2398</td>\n",
       "      <td>0.043321</td>\n",
       "      <td>0.052334</td>\n",
       "      <td>65.703971</td>\n",
       "      <td>19.707685</td>\n",
       "      <td>45.996</td>\n",
       "    </tr>\n",
       "    <tr>\n",
       "      <th>14</th>\n",
       "      <td>(0.133, 0.147]</td>\n",
       "      <td>14</td>\n",
       "      <td>277</td>\n",
       "      <td>106</td>\n",
       "      <td>2121</td>\n",
       "      <td>0.133309</td>\n",
       "      <td>0.147009</td>\n",
       "      <td>2398</td>\n",
       "      <td>0.050542</td>\n",
       "      <td>0.049976</td>\n",
       "      <td>70.758123</td>\n",
       "      <td>24.705328</td>\n",
       "      <td>46.053</td>\n",
       "    </tr>\n",
       "    <tr>\n",
       "      <th>13</th>\n",
       "      <td>(0.12, 0.133]</td>\n",
       "      <td>8</td>\n",
       "      <td>277</td>\n",
       "      <td>111</td>\n",
       "      <td>2121</td>\n",
       "      <td>0.120273</td>\n",
       "      <td>0.132761</td>\n",
       "      <td>2398</td>\n",
       "      <td>0.028881</td>\n",
       "      <td>0.052334</td>\n",
       "      <td>73.646209</td>\n",
       "      <td>29.938708</td>\n",
       "      <td>43.708</td>\n",
       "    </tr>\n",
       "    <tr>\n",
       "      <th>12</th>\n",
       "      <td>(0.109, 0.12]</td>\n",
       "      <td>10</td>\n",
       "      <td>277</td>\n",
       "      <td>110</td>\n",
       "      <td>2121</td>\n",
       "      <td>0.109392</td>\n",
       "      <td>0.120256</td>\n",
       "      <td>2398</td>\n",
       "      <td>0.036101</td>\n",
       "      <td>0.051862</td>\n",
       "      <td>77.256318</td>\n",
       "      <td>35.124941</td>\n",
       "      <td>42.131</td>\n",
       "    </tr>\n",
       "    <tr>\n",
       "      <th>11</th>\n",
       "      <td>(0.102, 0.109]</td>\n",
       "      <td>11</td>\n",
       "      <td>277</td>\n",
       "      <td>109</td>\n",
       "      <td>2121</td>\n",
       "      <td>0.101696</td>\n",
       "      <td>0.109363</td>\n",
       "      <td>2398</td>\n",
       "      <td>0.039711</td>\n",
       "      <td>0.051391</td>\n",
       "      <td>81.227437</td>\n",
       "      <td>40.264026</td>\n",
       "      <td>40.963</td>\n",
       "    </tr>\n",
       "    <tr>\n",
       "      <th>10</th>\n",
       "      <td>(0.0958, 0.102]</td>\n",
       "      <td>9</td>\n",
       "      <td>277</td>\n",
       "      <td>111</td>\n",
       "      <td>2121</td>\n",
       "      <td>0.095777</td>\n",
       "      <td>0.101678</td>\n",
       "      <td>2398</td>\n",
       "      <td>0.032491</td>\n",
       "      <td>0.052334</td>\n",
       "      <td>84.476534</td>\n",
       "      <td>45.497407</td>\n",
       "      <td>38.979</td>\n",
       "    </tr>\n",
       "    <tr>\n",
       "      <th>9</th>\n",
       "      <td>(0.0908, 0.0958]</td>\n",
       "      <td>15</td>\n",
       "      <td>277</td>\n",
       "      <td>105</td>\n",
       "      <td>2121</td>\n",
       "      <td>0.090847</td>\n",
       "      <td>0.095776</td>\n",
       "      <td>2398</td>\n",
       "      <td>0.054152</td>\n",
       "      <td>0.049505</td>\n",
       "      <td>89.891697</td>\n",
       "      <td>50.447902</td>\n",
       "      <td>39.444</td>\n",
       "    </tr>\n",
       "    <tr>\n",
       "      <th>8</th>\n",
       "      <td>(0.0871, 0.0908]</td>\n",
       "      <td>7</td>\n",
       "      <td>277</td>\n",
       "      <td>112</td>\n",
       "      <td>2121</td>\n",
       "      <td>0.087227</td>\n",
       "      <td>0.090783</td>\n",
       "      <td>2398</td>\n",
       "      <td>0.025271</td>\n",
       "      <td>0.052805</td>\n",
       "      <td>92.418773</td>\n",
       "      <td>55.728430</td>\n",
       "      <td>36.690</td>\n",
       "    </tr>\n",
       "    <tr>\n",
       "      <th>7</th>\n",
       "      <td>(0.0841, 0.0871]</td>\n",
       "      <td>3</td>\n",
       "      <td>277</td>\n",
       "      <td>118</td>\n",
       "      <td>2121</td>\n",
       "      <td>0.084075</td>\n",
       "      <td>0.087112</td>\n",
       "      <td>2398</td>\n",
       "      <td>0.010830</td>\n",
       "      <td>0.055634</td>\n",
       "      <td>93.501805</td>\n",
       "      <td>61.291843</td>\n",
       "      <td>32.210</td>\n",
       "    </tr>\n",
       "    <tr>\n",
       "      <th>6</th>\n",
       "      <td>(0.081, 0.0841]</td>\n",
       "      <td>6</td>\n",
       "      <td>277</td>\n",
       "      <td>112</td>\n",
       "      <td>2121</td>\n",
       "      <td>0.080998</td>\n",
       "      <td>0.084066</td>\n",
       "      <td>2398</td>\n",
       "      <td>0.021661</td>\n",
       "      <td>0.052805</td>\n",
       "      <td>95.667870</td>\n",
       "      <td>66.572372</td>\n",
       "      <td>29.095</td>\n",
       "    </tr>\n",
       "    <tr>\n",
       "      <th>5</th>\n",
       "      <td>(0.0792, 0.081]</td>\n",
       "      <td>1</td>\n",
       "      <td>277</td>\n",
       "      <td>81</td>\n",
       "      <td>2121</td>\n",
       "      <td>0.079178</td>\n",
       "      <td>0.080982</td>\n",
       "      <td>2398</td>\n",
       "      <td>0.003610</td>\n",
       "      <td>0.038190</td>\n",
       "      <td>96.028881</td>\n",
       "      <td>70.391325</td>\n",
       "      <td>25.638</td>\n",
       "    </tr>\n",
       "    <tr>\n",
       "      <th>4</th>\n",
       "      <td>(0.079, 0.0792]</td>\n",
       "      <td>2</td>\n",
       "      <td>277</td>\n",
       "      <td>152</td>\n",
       "      <td>2121</td>\n",
       "      <td>0.079106</td>\n",
       "      <td>0.079163</td>\n",
       "      <td>2398</td>\n",
       "      <td>0.007220</td>\n",
       "      <td>0.071664</td>\n",
       "      <td>96.750903</td>\n",
       "      <td>77.557756</td>\n",
       "      <td>19.193</td>\n",
       "    </tr>\n",
       "    <tr>\n",
       "      <th>3</th>\n",
       "      <td>(0.0781, 0.079]</td>\n",
       "      <td>4</td>\n",
       "      <td>277</td>\n",
       "      <td>95</td>\n",
       "      <td>2121</td>\n",
       "      <td>0.078094</td>\n",
       "      <td>0.079008</td>\n",
       "      <td>2398</td>\n",
       "      <td>0.014440</td>\n",
       "      <td>0.044790</td>\n",
       "      <td>98.194946</td>\n",
       "      <td>82.036775</td>\n",
       "      <td>16.158</td>\n",
       "    </tr>\n",
       "    <tr>\n",
       "      <th>2</th>\n",
       "      <td>(0.0775, 0.0781]</td>\n",
       "      <td>0</td>\n",
       "      <td>277</td>\n",
       "      <td>146</td>\n",
       "      <td>2121</td>\n",
       "      <td>0.077523</td>\n",
       "      <td>0.078051</td>\n",
       "      <td>2398</td>\n",
       "      <td>0.000000</td>\n",
       "      <td>0.068835</td>\n",
       "      <td>98.194946</td>\n",
       "      <td>88.920321</td>\n",
       "      <td>9.275</td>\n",
       "    </tr>\n",
       "    <tr>\n",
       "      <th>0</th>\n",
       "      <td>(0.0759, 0.0774]</td>\n",
       "      <td>5</td>\n",
       "      <td>277</td>\n",
       "      <td>235</td>\n",
       "      <td>2121</td>\n",
       "      <td>0.076947</td>\n",
       "      <td>0.077440</td>\n",
       "      <td>2398</td>\n",
       "      <td>0.018051</td>\n",
       "      <td>0.110797</td>\n",
       "      <td>100.000000</td>\n",
       "      <td>100.000000</td>\n",
       "      <td>0.000</td>\n",
       "    </tr>\n",
       "    <tr>\n",
       "      <th>1</th>\n",
       "      <td>(0.0774, 0.0775]</td>\n",
       "      <td>0</td>\n",
       "      <td>277</td>\n",
       "      <td>0</td>\n",
       "      <td>2121</td>\n",
       "      <td>NaN</td>\n",
       "      <td>NaN</td>\n",
       "      <td>2398</td>\n",
       "      <td>0.000000</td>\n",
       "      <td>0.000000</td>\n",
       "      <td>100.000000</td>\n",
       "      <td>100.000000</td>\n",
       "      <td>0.000</td>\n",
       "    </tr>\n",
       "  </tbody>\n",
       "</table>\n",
       "</div>"
      ],
      "text/plain": [
       "              bucket  Num_Attritors  Total_Attritors  Num_Non_Attritors  \\\n",
       "19     (0.414, 0.91]             80              277                 40   \n",
       "18    (0.288, 0.414]             44              277                 76   \n",
       "17    (0.214, 0.288]             23              277                 97   \n",
       "16    (0.172, 0.214]             23              277                 94   \n",
       "15    (0.147, 0.172]             12              277                111   \n",
       "14    (0.133, 0.147]             14              277                106   \n",
       "13     (0.12, 0.133]              8              277                111   \n",
       "12     (0.109, 0.12]             10              277                110   \n",
       "11    (0.102, 0.109]             11              277                109   \n",
       "10   (0.0958, 0.102]              9              277                111   \n",
       "9   (0.0908, 0.0958]             15              277                105   \n",
       "8   (0.0871, 0.0908]              7              277                112   \n",
       "7   (0.0841, 0.0871]              3              277                118   \n",
       "6    (0.081, 0.0841]              6              277                112   \n",
       "5    (0.0792, 0.081]              1              277                 81   \n",
       "4    (0.079, 0.0792]              2              277                152   \n",
       "3    (0.0781, 0.079]              4              277                 95   \n",
       "2   (0.0775, 0.0781]              0              277                146   \n",
       "0   (0.0759, 0.0774]              5              277                235   \n",
       "1   (0.0774, 0.0775]              0              277                  0   \n",
       "\n",
       "    Total_Non_Attritors  Minimum_Predicted_Score  Maximum_Predicted_Score  \\\n",
       "19                 2121                 0.416642                 0.910405   \n",
       "18                 2121                 0.288858                 0.413798   \n",
       "17                 2121                 0.214701                 0.287565   \n",
       "16                 2121                 0.171793                 0.214306   \n",
       "15                 2121                 0.147014                 0.171772   \n",
       "14                 2121                 0.133309                 0.147009   \n",
       "13                 2121                 0.120273                 0.132761   \n",
       "12                 2121                 0.109392                 0.120256   \n",
       "11                 2121                 0.101696                 0.109363   \n",
       "10                 2121                 0.095777                 0.101678   \n",
       "9                  2121                 0.090847                 0.095776   \n",
       "8                  2121                 0.087227                 0.090783   \n",
       "7                  2121                 0.084075                 0.087112   \n",
       "6                  2121                 0.080998                 0.084066   \n",
       "5                  2121                 0.079178                 0.080982   \n",
       "4                  2121                 0.079106                 0.079163   \n",
       "3                  2121                 0.078094                 0.079008   \n",
       "2                  2121                 0.077523                 0.078051   \n",
       "0                  2121                 0.076947                 0.077440   \n",
       "1                  2121                      NaN                      NaN   \n",
       "\n",
       "    Total_cust  Attrition_Rate  NonAttrition_Rate  Cummul_Attrition_Rate  \\\n",
       "19        2398        0.288809           0.018859              28.880866   \n",
       "18        2398        0.158845           0.035832              44.765343   \n",
       "17        2398        0.083032           0.045733              53.068592   \n",
       "16        2398        0.083032           0.044319              61.371841   \n",
       "15        2398        0.043321           0.052334              65.703971   \n",
       "14        2398        0.050542           0.049976              70.758123   \n",
       "13        2398        0.028881           0.052334              73.646209   \n",
       "12        2398        0.036101           0.051862              77.256318   \n",
       "11        2398        0.039711           0.051391              81.227437   \n",
       "10        2398        0.032491           0.052334              84.476534   \n",
       "9         2398        0.054152           0.049505              89.891697   \n",
       "8         2398        0.025271           0.052805              92.418773   \n",
       "7         2398        0.010830           0.055634              93.501805   \n",
       "6         2398        0.021661           0.052805              95.667870   \n",
       "5         2398        0.003610           0.038190              96.028881   \n",
       "4         2398        0.007220           0.071664              96.750903   \n",
       "3         2398        0.014440           0.044790              98.194946   \n",
       "2         2398        0.000000           0.068835              98.194946   \n",
       "0         2398        0.018051           0.110797             100.000000   \n",
       "1         2398        0.000000           0.000000             100.000000   \n",
       "\n",
       "    Cummul_NonAttrition_Rate      KS  \n",
       "19                  1.885903  26.995  \n",
       "18                  5.469118  39.296  \n",
       "17                 10.042433  43.026  \n",
       "16                 14.474305  46.898  \n",
       "15                 19.707685  45.996  \n",
       "14                 24.705328  46.053  \n",
       "13                 29.938708  43.708  \n",
       "12                 35.124941  42.131  \n",
       "11                 40.264026  40.963  \n",
       "10                 45.497407  38.979  \n",
       "9                  50.447902  39.444  \n",
       "8                  55.728430  36.690  \n",
       "7                  61.291843  32.210  \n",
       "6                  66.572372  29.095  \n",
       "5                  70.391325  25.638  \n",
       "4                  77.557756  19.193  \n",
       "3                  82.036775  16.158  \n",
       "2                  88.920321   9.275  \n",
       "0                 100.000000   0.000  \n",
       "1                 100.000000   0.000  "
      ]
     },
     "execution_count": 152,
     "metadata": {},
     "output_type": "execute_result"
    }
   ],
   "source": [
    "agg8"
   ]
  },
  {
   "cell_type": "code",
   "execution_count": 154,
   "metadata": {},
   "outputs": [
    {
     "data": {
      "text/plain": [
       "<matplotlib.legend.Legend at 0x7f2aabecedf0>"
      ]
     },
     "execution_count": 154,
     "metadata": {},
     "output_type": "execute_result"
    },
    {
     "data": {
      "image/png": "[encoded data removed]",
      "text/plain": [
       "<Figure size 432x288 with 1 Axes>"
      ]
     },
     "metadata": {
      "needs_background": "light"
     },
     "output_type": "display_data"
    }
   ],
   "source": [
    "agg8['Base %'] = [5, 10, 15, 20, 25,30,35,40,45,50,55,60,65,70,75,80,85,90,95,100]\n",
    "gains = agg8.filter(['Base %','Cummul_Attrition_Rate','Cummul_NonAttrition_Rate'])\n",
    "gains_chart = gains.plot(kind='line',use_index=False)\n",
    "gains_chart.set_ylabel(\"Cumulative Percentage\",fontsize=12)\n",
    "gains_chart.set_xlabel(\"Decile\",fontsize=12)\n",
    "gains_chart.set_title(\"Gains Chart\")\n",
    "gains_chart.legend(loc='lower right')"
   ]
  },
  {
   "cell_type": "code",
   "execution_count": null,
   "metadata": {},
   "outputs": [],
   "source": []
  },
  {
   "cell_type": "code",
   "execution_count": null,
   "metadata": {},
   "outputs": [],
   "source": []
  },
  {
   "cell_type": "code",
   "execution_count": null,
   "metadata": {},
   "outputs": [],
   "source": []
  },
  {
   "cell_type": "code",
   "execution_count": null,
   "metadata": {},
   "outputs": [],
   "source": []
  },
  {
   "cell_type": "code",
   "execution_count": null,
   "metadata": {},
   "outputs": [],
   "source": []
  },
  {
   "cell_type": "code",
   "execution_count": null,
   "metadata": {},
   "outputs": [],
   "source": []
  },
  {
   "cell_type": "code",
   "execution_count": null,
   "metadata": {},
   "outputs": [],
   "source": []
  }
 ],
 "metadata": {
  "kernelspec": {
   "display_name": "Python 3",
   "language": "python",
   "name": "python3"
  },
  "language_info": {
   "codemirror_mode": {
    "name": "ipython",
    "version": 3
   },
   "file_extension": ".py",
   "mimetype": "text/x-python",
   "name": "python",
   "nbconvert_exporter": "python",
   "pygments_lexer": "ipython3",
   "version": "3.8.3"
  }
 },
 "nbformat": 4,
 "nbformat_minor": 4
}
